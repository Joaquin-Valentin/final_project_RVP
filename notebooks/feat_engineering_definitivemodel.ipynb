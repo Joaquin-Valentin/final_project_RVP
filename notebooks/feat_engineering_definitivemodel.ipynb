{
 "cells": [
  {
   "cell_type": "code",
   "execution_count": 1,
   "metadata": {
    "id": "f3Yoq-19QMRv"
   },
   "outputs": [],
   "source": [
    "import pandas as pd\n",
    "import numpy as np\n",
    "import matplotlib.pyplot as plt\n",
    "import seaborn as sns"
   ]
  },
  {
   "cell_type": "code",
   "execution_count": 2,
   "metadata": {},
   "outputs": [],
   "source": [
    "import scipy.stats as st"
   ]
  },
  {
   "cell_type": "code",
   "execution_count": 3,
   "metadata": {},
   "outputs": [
    {
     "name": "stdout",
     "output_type": "stream",
     "text": [
      "(5144, 42)\n"
     ]
    }
   ],
   "source": [
    "google_public = pd.read_csv('google_public_reviews.csv')\n",
    "google_public.drop('Unnamed: 0', axis=1, inplace=True)\n",
    "google_public.head()\n",
    "print(google_public.shape)"
   ]
  },
  {
   "cell_type": "code",
   "execution_count": 4,
   "metadata": {
    "colab": {
     "base_uri": "https://localhost:8080/",
     "height": 322
    },
    "id": "DCFMOHtAPpCJ",
    "outputId": "967e6272-18b9-4388-abe4-a34e05cc17f2"
   },
   "outputs": [
    {
     "name": "stdout",
     "output_type": "stream",
     "text": [
      "(5133, 44)\n"
     ]
    }
   ],
   "source": [
    "google = pd.read_csv('googlew.csv')\n",
    "google.drop('Unnamed: 0', axis=1, inplace=True)\n",
    "google.head()\n",
    "print(google.shape)"
   ]
  },
  {
   "cell_type": "code",
   "execution_count": 5,
   "metadata": {},
   "outputs": [],
   "source": [
    "google = pd.merge(google_public, google[['zipcode','share_tourists_zipcode']], left_on=\"zip_code\", right_on='zipcode', how='left')"
   ]
  },
  {
   "cell_type": "code",
   "execution_count": 6,
   "metadata": {},
   "outputs": [],
   "source": [
    "google.drop_duplicates(subset='result.place_id', inplace=True)"
   ]
  },
  {
   "cell_type": "code",
   "execution_count": 7,
   "metadata": {},
   "outputs": [],
   "source": [
    "google.reset_index(drop=True, inplace=True)"
   ]
  },
  {
   "cell_type": "code",
   "execution_count": 8,
   "metadata": {},
   "outputs": [
    {
     "data": {
      "text/html": [
       "<div>\n",
       "<style scoped>\n",
       "    .dataframe tbody tr th:only-of-type {\n",
       "        vertical-align: middle;\n",
       "    }\n",
       "\n",
       "    .dataframe tbody tr th {\n",
       "        vertical-align: top;\n",
       "    }\n",
       "\n",
       "    .dataframe thead th {\n",
       "        text-align: right;\n",
       "    }\n",
       "</style>\n",
       "<table border=\"1\" class=\"dataframe\">\n",
       "  <thead>\n",
       "    <tr style=\"text-align: right;\">\n",
       "      <th></th>\n",
       "      <th>result.business_status</th>\n",
       "      <th>result.delivery</th>\n",
       "      <th>result.dine_in</th>\n",
       "      <th>result.name</th>\n",
       "      <th>result.place_id</th>\n",
       "      <th>result.rating</th>\n",
       "      <th>result.reservable</th>\n",
       "      <th>result.serves_beer</th>\n",
       "      <th>result.serves_breakfast</th>\n",
       "      <th>result.serves_brunch</th>\n",
       "      <th>...</th>\n",
       "      <th>total_population</th>\n",
       "      <th>restaurants_per_district_area</th>\n",
       "      <th>share_year_budget_rest_per_household</th>\n",
       "      <th>share_local_pop</th>\n",
       "      <th>share_of_surface_in_KM2</th>\n",
       "      <th>Restaurant Place ID</th>\n",
       "      <th>Sentiment Score</th>\n",
       "      <th>Sentiment</th>\n",
       "      <th>zipcode</th>\n",
       "      <th>share_tourists_zipcode</th>\n",
       "    </tr>\n",
       "  </thead>\n",
       "  <tbody>\n",
       "    <tr>\n",
       "      <th>0</th>\n",
       "      <td>OPERATIONAL</td>\n",
       "      <td>True</td>\n",
       "      <td>1</td>\n",
       "      <td>restaurante la dehesa</td>\n",
       "      <td>ChIJe8y4CKAuQg0RC4YervOOVLg</td>\n",
       "      <td>4.0</td>\n",
       "      <td>True</td>\n",
       "      <td>1</td>\n",
       "      <td>1</td>\n",
       "      <td>1</td>\n",
       "      <td>...</td>\n",
       "      <td>195017</td>\n",
       "      <td>37.688442</td>\n",
       "      <td>17.863179</td>\n",
       "      <td>200.017436</td>\n",
       "      <td>0.026533</td>\n",
       "      <td>ChIJe8y4CKAuQg0RC4YervOOVLg</td>\n",
       "      <td>0.71114</td>\n",
       "      <td>Good</td>\n",
       "      <td>28050.0</td>\n",
       "      <td>8.058517</td>\n",
       "    </tr>\n",
       "    <tr>\n",
       "      <th>1</th>\n",
       "      <td>OPERATIONAL</td>\n",
       "      <td>True</td>\n",
       "      <td>1</td>\n",
       "      <td>casa corrochano</td>\n",
       "      <td>ChIJjWIe0PMrQg0RXJxYC8mlRcM</td>\n",
       "      <td>4.1</td>\n",
       "      <td>True</td>\n",
       "      <td>1</td>\n",
       "      <td>1</td>\n",
       "      <td>1</td>\n",
       "      <td>...</td>\n",
       "      <td>195017</td>\n",
       "      <td>37.688442</td>\n",
       "      <td>17.863179</td>\n",
       "      <td>200.017436</td>\n",
       "      <td>0.026533</td>\n",
       "      <td>ChIJjWIe0PMrQg0RXJxYC8mlRcM</td>\n",
       "      <td>0.40254</td>\n",
       "      <td>Good</td>\n",
       "      <td>28050.0</td>\n",
       "      <td>8.058517</td>\n",
       "    </tr>\n",
       "    <tr>\n",
       "      <th>2</th>\n",
       "      <td>OPERATIONAL</td>\n",
       "      <td>Unknown</td>\n",
       "      <td>1</td>\n",
       "      <td>la mano de pablo</td>\n",
       "      <td>ChIJmw6_CKAuQg0RY9Kcr3tR5OQ</td>\n",
       "      <td>4.4</td>\n",
       "      <td>True</td>\n",
       "      <td>1</td>\n",
       "      <td>0</td>\n",
       "      <td>1</td>\n",
       "      <td>...</td>\n",
       "      <td>195017</td>\n",
       "      <td>37.688442</td>\n",
       "      <td>17.863179</td>\n",
       "      <td>200.017436</td>\n",
       "      <td>0.026533</td>\n",
       "      <td>ChIJmw6_CKAuQg0RY9Kcr3tR5OQ</td>\n",
       "      <td>0.38708</td>\n",
       "      <td>Good</td>\n",
       "      <td>28050.0</td>\n",
       "      <td>8.058517</td>\n",
       "    </tr>\n",
       "    <tr>\n",
       "      <th>3</th>\n",
       "      <td>OPERATIONAL</td>\n",
       "      <td>False</td>\n",
       "      <td>1</td>\n",
       "      <td>el oso</td>\n",
       "      <td>ChIJsxAsqggsQg0Rz1mITdkhDaY</td>\n",
       "      <td>4.1</td>\n",
       "      <td>True</td>\n",
       "      <td>1</td>\n",
       "      <td>1</td>\n",
       "      <td>1</td>\n",
       "      <td>...</td>\n",
       "      <td>195017</td>\n",
       "      <td>37.688442</td>\n",
       "      <td>17.863179</td>\n",
       "      <td>200.017436</td>\n",
       "      <td>0.026533</td>\n",
       "      <td>ChIJsxAsqggsQg0Rz1mITdkhDaY</td>\n",
       "      <td>0.78602</td>\n",
       "      <td>Good</td>\n",
       "      <td>28050.0</td>\n",
       "      <td>8.058517</td>\n",
       "    </tr>\n",
       "    <tr>\n",
       "      <th>4</th>\n",
       "      <td>OPERATIONAL</td>\n",
       "      <td>Unknown</td>\n",
       "      <td>1</td>\n",
       "      <td>domino</td>\n",
       "      <td>ChIJjd0Nhu0rQg0R1Q0k5TsewKg</td>\n",
       "      <td>3.7</td>\n",
       "      <td>True</td>\n",
       "      <td>1</td>\n",
       "      <td>1</td>\n",
       "      <td>1</td>\n",
       "      <td>...</td>\n",
       "      <td>195017</td>\n",
       "      <td>37.688442</td>\n",
       "      <td>17.863179</td>\n",
       "      <td>200.017436</td>\n",
       "      <td>0.026533</td>\n",
       "      <td>ChIJjd0Nhu0rQg0R1Q0k5TsewKg</td>\n",
       "      <td>0.22376</td>\n",
       "      <td>Neutral</td>\n",
       "      <td>28050.0</td>\n",
       "      <td>8.058517</td>\n",
       "    </tr>\n",
       "    <tr>\n",
       "      <th>...</th>\n",
       "      <td>...</td>\n",
       "      <td>...</td>\n",
       "      <td>...</td>\n",
       "      <td>...</td>\n",
       "      <td>...</td>\n",
       "      <td>...</td>\n",
       "      <td>...</td>\n",
       "      <td>...</td>\n",
       "      <td>...</td>\n",
       "      <td>...</td>\n",
       "      <td>...</td>\n",
       "      <td>...</td>\n",
       "      <td>...</td>\n",
       "      <td>...</td>\n",
       "      <td>...</td>\n",
       "      <td>...</td>\n",
       "      <td>...</td>\n",
       "      <td>...</td>\n",
       "      <td>...</td>\n",
       "      <td>...</td>\n",
       "      <td>...</td>\n",
       "    </tr>\n",
       "    <tr>\n",
       "      <th>5139</th>\n",
       "      <td>OPERATIONAL</td>\n",
       "      <td>False</td>\n",
       "      <td>1</td>\n",
       "      <td>el rincon de paula ii</td>\n",
       "      <td>ChIJp_7UKJ0nQg0RnQKlxWxzKhM</td>\n",
       "      <td>4.3</td>\n",
       "      <td>True</td>\n",
       "      <td>1</td>\n",
       "      <td>1</td>\n",
       "      <td>1</td>\n",
       "      <td>...</td>\n",
       "      <td>153829</td>\n",
       "      <td>23.701138</td>\n",
       "      <td>15.207933</td>\n",
       "      <td>321.146138</td>\n",
       "      <td>0.042192</td>\n",
       "      <td>ChIJp_7UKJ0nQg0RnQKlxWxzKhM</td>\n",
       "      <td>0.40792</td>\n",
       "      <td>Good</td>\n",
       "      <td>28021.0</td>\n",
       "      <td>8.209144</td>\n",
       "    </tr>\n",
       "    <tr>\n",
       "      <th>5140</th>\n",
       "      <td>OPERATIONAL</td>\n",
       "      <td>False</td>\n",
       "      <td>1</td>\n",
       "      <td>casa domingo</td>\n",
       "      <td>ChIJHxgHwjEnQg0RpkM-ghqQ_Pk</td>\n",
       "      <td>4.4</td>\n",
       "      <td>True</td>\n",
       "      <td>1</td>\n",
       "      <td>1</td>\n",
       "      <td>1</td>\n",
       "      <td>...</td>\n",
       "      <td>153829</td>\n",
       "      <td>23.701138</td>\n",
       "      <td>15.207933</td>\n",
       "      <td>321.146138</td>\n",
       "      <td>0.042192</td>\n",
       "      <td>ChIJHxgHwjEnQg0RpkM-ghqQ_Pk</td>\n",
       "      <td>-0.04042</td>\n",
       "      <td>Neutral</td>\n",
       "      <td>28021.0</td>\n",
       "      <td>8.209144</td>\n",
       "    </tr>\n",
       "    <tr>\n",
       "      <th>5141</th>\n",
       "      <td>OPERATIONAL</td>\n",
       "      <td>False</td>\n",
       "      <td>1</td>\n",
       "      <td>bar la taskita</td>\n",
       "      <td>ChIJ8-lR1yQnQg0RwXHeD5PLr3I</td>\n",
       "      <td>3.0</td>\n",
       "      <td>Unknown</td>\n",
       "      <td>1</td>\n",
       "      <td>1</td>\n",
       "      <td>1</td>\n",
       "      <td>...</td>\n",
       "      <td>153829</td>\n",
       "      <td>23.701138</td>\n",
       "      <td>15.207933</td>\n",
       "      <td>321.146138</td>\n",
       "      <td>0.042192</td>\n",
       "      <td>ChIJ8-lR1yQnQg0RwXHeD5PLr3I</td>\n",
       "      <td>0.18060</td>\n",
       "      <td>Neutral</td>\n",
       "      <td>28021.0</td>\n",
       "      <td>8.209144</td>\n",
       "    </tr>\n",
       "    <tr>\n",
       "      <th>5142</th>\n",
       "      <td>OPERATIONAL</td>\n",
       "      <td>Unknown</td>\n",
       "      <td>1</td>\n",
       "      <td>restaurante lablanca</td>\n",
       "      <td>ChIJ1_rxn8cnQg0RkXO_edn5ygc</td>\n",
       "      <td>4.7</td>\n",
       "      <td>True</td>\n",
       "      <td>1</td>\n",
       "      <td>1</td>\n",
       "      <td>1</td>\n",
       "      <td>...</td>\n",
       "      <td>153829</td>\n",
       "      <td>23.701138</td>\n",
       "      <td>15.207933</td>\n",
       "      <td>321.146138</td>\n",
       "      <td>0.042192</td>\n",
       "      <td>ChIJ1_rxn8cnQg0RkXO_edn5ygc</td>\n",
       "      <td>0.55106</td>\n",
       "      <td>Good</td>\n",
       "      <td>28021.0</td>\n",
       "      <td>8.209144</td>\n",
       "    </tr>\n",
       "    <tr>\n",
       "      <th>5143</th>\n",
       "      <td>OPERATIONAL</td>\n",
       "      <td>True</td>\n",
       "      <td>1</td>\n",
       "      <td>tequeños madrid</td>\n",
       "      <td>ChIJ0WNTrM0nQg0RNTfFPrSejaY</td>\n",
       "      <td>1.0</td>\n",
       "      <td>Unknown</td>\n",
       "      <td>1</td>\n",
       "      <td>1</td>\n",
       "      <td>1</td>\n",
       "      <td>...</td>\n",
       "      <td>153829</td>\n",
       "      <td>23.701138</td>\n",
       "      <td>15.207933</td>\n",
       "      <td>321.146138</td>\n",
       "      <td>0.042192</td>\n",
       "      <td>ChIJ0WNTrM0nQg0RNTfFPrSejaY</td>\n",
       "      <td>-0.29600</td>\n",
       "      <td>Bad</td>\n",
       "      <td>28021.0</td>\n",
       "      <td>8.209144</td>\n",
       "    </tr>\n",
       "  </tbody>\n",
       "</table>\n",
       "<p>5144 rows × 44 columns</p>\n",
       "</div>"
      ],
      "text/plain": [
       "     result.business_status result.delivery  result.dine_in  \\\n",
       "0               OPERATIONAL            True               1   \n",
       "1               OPERATIONAL            True               1   \n",
       "2               OPERATIONAL         Unknown               1   \n",
       "3               OPERATIONAL           False               1   \n",
       "4               OPERATIONAL         Unknown               1   \n",
       "...                     ...             ...             ...   \n",
       "5139            OPERATIONAL           False               1   \n",
       "5140            OPERATIONAL           False               1   \n",
       "5141            OPERATIONAL           False               1   \n",
       "5142            OPERATIONAL         Unknown               1   \n",
       "5143            OPERATIONAL            True               1   \n",
       "\n",
       "                result.name              result.place_id  result.rating  \\\n",
       "0     restaurante la dehesa  ChIJe8y4CKAuQg0RC4YervOOVLg            4.0   \n",
       "1           casa corrochano  ChIJjWIe0PMrQg0RXJxYC8mlRcM            4.1   \n",
       "2          la mano de pablo  ChIJmw6_CKAuQg0RY9Kcr3tR5OQ            4.4   \n",
       "3                    el oso  ChIJsxAsqggsQg0Rz1mITdkhDaY            4.1   \n",
       "4                    domino  ChIJjd0Nhu0rQg0R1Q0k5TsewKg            3.7   \n",
       "...                     ...                          ...            ...   \n",
       "5139  el rincon de paula ii  ChIJp_7UKJ0nQg0RnQKlxWxzKhM            4.3   \n",
       "5140           casa domingo  ChIJHxgHwjEnQg0RpkM-ghqQ_Pk            4.4   \n",
       "5141         bar la taskita  ChIJ8-lR1yQnQg0RwXHeD5PLr3I            3.0   \n",
       "5142   restaurante lablanca  ChIJ1_rxn8cnQg0RkXO_edn5ygc            4.7   \n",
       "5143        tequeños madrid  ChIJ0WNTrM0nQg0RNTfFPrSejaY            1.0   \n",
       "\n",
       "     result.reservable  result.serves_beer  result.serves_breakfast  \\\n",
       "0                 True                   1                        1   \n",
       "1                 True                   1                        1   \n",
       "2                 True                   1                        0   \n",
       "3                 True                   1                        1   \n",
       "4                 True                   1                        1   \n",
       "...                ...                 ...                      ...   \n",
       "5139              True                   1                        1   \n",
       "5140              True                   1                        1   \n",
       "5141           Unknown                   1                        1   \n",
       "5142              True                   1                        1   \n",
       "5143           Unknown                   1                        1   \n",
       "\n",
       "      result.serves_brunch  ...  total_population  \\\n",
       "0                        1  ...            195017   \n",
       "1                        1  ...            195017   \n",
       "2                        1  ...            195017   \n",
       "3                        1  ...            195017   \n",
       "4                        1  ...            195017   \n",
       "...                    ...  ...               ...   \n",
       "5139                     1  ...            153829   \n",
       "5140                     1  ...            153829   \n",
       "5141                     1  ...            153829   \n",
       "5142                     1  ...            153829   \n",
       "5143                     1  ...            153829   \n",
       "\n",
       "      restaurants_per_district_area  share_year_budget_rest_per_household  \\\n",
       "0                         37.688442                             17.863179   \n",
       "1                         37.688442                             17.863179   \n",
       "2                         37.688442                             17.863179   \n",
       "3                         37.688442                             17.863179   \n",
       "4                         37.688442                             17.863179   \n",
       "...                             ...                                   ...   \n",
       "5139                      23.701138                             15.207933   \n",
       "5140                      23.701138                             15.207933   \n",
       "5141                      23.701138                             15.207933   \n",
       "5142                      23.701138                             15.207933   \n",
       "5143                      23.701138                             15.207933   \n",
       "\n",
       "      share_local_pop  share_of_surface_in_KM2          Restaurant Place ID  \\\n",
       "0          200.017436                 0.026533  ChIJe8y4CKAuQg0RC4YervOOVLg   \n",
       "1          200.017436                 0.026533  ChIJjWIe0PMrQg0RXJxYC8mlRcM   \n",
       "2          200.017436                 0.026533  ChIJmw6_CKAuQg0RY9Kcr3tR5OQ   \n",
       "3          200.017436                 0.026533  ChIJsxAsqggsQg0Rz1mITdkhDaY   \n",
       "4          200.017436                 0.026533  ChIJjd0Nhu0rQg0R1Q0k5TsewKg   \n",
       "...               ...                      ...                          ...   \n",
       "5139       321.146138                 0.042192  ChIJp_7UKJ0nQg0RnQKlxWxzKhM   \n",
       "5140       321.146138                 0.042192  ChIJHxgHwjEnQg0RpkM-ghqQ_Pk   \n",
       "5141       321.146138                 0.042192  ChIJ8-lR1yQnQg0RwXHeD5PLr3I   \n",
       "5142       321.146138                 0.042192  ChIJ1_rxn8cnQg0RkXO_edn5ygc   \n",
       "5143       321.146138                 0.042192  ChIJ0WNTrM0nQg0RNTfFPrSejaY   \n",
       "\n",
       "     Sentiment Score  Sentiment  zipcode  share_tourists_zipcode  \n",
       "0            0.71114       Good  28050.0                8.058517  \n",
       "1            0.40254       Good  28050.0                8.058517  \n",
       "2            0.38708       Good  28050.0                8.058517  \n",
       "3            0.78602       Good  28050.0                8.058517  \n",
       "4            0.22376    Neutral  28050.0                8.058517  \n",
       "...              ...        ...      ...                     ...  \n",
       "5139         0.40792       Good  28021.0                8.209144  \n",
       "5140        -0.04042    Neutral  28021.0                8.209144  \n",
       "5141         0.18060    Neutral  28021.0                8.209144  \n",
       "5142         0.55106       Good  28021.0                8.209144  \n",
       "5143        -0.29600        Bad  28021.0                8.209144  \n",
       "\n",
       "[5144 rows x 44 columns]"
      ]
     },
     "execution_count": 8,
     "metadata": {},
     "output_type": "execute_result"
    }
   ],
   "source": [
    "google"
   ]
  },
  {
   "cell_type": "code",
   "execution_count": 9,
   "metadata": {},
   "outputs": [],
   "source": [
    "google.drop(columns=['result.wheelchair_accessible_entrance','establishment',\n",
    "       'point_of_interest', 'food', 'restaurant', 'bar', 'store',\n",
    "       'meal_takeaway', 'cafe', 'meal_delivery', 'bakery', 'liquor_store',\n",
    "       'night_club','zipcode','Restaurant Place ID'], axis=1, inplace=True)"
   ]
  },
  {
   "cell_type": "code",
   "execution_count": 10,
   "metadata": {},
   "outputs": [
    {
     "data": {
      "text/plain": [
       "Index(['result.business_status', 'result.delivery', 'result.dine_in',\n",
       "       'result.name', 'result.place_id', 'result.rating', 'result.reservable',\n",
       "       'result.serves_beer', 'result.serves_breakfast', 'result.serves_brunch',\n",
       "       'result.serves_dinner', 'result.serves_lunch',\n",
       "       'result.serves_vegetarian_food', 'result.serves_wine', 'result.takeout',\n",
       "       'result.user_ratings_total', 'result.website', 'zip_code',\n",
       "       'price_level', 'success', 'distrito', 'total_population',\n",
       "       'restaurants_per_district_area', 'share_year_budget_rest_per_household',\n",
       "       'share_local_pop', 'share_of_surface_in_KM2', 'Sentiment Score',\n",
       "       'Sentiment', 'share_tourists_zipcode'],\n",
       "      dtype='object')"
      ]
     },
     "execution_count": 10,
     "metadata": {},
     "output_type": "execute_result"
    }
   ],
   "source": [
    "google.columns"
   ]
  },
  {
   "cell_type": "code",
   "execution_count": 11,
   "metadata": {
    "id": "biO8JFSiKDqO"
   },
   "outputs": [],
   "source": [
    "google['result.reservable'] = google['result.reservable'].map({'True': 1, 'Unknown': 0, 'False': 0})"
   ]
  },
  {
   "cell_type": "code",
   "execution_count": 12,
   "metadata": {
    "id": "s0RAA5-oY3_5"
   },
   "outputs": [],
   "source": [
    "boolean_cols = google.select_dtypes(include=['bool']).columns\n",
    "google[boolean_cols] = google[boolean_cols].astype(int)"
   ]
  },
  {
   "cell_type": "code",
   "execution_count": 13,
   "metadata": {},
   "outputs": [],
   "source": [
    "google['share_tourists_zipcode'] = google['share_tourists_zipcode'].fillna(google['share_tourists_zipcode'].mean())"
   ]
  },
  {
   "cell_type": "code",
   "execution_count": 14,
   "metadata": {},
   "outputs": [],
   "source": [
    "google['result.business_status'] = google['result.business_status'].map({'OPERATIONAL': 1, 'CLOSED_TEMPORARILY': 0, 'CLOSED_PERMANENTLY': 0})"
   ]
  },
  {
   "cell_type": "code",
   "execution_count": 15,
   "metadata": {
    "colab": {
     "base_uri": "https://localhost:8080/"
    },
    "id": "TtCb-JZtS9Gg",
    "outputId": "91f2ae5d-3521-4ee1-b7a2-a77fd398755c"
   },
   "outputs": [
    {
     "data": {
      "text/plain": [
       "result.business_status                    int64\n",
       "result.delivery                          object\n",
       "result.dine_in                            int64\n",
       "result.name                              object\n",
       "result.place_id                          object\n",
       "result.rating                           float64\n",
       "result.reservable                         int64\n",
       "result.serves_beer                        int64\n",
       "result.serves_breakfast                   int64\n",
       "result.serves_brunch                      int64\n",
       "result.serves_dinner                      int64\n",
       "result.serves_lunch                       int64\n",
       "result.serves_vegetarian_food             int64\n",
       "result.serves_wine                        int64\n",
       "result.takeout                            int64\n",
       "result.user_ratings_total               float64\n",
       "result.website                           object\n",
       "zip_code                                  int64\n",
       "price_level                             float64\n",
       "success                                   int64\n",
       "distrito                                 object\n",
       "total_population                          int64\n",
       "restaurants_per_district_area           float64\n",
       "share_year_budget_rest_per_household    float64\n",
       "share_local_pop                         float64\n",
       "share_of_surface_in_KM2                 float64\n",
       "Sentiment Score                         float64\n",
       "Sentiment                                object\n",
       "share_tourists_zipcode                  float64\n",
       "dtype: object"
      ]
     },
     "execution_count": 15,
     "metadata": {},
     "output_type": "execute_result"
    }
   ],
   "source": [
    "google.dtypes"
   ]
  },
  {
   "cell_type": "code",
   "execution_count": 16,
   "metadata": {
    "id": "LT8IWpX3S6eB"
   },
   "outputs": [],
   "source": [
    "def t_test_features(s1, s2, features=['result.business_status','result.rating','result.user_ratings_total','price_level','result.reservable','success','result.serves_vegetarian_food',\n",
    "                                      'result.takeout', 'share_year_budget_rest_per_household',\n",
    "                                      'share_local_pop','Sentiment Score','restaurants_per_district_area',\n",
    "                                      'result.serves_beer','result.serves_breakfast','result.serves_dinner', 'result.serves_lunch','result.serves_wine']):\n",
    "    \"\"\"Test means of a feature set of two samples\n",
    "    \n",
    "    Args:\n",
    "        s1 (dataframe): sample 1\n",
    "        s2 (dataframe): sample 2\n",
    "        features (list): an array of features to test\n",
    "    \n",
    "    Returns:\n",
    "        dict: a dictionary of t-test scores for each feature where the feature name is the key and the p-value is the value\n",
    "    \"\"\"\n",
    "    results = {}\n",
    "\n",
    "    # Your code here\n",
    "    #dictionary comprehension to return first the feature and then the computed p-value for each feature\n",
    "    results = {f:st.ttest_ind(s1[f],s2[f])[1] for f in features}\n",
    "    return results"
   ]
  },
  {
   "cell_type": "code",
   "execution_count": 17,
   "metadata": {},
   "outputs": [],
   "source": [
    "open_google = google[google['result.business_status']==1]\n",
    "closed_google = google[google['result.business_status']==0]"
   ]
  },
  {
   "cell_type": "code",
   "execution_count": 18,
   "metadata": {},
   "outputs": [
    {
     "data": {
      "text/plain": [
       "28038    13\n",
       "28043    13\n",
       "28010    12\n",
       "28022    11\n",
       "28017    10\n",
       "28001    10\n",
       "28030    10\n",
       "28039     9\n",
       "28042     9\n",
       "28027     9\n",
       "28006     9\n",
       "28019     9\n",
       "28037     9\n",
       "28002     8\n",
       "28004     8\n",
       "28014     8\n",
       "28053     8\n",
       "28020     8\n",
       "28045     7\n",
       "28021     7\n",
       "28032     6\n",
       "28003     6\n",
       "28025     6\n",
       "28036     6\n",
       "28033     6\n",
       "28018     6\n",
       "28009     5\n",
       "28015     5\n",
       "28046     5\n",
       "28011     5\n",
       "28029     5\n",
       "28026     5\n",
       "28007     4\n",
       "28044     4\n",
       "28012     4\n",
       "28031     4\n",
       "28008     3\n",
       "28005     3\n",
       "28050     3\n",
       "28041     2\n",
       "28013     2\n",
       "28034     2\n",
       "28054     2\n",
       "28049     2\n",
       "28016     2\n",
       "28028     1\n",
       "28024     1\n",
       "Name: zip_code, dtype: int64"
      ]
     },
     "execution_count": 18,
     "metadata": {},
     "output_type": "execute_result"
    }
   ],
   "source": [
    "closed_google['zip_code'].value_counts()"
   ]
  },
  {
   "cell_type": "code",
   "execution_count": 19,
   "metadata": {},
   "outputs": [
    {
     "data": {
      "text/html": [
       "<div>\n",
       "<style scoped>\n",
       "    .dataframe tbody tr th:only-of-type {\n",
       "        vertical-align: middle;\n",
       "    }\n",
       "\n",
       "    .dataframe tbody tr th {\n",
       "        vertical-align: top;\n",
       "    }\n",
       "\n",
       "    .dataframe thead th {\n",
       "        text-align: right;\n",
       "    }\n",
       "</style>\n",
       "<table border=\"1\" class=\"dataframe\">\n",
       "  <thead>\n",
       "    <tr style=\"text-align: right;\">\n",
       "      <th></th>\n",
       "      <th>result.business_status</th>\n",
       "      <th>result.dine_in</th>\n",
       "      <th>result.rating</th>\n",
       "      <th>result.reservable</th>\n",
       "      <th>result.serves_beer</th>\n",
       "      <th>result.serves_breakfast</th>\n",
       "      <th>result.serves_brunch</th>\n",
       "      <th>result.serves_dinner</th>\n",
       "      <th>result.serves_lunch</th>\n",
       "      <th>result.serves_vegetarian_food</th>\n",
       "      <th>...</th>\n",
       "      <th>zip_code</th>\n",
       "      <th>price_level</th>\n",
       "      <th>success</th>\n",
       "      <th>total_population</th>\n",
       "      <th>restaurants_per_district_area</th>\n",
       "      <th>share_year_budget_rest_per_household</th>\n",
       "      <th>share_local_pop</th>\n",
       "      <th>share_of_surface_in_KM2</th>\n",
       "      <th>Sentiment Score</th>\n",
       "      <th>share_tourists_zipcode</th>\n",
       "    </tr>\n",
       "  </thead>\n",
       "  <tbody>\n",
       "    <tr>\n",
       "      <th>count</th>\n",
       "      <td>4852.0</td>\n",
       "      <td>4852.000000</td>\n",
       "      <td>4852.000000</td>\n",
       "      <td>4852.000000</td>\n",
       "      <td>4852.000000</td>\n",
       "      <td>4852.000000</td>\n",
       "      <td>4852.000000</td>\n",
       "      <td>4852.000000</td>\n",
       "      <td>4852.000000</td>\n",
       "      <td>4852.000000</td>\n",
       "      <td>...</td>\n",
       "      <td>4852.000000</td>\n",
       "      <td>4852.000000</td>\n",
       "      <td>4852.000000</td>\n",
       "      <td>4852.000000</td>\n",
       "      <td>4852.000000</td>\n",
       "      <td>4852.000000</td>\n",
       "      <td>4852.000000</td>\n",
       "      <td>4852.000000</td>\n",
       "      <td>4852.000000</td>\n",
       "      <td>4852.000000</td>\n",
       "    </tr>\n",
       "    <tr>\n",
       "      <th>mean</th>\n",
       "      <td>1.0</td>\n",
       "      <td>0.989283</td>\n",
       "      <td>4.112758</td>\n",
       "      <td>0.667354</td>\n",
       "      <td>0.983512</td>\n",
       "      <td>0.856142</td>\n",
       "      <td>0.981863</td>\n",
       "      <td>0.992168</td>\n",
       "      <td>0.995672</td>\n",
       "      <td>0.068631</td>\n",
       "      <td>...</td>\n",
       "      <td>28025.579967</td>\n",
       "      <td>1.288541</td>\n",
       "      <td>0.557502</td>\n",
       "      <td>168732.515251</td>\n",
       "      <td>80.694720</td>\n",
       "      <td>21.162044</td>\n",
       "      <td>253.507779</td>\n",
       "      <td>0.042597</td>\n",
       "      <td>0.485759</td>\n",
       "      <td>46.713607</td>\n",
       "    </tr>\n",
       "    <tr>\n",
       "      <th>std</th>\n",
       "      <td>0.0</td>\n",
       "      <td>0.102978</td>\n",
       "      <td>0.503118</td>\n",
       "      <td>0.471210</td>\n",
       "      <td>0.127356</td>\n",
       "      <td>0.350982</td>\n",
       "      <td>0.133460</td>\n",
       "      <td>0.088159</td>\n",
       "      <td>0.065653</td>\n",
       "      <td>0.252853</td>\n",
       "      <td>...</td>\n",
       "      <td>14.630711</td>\n",
       "      <td>0.538756</td>\n",
       "      <td>0.496734</td>\n",
       "      <td>46717.029709</td>\n",
       "      <td>45.436231</td>\n",
       "      <td>9.427731</td>\n",
       "      <td>121.977841</td>\n",
       "      <td>0.102806</td>\n",
       "      <td>0.272817</td>\n",
       "      <td>69.858886</td>\n",
       "    </tr>\n",
       "    <tr>\n",
       "      <th>min</th>\n",
       "      <td>1.0</td>\n",
       "      <td>0.000000</td>\n",
       "      <td>1.000000</td>\n",
       "      <td>0.000000</td>\n",
       "      <td>0.000000</td>\n",
       "      <td>0.000000</td>\n",
       "      <td>0.000000</td>\n",
       "      <td>0.000000</td>\n",
       "      <td>0.000000</td>\n",
       "      <td>0.000000</td>\n",
       "      <td>...</td>\n",
       "      <td>28001.000000</td>\n",
       "      <td>1.000000</td>\n",
       "      <td>0.000000</td>\n",
       "      <td>79328.000000</td>\n",
       "      <td>1.705882</td>\n",
       "      <td>10.819877</td>\n",
       "      <td>114.562049</td>\n",
       "      <td>0.006586</td>\n",
       "      <td>-0.891000</td>\n",
       "      <td>2.723654</td>\n",
       "    </tr>\n",
       "    <tr>\n",
       "      <th>25%</th>\n",
       "      <td>1.0</td>\n",
       "      <td>1.000000</td>\n",
       "      <td>3.900000</td>\n",
       "      <td>0.000000</td>\n",
       "      <td>1.000000</td>\n",
       "      <td>1.000000</td>\n",
       "      <td>1.000000</td>\n",
       "      <td>1.000000</td>\n",
       "      <td>1.000000</td>\n",
       "      <td>0.000000</td>\n",
       "      <td>...</td>\n",
       "      <td>28013.000000</td>\n",
       "      <td>1.000000</td>\n",
       "      <td>0.000000</td>\n",
       "      <td>139682.000000</td>\n",
       "      <td>46.091644</td>\n",
       "      <td>15.225889</td>\n",
       "      <td>174.587537</td>\n",
       "      <td>0.008042</td>\n",
       "      <td>0.318055</td>\n",
       "      <td>6.506507</td>\n",
       "    </tr>\n",
       "    <tr>\n",
       "      <th>50%</th>\n",
       "      <td>1.0</td>\n",
       "      <td>1.000000</td>\n",
       "      <td>4.200000</td>\n",
       "      <td>1.000000</td>\n",
       "      <td>1.000000</td>\n",
       "      <td>1.000000</td>\n",
       "      <td>1.000000</td>\n",
       "      <td>1.000000</td>\n",
       "      <td>1.000000</td>\n",
       "      <td>0.000000</td>\n",
       "      <td>...</td>\n",
       "      <td>28026.000000</td>\n",
       "      <td>1.000000</td>\n",
       "      <td>1.000000</td>\n",
       "      <td>153829.000000</td>\n",
       "      <td>93.636364</td>\n",
       "      <td>17.863179</td>\n",
       "      <td>234.365772</td>\n",
       "      <td>0.010680</td>\n",
       "      <td>0.520030</td>\n",
       "      <td>17.638120</td>\n",
       "    </tr>\n",
       "    <tr>\n",
       "      <th>75%</th>\n",
       "      <td>1.0</td>\n",
       "      <td>1.000000</td>\n",
       "      <td>4.400000</td>\n",
       "      <td>1.000000</td>\n",
       "      <td>1.000000</td>\n",
       "      <td>1.000000</td>\n",
       "      <td>1.000000</td>\n",
       "      <td>1.000000</td>\n",
       "      <td>1.000000</td>\n",
       "      <td>0.000000</td>\n",
       "      <td>...</td>\n",
       "      <td>28038.000000</td>\n",
       "      <td>2.000000</td>\n",
       "      <td>1.000000</td>\n",
       "      <td>213905.000000</td>\n",
       "      <td>124.354244</td>\n",
       "      <td>25.729709</td>\n",
       "      <td>268.656997</td>\n",
       "      <td>0.021696</td>\n",
       "      <td>0.693190</td>\n",
       "      <td>56.669573</td>\n",
       "    </tr>\n",
       "    <tr>\n",
       "      <th>max</th>\n",
       "      <td>1.0</td>\n",
       "      <td>1.000000</td>\n",
       "      <td>5.000000</td>\n",
       "      <td>1.000000</td>\n",
       "      <td>1.000000</td>\n",
       "      <td>1.000000</td>\n",
       "      <td>1.000000</td>\n",
       "      <td>1.000000</td>\n",
       "      <td>1.000000</td>\n",
       "      <td>1.000000</td>\n",
       "      <td>...</td>\n",
       "      <td>28054.000000</td>\n",
       "      <td>4.000000</td>\n",
       "      <td>1.000000</td>\n",
       "      <td>255514.000000</td>\n",
       "      <td>151.840491</td>\n",
       "      <td>57.576108</td>\n",
       "      <td>620.544503</td>\n",
       "      <td>0.586207</td>\n",
       "      <td>0.969400</td>\n",
       "      <td>585.585586</td>\n",
       "    </tr>\n",
       "  </tbody>\n",
       "</table>\n",
       "<p>8 rows × 23 columns</p>\n",
       "</div>"
      ],
      "text/plain": [
       "       result.business_status  result.dine_in  result.rating  \\\n",
       "count                  4852.0     4852.000000    4852.000000   \n",
       "mean                      1.0        0.989283       4.112758   \n",
       "std                       0.0        0.102978       0.503118   \n",
       "min                       1.0        0.000000       1.000000   \n",
       "25%                       1.0        1.000000       3.900000   \n",
       "50%                       1.0        1.000000       4.200000   \n",
       "75%                       1.0        1.000000       4.400000   \n",
       "max                       1.0        1.000000       5.000000   \n",
       "\n",
       "       result.reservable  result.serves_beer  result.serves_breakfast  \\\n",
       "count        4852.000000         4852.000000              4852.000000   \n",
       "mean            0.667354            0.983512                 0.856142   \n",
       "std             0.471210            0.127356                 0.350982   \n",
       "min             0.000000            0.000000                 0.000000   \n",
       "25%             0.000000            1.000000                 1.000000   \n",
       "50%             1.000000            1.000000                 1.000000   \n",
       "75%             1.000000            1.000000                 1.000000   \n",
       "max             1.000000            1.000000                 1.000000   \n",
       "\n",
       "       result.serves_brunch  result.serves_dinner  result.serves_lunch  \\\n",
       "count           4852.000000           4852.000000          4852.000000   \n",
       "mean               0.981863              0.992168             0.995672   \n",
       "std                0.133460              0.088159             0.065653   \n",
       "min                0.000000              0.000000             0.000000   \n",
       "25%                1.000000              1.000000             1.000000   \n",
       "50%                1.000000              1.000000             1.000000   \n",
       "75%                1.000000              1.000000             1.000000   \n",
       "max                1.000000              1.000000             1.000000   \n",
       "\n",
       "       result.serves_vegetarian_food  ...      zip_code  price_level  \\\n",
       "count                    4852.000000  ...   4852.000000  4852.000000   \n",
       "mean                        0.068631  ...  28025.579967     1.288541   \n",
       "std                         0.252853  ...     14.630711     0.538756   \n",
       "min                         0.000000  ...  28001.000000     1.000000   \n",
       "25%                         0.000000  ...  28013.000000     1.000000   \n",
       "50%                         0.000000  ...  28026.000000     1.000000   \n",
       "75%                         0.000000  ...  28038.000000     2.000000   \n",
       "max                         1.000000  ...  28054.000000     4.000000   \n",
       "\n",
       "           success  total_population  restaurants_per_district_area  \\\n",
       "count  4852.000000       4852.000000                    4852.000000   \n",
       "mean      0.557502     168732.515251                      80.694720   \n",
       "std       0.496734      46717.029709                      45.436231   \n",
       "min       0.000000      79328.000000                       1.705882   \n",
       "25%       0.000000     139682.000000                      46.091644   \n",
       "50%       1.000000     153829.000000                      93.636364   \n",
       "75%       1.000000     213905.000000                     124.354244   \n",
       "max       1.000000     255514.000000                     151.840491   \n",
       "\n",
       "       share_year_budget_rest_per_household  share_local_pop  \\\n",
       "count                           4852.000000      4852.000000   \n",
       "mean                              21.162044       253.507779   \n",
       "std                                9.427731       121.977841   \n",
       "min                               10.819877       114.562049   \n",
       "25%                               15.225889       174.587537   \n",
       "50%                               17.863179       234.365772   \n",
       "75%                               25.729709       268.656997   \n",
       "max                               57.576108       620.544503   \n",
       "\n",
       "       share_of_surface_in_KM2  Sentiment Score  share_tourists_zipcode  \n",
       "count              4852.000000      4852.000000             4852.000000  \n",
       "mean                  0.042597         0.485759               46.713607  \n",
       "std                   0.102806         0.272817               69.858886  \n",
       "min                   0.006586        -0.891000                2.723654  \n",
       "25%                   0.008042         0.318055                6.506507  \n",
       "50%                   0.010680         0.520030               17.638120  \n",
       "75%                   0.021696         0.693190               56.669573  \n",
       "max                   0.586207         0.969400              585.585586  \n",
       "\n",
       "[8 rows x 23 columns]"
      ]
     },
     "execution_count": 19,
     "metadata": {},
     "output_type": "execute_result"
    }
   ],
   "source": [
    "open_google.describe()"
   ]
  },
  {
   "cell_type": "code",
   "execution_count": 20,
   "metadata": {},
   "outputs": [
    {
     "data": {
      "text/html": [
       "<div>\n",
       "<style scoped>\n",
       "    .dataframe tbody tr th:only-of-type {\n",
       "        vertical-align: middle;\n",
       "    }\n",
       "\n",
       "    .dataframe tbody tr th {\n",
       "        vertical-align: top;\n",
       "    }\n",
       "\n",
       "    .dataframe thead th {\n",
       "        text-align: right;\n",
       "    }\n",
       "</style>\n",
       "<table border=\"1\" class=\"dataframe\">\n",
       "  <thead>\n",
       "    <tr style=\"text-align: right;\">\n",
       "      <th></th>\n",
       "      <th>result.business_status</th>\n",
       "      <th>result.dine_in</th>\n",
       "      <th>result.rating</th>\n",
       "      <th>result.reservable</th>\n",
       "      <th>result.serves_beer</th>\n",
       "      <th>result.serves_breakfast</th>\n",
       "      <th>result.serves_brunch</th>\n",
       "      <th>result.serves_dinner</th>\n",
       "      <th>result.serves_lunch</th>\n",
       "      <th>result.serves_vegetarian_food</th>\n",
       "      <th>...</th>\n",
       "      <th>zip_code</th>\n",
       "      <th>price_level</th>\n",
       "      <th>success</th>\n",
       "      <th>total_population</th>\n",
       "      <th>restaurants_per_district_area</th>\n",
       "      <th>share_year_budget_rest_per_household</th>\n",
       "      <th>share_local_pop</th>\n",
       "      <th>share_of_surface_in_KM2</th>\n",
       "      <th>Sentiment Score</th>\n",
       "      <th>share_tourists_zipcode</th>\n",
       "    </tr>\n",
       "  </thead>\n",
       "  <tbody>\n",
       "    <tr>\n",
       "      <th>count</th>\n",
       "      <td>292.0</td>\n",
       "      <td>292.000000</td>\n",
       "      <td>292.000000</td>\n",
       "      <td>292.000000</td>\n",
       "      <td>292.000000</td>\n",
       "      <td>292.000000</td>\n",
       "      <td>292.000000</td>\n",
       "      <td>292.000000</td>\n",
       "      <td>292.000000</td>\n",
       "      <td>292.000000</td>\n",
       "      <td>...</td>\n",
       "      <td>292.000000</td>\n",
       "      <td>292.000000</td>\n",
       "      <td>292.0</td>\n",
       "      <td>292.000000</td>\n",
       "      <td>292.000000</td>\n",
       "      <td>292.000000</td>\n",
       "      <td>292.000000</td>\n",
       "      <td>292.000000</td>\n",
       "      <td>292.000000</td>\n",
       "      <td>292.000000</td>\n",
       "    </tr>\n",
       "    <tr>\n",
       "      <th>mean</th>\n",
       "      <td>0.0</td>\n",
       "      <td>0.989726</td>\n",
       "      <td>3.852055</td>\n",
       "      <td>0.178082</td>\n",
       "      <td>0.993151</td>\n",
       "      <td>0.986301</td>\n",
       "      <td>0.982877</td>\n",
       "      <td>0.996575</td>\n",
       "      <td>0.993151</td>\n",
       "      <td>0.099315</td>\n",
       "      <td>...</td>\n",
       "      <td>28024.739726</td>\n",
       "      <td>1.113014</td>\n",
       "      <td>0.0</td>\n",
       "      <td>171688.996575</td>\n",
       "      <td>85.172892</td>\n",
       "      <td>20.622468</td>\n",
       "      <td>251.343632</td>\n",
       "      <td>0.028277</td>\n",
       "      <td>0.373514</td>\n",
       "      <td>49.251304</td>\n",
       "    </tr>\n",
       "    <tr>\n",
       "      <th>std</th>\n",
       "      <td>0.0</td>\n",
       "      <td>0.101012</td>\n",
       "      <td>0.864395</td>\n",
       "      <td>0.383239</td>\n",
       "      <td>0.082618</td>\n",
       "      <td>0.116436</td>\n",
       "      <td>0.129954</td>\n",
       "      <td>0.058521</td>\n",
       "      <td>0.082618</td>\n",
       "      <td>0.299598</td>\n",
       "      <td>...</td>\n",
       "      <td>14.869677</td>\n",
       "      <td>0.394422</td>\n",
       "      <td>0.0</td>\n",
       "      <td>46391.144729</td>\n",
       "      <td>42.772409</td>\n",
       "      <td>8.425680</td>\n",
       "      <td>116.966954</td>\n",
       "      <td>0.071149</td>\n",
       "      <td>0.327669</td>\n",
       "      <td>71.271305</td>\n",
       "    </tr>\n",
       "    <tr>\n",
       "      <th>min</th>\n",
       "      <td>0.0</td>\n",
       "      <td>0.000000</td>\n",
       "      <td>1.000000</td>\n",
       "      <td>0.000000</td>\n",
       "      <td>0.000000</td>\n",
       "      <td>0.000000</td>\n",
       "      <td>0.000000</td>\n",
       "      <td>0.000000</td>\n",
       "      <td>0.000000</td>\n",
       "      <td>0.000000</td>\n",
       "      <td>...</td>\n",
       "      <td>28001.000000</td>\n",
       "      <td>1.000000</td>\n",
       "      <td>0.0</td>\n",
       "      <td>79328.000000</td>\n",
       "      <td>1.705882</td>\n",
       "      <td>10.819877</td>\n",
       "      <td>114.562049</td>\n",
       "      <td>0.006586</td>\n",
       "      <td>-0.680800</td>\n",
       "      <td>2.723654</td>\n",
       "    </tr>\n",
       "    <tr>\n",
       "      <th>25%</th>\n",
       "      <td>0.0</td>\n",
       "      <td>1.000000</td>\n",
       "      <td>3.400000</td>\n",
       "      <td>0.000000</td>\n",
       "      <td>1.000000</td>\n",
       "      <td>1.000000</td>\n",
       "      <td>1.000000</td>\n",
       "      <td>1.000000</td>\n",
       "      <td>1.000000</td>\n",
       "      <td>0.000000</td>\n",
       "      <td>...</td>\n",
       "      <td>28011.750000</td>\n",
       "      <td>1.000000</td>\n",
       "      <td>0.0</td>\n",
       "      <td>139682.000000</td>\n",
       "      <td>46.091644</td>\n",
       "      <td>15.225889</td>\n",
       "      <td>154.179798</td>\n",
       "      <td>0.008042</td>\n",
       "      <td>0.113515</td>\n",
       "      <td>6.142506</td>\n",
       "    </tr>\n",
       "    <tr>\n",
       "      <th>50%</th>\n",
       "      <td>0.0</td>\n",
       "      <td>1.000000</td>\n",
       "      <td>4.000000</td>\n",
       "      <td>0.000000</td>\n",
       "      <td>1.000000</td>\n",
       "      <td>1.000000</td>\n",
       "      <td>1.000000</td>\n",
       "      <td>1.000000</td>\n",
       "      <td>1.000000</td>\n",
       "      <td>0.000000</td>\n",
       "      <td>...</td>\n",
       "      <td>28024.500000</td>\n",
       "      <td>1.000000</td>\n",
       "      <td>0.0</td>\n",
       "      <td>157433.000000</td>\n",
       "      <td>109.124767</td>\n",
       "      <td>17.863179</td>\n",
       "      <td>234.365772</td>\n",
       "      <td>0.009164</td>\n",
       "      <td>0.419330</td>\n",
       "      <td>17.668531</td>\n",
       "    </tr>\n",
       "    <tr>\n",
       "      <th>75%</th>\n",
       "      <td>0.0</td>\n",
       "      <td>1.000000</td>\n",
       "      <td>4.400000</td>\n",
       "      <td>0.000000</td>\n",
       "      <td>1.000000</td>\n",
       "      <td>1.000000</td>\n",
       "      <td>1.000000</td>\n",
       "      <td>1.000000</td>\n",
       "      <td>1.000000</td>\n",
       "      <td>0.000000</td>\n",
       "      <td>...</td>\n",
       "      <td>28038.000000</td>\n",
       "      <td>1.000000</td>\n",
       "      <td>0.0</td>\n",
       "      <td>213905.000000</td>\n",
       "      <td>124.354244</td>\n",
       "      <td>25.729709</td>\n",
       "      <td>268.656997</td>\n",
       "      <td>0.021696</td>\n",
       "      <td>0.625055</td>\n",
       "      <td>64.302584</td>\n",
       "    </tr>\n",
       "    <tr>\n",
       "      <th>max</th>\n",
       "      <td>0.0</td>\n",
       "      <td>1.000000</td>\n",
       "      <td>5.000000</td>\n",
       "      <td>1.000000</td>\n",
       "      <td>1.000000</td>\n",
       "      <td>1.000000</td>\n",
       "      <td>1.000000</td>\n",
       "      <td>1.000000</td>\n",
       "      <td>1.000000</td>\n",
       "      <td>1.000000</td>\n",
       "      <td>...</td>\n",
       "      <td>28054.000000</td>\n",
       "      <td>3.000000</td>\n",
       "      <td>0.0</td>\n",
       "      <td>255514.000000</td>\n",
       "      <td>151.840491</td>\n",
       "      <td>57.576108</td>\n",
       "      <td>620.544503</td>\n",
       "      <td>0.586207</td>\n",
       "      <td>0.935120</td>\n",
       "      <td>295.941102</td>\n",
       "    </tr>\n",
       "  </tbody>\n",
       "</table>\n",
       "<p>8 rows × 23 columns</p>\n",
       "</div>"
      ],
      "text/plain": [
       "       result.business_status  result.dine_in  result.rating  \\\n",
       "count                   292.0      292.000000     292.000000   \n",
       "mean                      0.0        0.989726       3.852055   \n",
       "std                       0.0        0.101012       0.864395   \n",
       "min                       0.0        0.000000       1.000000   \n",
       "25%                       0.0        1.000000       3.400000   \n",
       "50%                       0.0        1.000000       4.000000   \n",
       "75%                       0.0        1.000000       4.400000   \n",
       "max                       0.0        1.000000       5.000000   \n",
       "\n",
       "       result.reservable  result.serves_beer  result.serves_breakfast  \\\n",
       "count         292.000000          292.000000               292.000000   \n",
       "mean            0.178082            0.993151                 0.986301   \n",
       "std             0.383239            0.082618                 0.116436   \n",
       "min             0.000000            0.000000                 0.000000   \n",
       "25%             0.000000            1.000000                 1.000000   \n",
       "50%             0.000000            1.000000                 1.000000   \n",
       "75%             0.000000            1.000000                 1.000000   \n",
       "max             1.000000            1.000000                 1.000000   \n",
       "\n",
       "       result.serves_brunch  result.serves_dinner  result.serves_lunch  \\\n",
       "count            292.000000            292.000000           292.000000   \n",
       "mean               0.982877              0.996575             0.993151   \n",
       "std                0.129954              0.058521             0.082618   \n",
       "min                0.000000              0.000000             0.000000   \n",
       "25%                1.000000              1.000000             1.000000   \n",
       "50%                1.000000              1.000000             1.000000   \n",
       "75%                1.000000              1.000000             1.000000   \n",
       "max                1.000000              1.000000             1.000000   \n",
       "\n",
       "       result.serves_vegetarian_food  ...      zip_code  price_level  success  \\\n",
       "count                     292.000000  ...    292.000000   292.000000    292.0   \n",
       "mean                        0.099315  ...  28024.739726     1.113014      0.0   \n",
       "std                         0.299598  ...     14.869677     0.394422      0.0   \n",
       "min                         0.000000  ...  28001.000000     1.000000      0.0   \n",
       "25%                         0.000000  ...  28011.750000     1.000000      0.0   \n",
       "50%                         0.000000  ...  28024.500000     1.000000      0.0   \n",
       "75%                         0.000000  ...  28038.000000     1.000000      0.0   \n",
       "max                         1.000000  ...  28054.000000     3.000000      0.0   \n",
       "\n",
       "       total_population  restaurants_per_district_area  \\\n",
       "count        292.000000                     292.000000   \n",
       "mean      171688.996575                      85.172892   \n",
       "std        46391.144729                      42.772409   \n",
       "min        79328.000000                       1.705882   \n",
       "25%       139682.000000                      46.091644   \n",
       "50%       157433.000000                     109.124767   \n",
       "75%       213905.000000                     124.354244   \n",
       "max       255514.000000                     151.840491   \n",
       "\n",
       "       share_year_budget_rest_per_household  share_local_pop  \\\n",
       "count                            292.000000       292.000000   \n",
       "mean                              20.622468       251.343632   \n",
       "std                                8.425680       116.966954   \n",
       "min                               10.819877       114.562049   \n",
       "25%                               15.225889       154.179798   \n",
       "50%                               17.863179       234.365772   \n",
       "75%                               25.729709       268.656997   \n",
       "max                               57.576108       620.544503   \n",
       "\n",
       "       share_of_surface_in_KM2  Sentiment Score  share_tourists_zipcode  \n",
       "count               292.000000       292.000000              292.000000  \n",
       "mean                  0.028277         0.373514               49.251304  \n",
       "std                   0.071149         0.327669               71.271305  \n",
       "min                   0.006586        -0.680800                2.723654  \n",
       "25%                   0.008042         0.113515                6.142506  \n",
       "50%                   0.009164         0.419330               17.668531  \n",
       "75%                   0.021696         0.625055               64.302584  \n",
       "max                   0.586207         0.935120              295.941102  \n",
       "\n",
       "[8 rows x 23 columns]"
      ]
     },
     "execution_count": 20,
     "metadata": {},
     "output_type": "execute_result"
    }
   ],
   "source": [
    "closed_google.describe()"
   ]
  },
  {
   "cell_type": "code",
   "execution_count": 21,
   "metadata": {
    "scrolled": true
   },
   "outputs": [
    {
     "data": {
      "text/plain": [
       "{'result.business_status': 0.0,\n",
       " 'result.rating': 4.151711510382717e-16,\n",
       " 'result.user_ratings_total': 3.058793211971956e-16,\n",
       " 'price_level': 4.471311389707255e-08,\n",
       " 'result.reservable': 6.236164112349293e-66,\n",
       " 'success': 3.191761337286015e-79,\n",
       " 'result.serves_vegetarian_food': 0.04650302754742726,\n",
       " 'result.takeout': 0.10497592881123959,\n",
       " 'share_year_budget_rest_per_household': 0.33947627387823964,\n",
       " 'share_local_pop': 0.7679143451734648,\n",
       " 'Sentiment Score': 1.7090669842770448e-11,\n",
       " 'restaurants_per_district_area': 0.10086292967535825,\n",
       " 'result.serves_beer': 0.20161039824347338,\n",
       " 'result.serves_breakfast': 2.917707424367296e-10,\n",
       " 'result.serves_dinner': 0.3992140594274357,\n",
       " 'result.serves_lunch': 0.5306554452419381,\n",
       " 'result.serves_wine': 0.02272607474709637}"
      ]
     },
     "execution_count": 21,
     "metadata": {},
     "output_type": "execute_result"
    }
   ],
   "source": [
    "t_test_features(open_google, closed_google)"
   ]
  },
  {
   "cell_type": "code",
   "execution_count": 22,
   "metadata": {
    "id": "uEk7Nk--jqp6"
   },
   "outputs": [],
   "source": [
    "successful = google[google['success']==1]\n",
    "unsuccessful = google[google['success']==0]"
   ]
  },
  {
   "cell_type": "code",
   "execution_count": 23,
   "metadata": {},
   "outputs": [
    {
     "data": {
      "text/plain": [
       "(2705, 29)"
      ]
     },
     "execution_count": 23,
     "metadata": {},
     "output_type": "execute_result"
    }
   ],
   "source": [
    "successful.shape"
   ]
  },
  {
   "cell_type": "code",
   "execution_count": 24,
   "metadata": {},
   "outputs": [
    {
     "data": {
      "text/plain": [
       "(2439, 29)"
      ]
     },
     "execution_count": 24,
     "metadata": {},
     "output_type": "execute_result"
    }
   ],
   "source": [
    "unsuccessful.shape"
   ]
  },
  {
   "cell_type": "code",
   "execution_count": 25,
   "metadata": {
    "colab": {
     "base_uri": "https://localhost:8080/"
    },
    "id": "YXkMJwtTL1ND",
    "outputId": "cedc4d99-d54f-46da-ac5c-8435510cd706"
   },
   "outputs": [
    {
     "data": {
      "text/plain": [
       "21.23227380612415"
      ]
     },
     "execution_count": 25,
     "metadata": {},
     "output_type": "execute_result"
    }
   ],
   "source": [
    "successful['share_year_budget_rest_per_household'].mean()"
   ]
  },
  {
   "cell_type": "code",
   "execution_count": 26,
   "metadata": {
    "colab": {
     "base_uri": "https://localhost:8080/"
    },
    "id": "NxX9f3VlL43Z",
    "outputId": "858ed27f-bc6a-4c73-9c9c-4d6e02d57ccc"
   },
   "outputs": [
    {
     "data": {
      "text/plain": [
       "21.019556420247582"
      ]
     },
     "execution_count": 26,
     "metadata": {},
     "output_type": "execute_result"
    }
   ],
   "source": [
    "unsuccessful['share_year_budget_rest_per_household'].mean()"
   ]
  },
  {
   "cell_type": "code",
   "execution_count": 27,
   "metadata": {
    "id": "aZbl3BDYL8iB"
   },
   "outputs": [],
   "source": [
    "#Might be a good way to encode district"
   ]
  },
  {
   "cell_type": "code",
   "execution_count": 28,
   "metadata": {
    "id": "0BGqA6svMXnn"
   },
   "outputs": [],
   "source": [
    "pd.set_option('display.max_columns', 100)"
   ]
  },
  {
   "cell_type": "code",
   "execution_count": 29,
   "metadata": {
    "colab": {
     "base_uri": "https://localhost:8080/"
    },
    "id": "wWd0DnEWMER8",
    "outputId": "5112b258-8889-47a7-a0ec-6d36ef7b5efb"
   },
   "outputs": [
    {
     "data": {
      "text/plain": [
       "4.268571428571429"
      ]
     },
     "execution_count": 29,
     "metadata": {},
     "output_type": "execute_result"
    }
   ],
   "source": [
    "unsuccessful[unsuccessful['result.user_ratings_total']>=2000]['result.rating'].mean()"
   ]
  },
  {
   "cell_type": "markdown",
   "metadata": {},
   "source": [
    "# Hypothesis testing"
   ]
  },
  {
   "cell_type": "code",
   "execution_count": 32,
   "metadata": {},
   "outputs": [],
   "source": [
    "level_one = google[google['price_level']==1.0]\n",
    "level_two = google[google['price_level']==2.0]\n",
    "level_three = google[google['price_level']==3.0]\n",
    "level_four = google[google['price_level']==4.0]"
   ]
  },
  {
   "cell_type": "code",
   "execution_count": 33,
   "metadata": {
    "scrolled": true
   },
   "outputs": [
    {
     "data": {
      "text/plain": [
       "{'result.business_status': 4.323054496764131e-11,\n",
       " 'result.rating': 1.549491304813113e-09,\n",
       " 'result.user_ratings_total': 9.451693916201463e-131,\n",
       " 'price_level': 0.0,\n",
       " 'result.reservable': 9.459233861137077e-107,\n",
       " 'success': 1.1535612886213276e-05,\n",
       " 'result.serves_vegetarian_food': 1.2854232665931394e-10,\n",
       " 'result.takeout': 8.029299976972353e-06,\n",
       " 'share_year_budget_rest_per_household': 1.988551569387054e-34,\n",
       " 'share_local_pop': 0.3278565924113135,\n",
       " 'Sentiment Score': 4.8522045979268184e-59,\n",
       " 'restaurants_per_district_area': 2.1541782919116113e-15,\n",
       " 'result.serves_beer': 0.31688653998255994,\n",
       " 'result.serves_breakfast': 1.1242627080730792e-56,\n",
       " 'result.serves_dinner': 0.03426561596382195,\n",
       " 'result.serves_lunch': 0.36393638386992666,\n",
       " 'result.serves_wine': 1.8331341986944796e-07}"
      ]
     },
     "execution_count": 33,
     "metadata": {},
     "output_type": "execute_result"
    }
   ],
   "source": [
    "t_test_features(level_one, level_two) #BINGO"
   ]
  },
  {
   "cell_type": "code",
   "execution_count": 34,
   "metadata": {
    "scrolled": true
   },
   "outputs": [
    {
     "data": {
      "text/plain": [
       "0.5102511532547411"
      ]
     },
     "execution_count": 34,
     "metadata": {},
     "output_type": "execute_result"
    }
   ],
   "source": [
    "#level_two restaurants are more successful\n",
    "level_one['success'].mean()"
   ]
  },
  {
   "cell_type": "code",
   "execution_count": 35,
   "metadata": {},
   "outputs": [
    {
     "data": {
      "text/plain": [
       "0.5856610800744879"
      ]
     },
     "execution_count": 35,
     "metadata": {},
     "output_type": "execute_result"
    }
   ],
   "source": [
    "#level_one is around 15-30€ per capita and level two, from 30 to 50€\n",
    "level_two['success'].mean()"
   ]
  },
  {
   "cell_type": "code",
   "execution_count": 36,
   "metadata": {},
   "outputs": [
    {
     "data": {
      "text/plain": [
       "{'result.business_status': 0.53358770286618,\n",
       " 'result.rating': 2.0191147661706135e-07,\n",
       " 'result.user_ratings_total': 2.2316519641044268e-32,\n",
       " 'price_level': 0.0,\n",
       " 'result.reservable': 9.013964485869064e-22,\n",
       " 'success': 0.9982327071886553,\n",
       " 'result.serves_vegetarian_food': 0.8651093351686142,\n",
       " 'result.takeout': 5.3290963879510956e-39,\n",
       " 'share_year_budget_rest_per_household': 4.189542989257374e-11,\n",
       " 'share_local_pop': 0.14293748248546365,\n",
       " 'Sentiment Score': 1.0588277909808213e-26,\n",
       " 'restaurants_per_district_area': 8.510649573639852e-08,\n",
       " 'result.serves_beer': 0.10895443661273925,\n",
       " 'result.serves_breakfast': 9.573463330076338e-55,\n",
       " 'result.serves_dinner': 0.24542263000327652,\n",
       " 'result.serves_lunch': 0.7325645032964652,\n",
       " 'result.serves_wine': 0.004402208749794459}"
      ]
     },
     "execution_count": 36,
     "metadata": {},
     "output_type": "execute_result"
    }
   ],
   "source": [
    "t_test_features(level_one, level_three)"
   ]
  },
  {
   "cell_type": "code",
   "execution_count": 37,
   "metadata": {},
   "outputs": [
    {
     "data": {
      "text/plain": [
       "{'result.business_status': 0.1938688832539718,\n",
       " 'result.rating': 0.0035419723557749212,\n",
       " 'result.user_ratings_total': 2.094594209838717e-05,\n",
       " 'price_level': 0.0,\n",
       " 'result.reservable': 9.85908759582519e-05,\n",
       " 'success': 0.7596761980819993,\n",
       " 'result.serves_vegetarian_food': 0.23130759461106726,\n",
       " 'result.takeout': 4.551497692780364e-49,\n",
       " 'share_year_budget_rest_per_household': 2.941106957451247e-06,\n",
       " 'share_local_pop': 0.9055843174459138,\n",
       " 'Sentiment Score': 9.584492603085008e-07,\n",
       " 'restaurants_per_district_area': 0.043912502294798594,\n",
       " 'result.serves_beer': 0.523165683156116,\n",
       " 'result.serves_breakfast': 6.472700045444893e-16,\n",
       " 'result.serves_dinner': 0.6436248855970053,\n",
       " 'result.serves_lunch': 0.7373510354972218,\n",
       " 'result.serves_wine': 0.25651546524138136}"
      ]
     },
     "execution_count": 37,
     "metadata": {},
     "output_type": "execute_result"
    }
   ],
   "source": [
    "t_test_features(level_one, level_four)"
   ]
  },
  {
   "cell_type": "code",
   "execution_count": 38,
   "metadata": {},
   "outputs": [
    {
     "data": {
      "text/plain": [
       "{'result.business_status': 0.001685486524803076,\n",
       " 'result.rating': 1.1433959022664414e-07,\n",
       " 'result.user_ratings_total': 0.3151067202698778,\n",
       " 'price_level': 0.0,\n",
       " 'result.reservable': 0.08355219587926986,\n",
       " 'success': 0.08502646395217689,\n",
       " 'result.serves_vegetarian_food': 0.052994477666517444,\n",
       " 'result.takeout': 6.308045652524485e-11,\n",
       " 'share_year_budget_rest_per_household': 0.176619744470391,\n",
       " 'share_local_pop': 0.2341230649769544,\n",
       " 'Sentiment Score': 6.636981849169661e-07,\n",
       " 'restaurants_per_district_area': 0.03381892146201099,\n",
       " 'result.serves_beer': 0.16700021751580188,\n",
       " 'result.serves_breakfast': 1.1986804055927408e-07,\n",
       " 'result.serves_dinner': 0.524384171755613,\n",
       " 'result.serves_lunch': 0.4178048572403207,\n",
       " 'result.serves_wine': 0.12730480784730341}"
      ]
     },
     "execution_count": 38,
     "metadata": {},
     "output_type": "execute_result"
    }
   ],
   "source": [
    "t_test_features(level_two, level_three)#works too"
   ]
  },
  {
   "cell_type": "code",
   "execution_count": 39,
   "metadata": {},
   "outputs": [
    {
     "data": {
      "text/plain": [
       "{'result.business_status': 0.25098229528217686,\n",
       " 'result.rating': 0.042162254283881415,\n",
       " 'result.user_ratings_total': 0.6644076404330903,\n",
       " 'price_level': 0.0,\n",
       " 'result.reservable': 0.920641089467033,\n",
       " 'success': 0.7765497224160669,\n",
       " 'result.serves_vegetarian_food': 0.22180298747138766,\n",
       " 'result.takeout': 0.01657390812296461,\n",
       " 'share_year_budget_rest_per_household': 0.02044100821548125,\n",
       " 'share_local_pop': 0.2873756935636067,\n",
       " 'Sentiment Score': 0.4711943320098311,\n",
       " 'restaurants_per_district_area': 0.8556014158108466,\n",
       " 'result.serves_beer': nan,\n",
       " 'result.serves_breakfast': 0.42878825479730964,\n",
       " 'result.serves_dinner': nan,\n",
       " 'result.serves_lunch': 0.6916811893932346,\n",
       " 'result.serves_wine': nan}"
      ]
     },
     "execution_count": 39,
     "metadata": {},
     "output_type": "execute_result"
    }
   ],
   "source": [
    "t_test_features(level_four, level_three)"
   ]
  },
  {
   "cell_type": "code",
   "execution_count": 40,
   "metadata": {
    "scrolled": true
   },
   "outputs": [
    {
     "data": {
      "text/plain": [
       "{'result.business_status': 0.5435445786599904,\n",
       " 'result.rating': 0.00017436530438920904,\n",
       " 'result.user_ratings_total': 0.9486147452358595,\n",
       " 'price_level': 0.0,\n",
       " 'result.reservable': 0.42934093497058134,\n",
       " 'success': 0.3016745692968902,\n",
       " 'result.serves_vegetarian_food': 0.08371949250485176,\n",
       " 'result.takeout': 1.1018523587649785e-16,\n",
       " 'share_year_budget_rest_per_household': 0.014935401661644148,\n",
       " 'share_local_pop': 0.9647069639787835,\n",
       " 'Sentiment Score': 0.005471021728917267,\n",
       " 'restaurants_per_district_area': 0.4656524319131572,\n",
       " 'result.serves_beer': 0.5819832459346993,\n",
       " 'result.serves_breakfast': 0.0012993470848069403,\n",
       " 'result.serves_dinner': 0.7998592816941144,\n",
       " 'result.serves_lunch': 0.7998592816941144,\n",
       " 'result.serves_wine': 0.5435445786599906}"
      ]
     },
     "execution_count": 40,
     "metadata": {},
     "output_type": "execute_result"
    }
   ],
   "source": [
    "t_test_features(level_four, level_two)"
   ]
  },
  {
   "cell_type": "code",
   "execution_count": 41,
   "metadata": {
    "colab": {
     "base_uri": "https://localhost:8080/"
    },
    "id": "IB813SyjVFM8",
    "outputId": "c17801d3-ce9a-45cc-a4a4-cfae2fc95877",
    "scrolled": true
   },
   "outputs": [
    {
     "data": {
      "text/plain": [
       "{'result.business_status': 3.19176133728556e-79,\n",
       " 'result.rating': 0.030333798963379805,\n",
       " 'result.user_ratings_total': 2.3894033727591724e-12,\n",
       " 'price_level': 0.0031028051639158676,\n",
       " 'result.reservable': 2.943832518837075e-20,\n",
       " 'success': 0.0,\n",
       " 'result.serves_vegetarian_food': 1.9752329332853325e-08,\n",
       " 'result.takeout': 0.30370533876199685,\n",
       " 'share_year_budget_rest_per_household': 0.4164473790588402,\n",
       " 'share_local_pop': 0.4367770687723215,\n",
       " 'Sentiment Score': 0.6845766696163684,\n",
       " 'restaurants_per_district_area': 0.9953759968154153,\n",
       " 'result.serves_beer': 0.6752136305393581,\n",
       " 'result.serves_breakfast': 0.009573746213444676,\n",
       " 'result.serves_dinner': 0.006158100187627299,\n",
       " 'result.serves_lunch': 0.002979507478189938,\n",
       " 'result.serves_wine': 5.829085619457741e-12}"
      ]
     },
     "execution_count": 41,
     "metadata": {},
     "output_type": "execute_result"
    }
   ],
   "source": [
    "t_test_features(successful, unsuccessful)"
   ]
  },
  {
   "cell_type": "markdown",
   "metadata": {},
   "source": [
    "# Feat engineering"
   ]
  },
  {
   "cell_type": "code",
   "execution_count": 42,
   "metadata": {
    "colab": {
     "base_uri": "https://localhost:8080/"
    },
    "id": "nTLU36rxYygo",
    "outputId": "e4d7431c-478b-48ac-e2d6-7f9e7b85b851"
   },
   "outputs": [
    {
     "data": {
      "text/plain": [
       "Index(['result.business_status', 'result.delivery', 'result.dine_in',\n",
       "       'result.name', 'result.place_id', 'result.rating', 'result.reservable',\n",
       "       'result.serves_beer', 'result.serves_breakfast', 'result.serves_brunch',\n",
       "       'result.serves_dinner', 'result.serves_lunch',\n",
       "       'result.serves_vegetarian_food', 'result.serves_wine', 'result.takeout',\n",
       "       'result.user_ratings_total', 'result.website', 'zip_code',\n",
       "       'price_level', 'success', 'distrito', 'total_population',\n",
       "       'restaurants_per_district_area', 'share_year_budget_rest_per_household',\n",
       "       'share_local_pop', 'share_of_surface_in_KM2', 'Sentiment Score',\n",
       "       'Sentiment', 'share_tourists_zipcode'],\n",
       "      dtype='object')"
      ]
     },
     "execution_count": 42,
     "metadata": {},
     "output_type": "execute_result"
    }
   ],
   "source": [
    "google.columns"
   ]
  },
  {
   "cell_type": "code",
   "execution_count": 43,
   "metadata": {
    "colab": {
     "base_uri": "https://localhost:8080/"
    },
    "id": "wDeWAx7Ynfsu",
    "outputId": "d3159003-a52c-4264-c221-f896ca6ccc87",
    "scrolled": true
   },
   "outputs": [],
   "source": [
    "google.drop(columns=['Sentiment','result.serves_brunch'], axis=1, inplace=True)"
   ]
  },
  {
   "cell_type": "code",
   "execution_count": 44,
   "metadata": {},
   "outputs": [],
   "source": [
    "google['result.delivery'] = google['result.delivery'].map({'True': 1, 'Unknown': 0, 'False': 0})"
   ]
  },
  {
   "cell_type": "code",
   "execution_count": 45,
   "metadata": {},
   "outputs": [
    {
     "data": {
      "text/html": [
       "<div>\n",
       "<style scoped>\n",
       "    .dataframe tbody tr th:only-of-type {\n",
       "        vertical-align: middle;\n",
       "    }\n",
       "\n",
       "    .dataframe tbody tr th {\n",
       "        vertical-align: top;\n",
       "    }\n",
       "\n",
       "    .dataframe thead th {\n",
       "        text-align: right;\n",
       "    }\n",
       "</style>\n",
       "<table border=\"1\" class=\"dataframe\">\n",
       "  <thead>\n",
       "    <tr style=\"text-align: right;\">\n",
       "      <th></th>\n",
       "      <th>result.business_status</th>\n",
       "      <th>result.delivery</th>\n",
       "      <th>result.dine_in</th>\n",
       "      <th>result.name</th>\n",
       "      <th>result.place_id</th>\n",
       "      <th>result.rating</th>\n",
       "      <th>result.reservable</th>\n",
       "      <th>result.serves_beer</th>\n",
       "      <th>result.serves_breakfast</th>\n",
       "      <th>result.serves_dinner</th>\n",
       "      <th>result.serves_lunch</th>\n",
       "      <th>result.serves_vegetarian_food</th>\n",
       "      <th>result.serves_wine</th>\n",
       "      <th>result.takeout</th>\n",
       "      <th>result.user_ratings_total</th>\n",
       "      <th>result.website</th>\n",
       "      <th>zip_code</th>\n",
       "      <th>price_level</th>\n",
       "      <th>success</th>\n",
       "      <th>distrito</th>\n",
       "      <th>total_population</th>\n",
       "      <th>restaurants_per_district_area</th>\n",
       "      <th>share_year_budget_rest_per_household</th>\n",
       "      <th>share_local_pop</th>\n",
       "      <th>share_of_surface_in_KM2</th>\n",
       "      <th>Sentiment Score</th>\n",
       "      <th>share_tourists_zipcode</th>\n",
       "    </tr>\n",
       "  </thead>\n",
       "  <tbody>\n",
       "    <tr>\n",
       "      <th>0</th>\n",
       "      <td>1</td>\n",
       "      <td>1</td>\n",
       "      <td>1</td>\n",
       "      <td>restaurante la dehesa</td>\n",
       "      <td>ChIJe8y4CKAuQg0RC4YervOOVLg</td>\n",
       "      <td>4.0</td>\n",
       "      <td>1</td>\n",
       "      <td>1</td>\n",
       "      <td>1</td>\n",
       "      <td>1</td>\n",
       "      <td>1</td>\n",
       "      <td>0</td>\n",
       "      <td>1</td>\n",
       "      <td>1</td>\n",
       "      <td>1306.0</td>\n",
       "      <td>http://www.grupoladehesa.com/</td>\n",
       "      <td>28050</td>\n",
       "      <td>2.0</td>\n",
       "      <td>1</td>\n",
       "      <td>HORTALEZA</td>\n",
       "      <td>195017</td>\n",
       "      <td>37.688442</td>\n",
       "      <td>17.863179</td>\n",
       "      <td>200.017436</td>\n",
       "      <td>0.026533</td>\n",
       "      <td>0.71114</td>\n",
       "      <td>8.058517</td>\n",
       "    </tr>\n",
       "  </tbody>\n",
       "</table>\n",
       "</div>"
      ],
      "text/plain": [
       "   result.business_status  result.delivery  result.dine_in  \\\n",
       "0                       1                1               1   \n",
       "\n",
       "             result.name              result.place_id  result.rating  \\\n",
       "0  restaurante la dehesa  ChIJe8y4CKAuQg0RC4YervOOVLg            4.0   \n",
       "\n",
       "   result.reservable  result.serves_beer  result.serves_breakfast  \\\n",
       "0                  1                   1                        1   \n",
       "\n",
       "   result.serves_dinner  result.serves_lunch  result.serves_vegetarian_food  \\\n",
       "0                     1                    1                              0   \n",
       "\n",
       "   result.serves_wine  result.takeout  result.user_ratings_total  \\\n",
       "0                   1               1                     1306.0   \n",
       "\n",
       "                  result.website  zip_code  price_level  success   distrito  \\\n",
       "0  http://www.grupoladehesa.com/     28050          2.0        1  HORTALEZA   \n",
       "\n",
       "   total_population  restaurants_per_district_area  \\\n",
       "0            195017                      37.688442   \n",
       "\n",
       "   share_year_budget_rest_per_household  share_local_pop  \\\n",
       "0                             17.863179       200.017436   \n",
       "\n",
       "   share_of_surface_in_KM2  Sentiment Score  share_tourists_zipcode  \n",
       "0                 0.026533          0.71114                8.058517  "
      ]
     },
     "execution_count": 45,
     "metadata": {},
     "output_type": "execute_result"
    }
   ],
   "source": [
    "google.head(1)"
   ]
  },
  {
   "cell_type": "code",
   "execution_count": 46,
   "metadata": {
    "id": "Fz2EjhjBx-lQ"
   },
   "outputs": [],
   "source": [
    "X = google.drop(columns=['result.name','result.website','distrito','result.place_id','success','result.business_status'])\n",
    "y = google['result.business_status'] "
   ]
  },
  {
   "cell_type": "code",
   "execution_count": 47,
   "metadata": {
    "id": "WWQzSfHNylS2"
   },
   "outputs": [],
   "source": [
    "from sklearn.model_selection import train_test_split\n",
    "\n",
    "X_train, X_test, y_train, y_test = train_test_split(X, y, test_size=0.25, random_state = 42)"
   ]
  },
  {
   "cell_type": "code",
   "execution_count": 48,
   "metadata": {
    "id": "Kb-vt7K8yueN"
   },
   "outputs": [],
   "source": [
    "import xgboost as xgb"
   ]
  },
  {
   "cell_type": "code",
   "execution_count": 49,
   "metadata": {
    "colab": {
     "base_uri": "https://localhost:8080/"
    },
    "id": "GZkwrgrHyx0G",
    "outputId": "6e96a32b-bc7b-46c7-d238-cbf4753e2e8a"
   },
   "outputs": [
    {
     "data": {
      "text/plain": [
       "0.9455676516329704"
      ]
     },
     "execution_count": 49,
     "metadata": {},
     "output_type": "execute_result"
    }
   ],
   "source": [
    "xgb_class = xgb.XGBClassifier()\n",
    "xgb_class.fit(X_train, y_train)\n",
    "xgb_class.score(X_test,y_test)"
   ]
  },
  {
   "cell_type": "code",
   "execution_count": 50,
   "metadata": {
    "colab": {
     "base_uri": "https://localhost:8080/",
     "height": 295
    },
    "id": "VNYuTQNvy0ef",
    "outputId": "9754ed98-b6a5-4e23-a4e6-e1d07bbab2c5"
   },
   "outputs": [
    {
     "data": {
      "image/png": "[encoded data removed]",
      "text/plain": [
       "<Figure size 432x288 with 1 Axes>"
      ]
     },
     "metadata": {
      "needs_background": "light"
     },
     "output_type": "display_data"
    }
   ],
   "source": [
    "xgb.plot_importance(xgb_class)\n",
    "plt.show()"
   ]
  },
  {
   "cell_type": "code",
   "execution_count": 51,
   "metadata": {
    "id": "QsHVtvKGqyV4"
   },
   "outputs": [],
   "source": [
    "#Encoding Website because I want to use it"
   ]
  },
  {
   "cell_type": "code",
   "execution_count": 52,
   "metadata": {
    "colab": {
     "base_uri": "https://localhost:8080/"
    },
    "id": "6anrSR9WnzvM",
    "outputId": "0c3fcfab-25bc-4d1f-8874-4c2ba5a078c3",
    "scrolled": true
   },
   "outputs": [
    {
     "data": {
      "text/plain": [
       "0            http://www.grupoladehesa.com/\n",
       "1           https://www.casacorrochano.es/\n",
       "2            http://www.lamanodepablo.com/\n",
       "3         http://www.restauranteeloso.com/\n",
       "4                                  Unknown\n",
       "                       ...                \n",
       "5139                               Unknown\n",
       "5140                               Unknown\n",
       "5141                               Unknown\n",
       "5142                               Unknown\n",
       "5143    https://tequenos-madrid.eatbu.com/\n",
       "Name: result.website, Length: 5144, dtype: object"
      ]
     },
     "execution_count": 52,
     "metadata": {},
     "output_type": "execute_result"
    }
   ],
   "source": [
    "google['result.website']"
   ]
  },
  {
   "cell_type": "code",
   "execution_count": 53,
   "metadata": {
    "id": "D39EGPE4pWWS"
   },
   "outputs": [],
   "source": [
    "def website_to_num(row):\n",
    "    website = row['result.website']\n",
    "    if website == 'Unknown':\n",
    "        return 0\n",
    "    else:\n",
    "        return 1"
   ]
  },
  {
   "cell_type": "code",
   "execution_count": 54,
   "metadata": {
    "id": "LL9UDxKSpwLZ"
   },
   "outputs": [],
   "source": [
    "google['website'] = google.apply(website_to_num, axis=1)"
   ]
  },
  {
   "cell_type": "code",
   "execution_count": 55,
   "metadata": {
    "id": "SiuKqg7qp6sY"
   },
   "outputs": [],
   "source": [
    "google.drop('result.website', axis=1, inplace=True)"
   ]
  },
  {
   "cell_type": "code",
   "execution_count": 56,
   "metadata": {
    "scrolled": true
   },
   "outputs": [
    {
     "data": {
      "text/html": [
       "<div>\n",
       "<style scoped>\n",
       "    .dataframe tbody tr th:only-of-type {\n",
       "        vertical-align: middle;\n",
       "    }\n",
       "\n",
       "    .dataframe tbody tr th {\n",
       "        vertical-align: top;\n",
       "    }\n",
       "\n",
       "    .dataframe thead th {\n",
       "        text-align: right;\n",
       "    }\n",
       "</style>\n",
       "<table border=\"1\" class=\"dataframe\">\n",
       "  <thead>\n",
       "    <tr style=\"text-align: right;\">\n",
       "      <th></th>\n",
       "      <th>result.business_status</th>\n",
       "      <th>result.delivery</th>\n",
       "      <th>result.dine_in</th>\n",
       "      <th>result.name</th>\n",
       "      <th>result.place_id</th>\n",
       "      <th>result.rating</th>\n",
       "      <th>result.reservable</th>\n",
       "      <th>result.serves_beer</th>\n",
       "      <th>result.serves_breakfast</th>\n",
       "      <th>result.serves_dinner</th>\n",
       "      <th>result.serves_lunch</th>\n",
       "      <th>result.serves_vegetarian_food</th>\n",
       "      <th>result.serves_wine</th>\n",
       "      <th>result.takeout</th>\n",
       "      <th>result.user_ratings_total</th>\n",
       "      <th>zip_code</th>\n",
       "      <th>price_level</th>\n",
       "      <th>success</th>\n",
       "      <th>distrito</th>\n",
       "      <th>total_population</th>\n",
       "      <th>restaurants_per_district_area</th>\n",
       "      <th>share_year_budget_rest_per_household</th>\n",
       "      <th>share_local_pop</th>\n",
       "      <th>share_of_surface_in_KM2</th>\n",
       "      <th>Sentiment Score</th>\n",
       "      <th>share_tourists_zipcode</th>\n",
       "      <th>website</th>\n",
       "    </tr>\n",
       "  </thead>\n",
       "  <tbody>\n",
       "    <tr>\n",
       "      <th>0</th>\n",
       "      <td>1</td>\n",
       "      <td>1</td>\n",
       "      <td>1</td>\n",
       "      <td>restaurante la dehesa</td>\n",
       "      <td>ChIJe8y4CKAuQg0RC4YervOOVLg</td>\n",
       "      <td>4.0</td>\n",
       "      <td>1</td>\n",
       "      <td>1</td>\n",
       "      <td>1</td>\n",
       "      <td>1</td>\n",
       "      <td>1</td>\n",
       "      <td>0</td>\n",
       "      <td>1</td>\n",
       "      <td>1</td>\n",
       "      <td>1306.0</td>\n",
       "      <td>28050</td>\n",
       "      <td>2.0</td>\n",
       "      <td>1</td>\n",
       "      <td>HORTALEZA</td>\n",
       "      <td>195017</td>\n",
       "      <td>37.688442</td>\n",
       "      <td>17.863179</td>\n",
       "      <td>200.017436</td>\n",
       "      <td>0.026533</td>\n",
       "      <td>0.71114</td>\n",
       "      <td>8.058517</td>\n",
       "      <td>1</td>\n",
       "    </tr>\n",
       "    <tr>\n",
       "      <th>1</th>\n",
       "      <td>1</td>\n",
       "      <td>1</td>\n",
       "      <td>1</td>\n",
       "      <td>casa corrochano</td>\n",
       "      <td>ChIJjWIe0PMrQg0RXJxYC8mlRcM</td>\n",
       "      <td>4.1</td>\n",
       "      <td>1</td>\n",
       "      <td>1</td>\n",
       "      <td>1</td>\n",
       "      <td>1</td>\n",
       "      <td>1</td>\n",
       "      <td>0</td>\n",
       "      <td>1</td>\n",
       "      <td>1</td>\n",
       "      <td>599.0</td>\n",
       "      <td>28050</td>\n",
       "      <td>1.0</td>\n",
       "      <td>1</td>\n",
       "      <td>HORTALEZA</td>\n",
       "      <td>195017</td>\n",
       "      <td>37.688442</td>\n",
       "      <td>17.863179</td>\n",
       "      <td>200.017436</td>\n",
       "      <td>0.026533</td>\n",
       "      <td>0.40254</td>\n",
       "      <td>8.058517</td>\n",
       "      <td>1</td>\n",
       "    </tr>\n",
       "    <tr>\n",
       "      <th>2</th>\n",
       "      <td>1</td>\n",
       "      <td>0</td>\n",
       "      <td>1</td>\n",
       "      <td>la mano de pablo</td>\n",
       "      <td>ChIJmw6_CKAuQg0RY9Kcr3tR5OQ</td>\n",
       "      <td>4.4</td>\n",
       "      <td>1</td>\n",
       "      <td>1</td>\n",
       "      <td>0</td>\n",
       "      <td>1</td>\n",
       "      <td>1</td>\n",
       "      <td>0</td>\n",
       "      <td>1</td>\n",
       "      <td>1</td>\n",
       "      <td>3674.0</td>\n",
       "      <td>28050</td>\n",
       "      <td>2.0</td>\n",
       "      <td>1</td>\n",
       "      <td>HORTALEZA</td>\n",
       "      <td>195017</td>\n",
       "      <td>37.688442</td>\n",
       "      <td>17.863179</td>\n",
       "      <td>200.017436</td>\n",
       "      <td>0.026533</td>\n",
       "      <td>0.38708</td>\n",
       "      <td>8.058517</td>\n",
       "      <td>1</td>\n",
       "    </tr>\n",
       "    <tr>\n",
       "      <th>3</th>\n",
       "      <td>1</td>\n",
       "      <td>0</td>\n",
       "      <td>1</td>\n",
       "      <td>el oso</td>\n",
       "      <td>ChIJsxAsqggsQg0Rz1mITdkhDaY</td>\n",
       "      <td>4.1</td>\n",
       "      <td>1</td>\n",
       "      <td>1</td>\n",
       "      <td>1</td>\n",
       "      <td>1</td>\n",
       "      <td>1</td>\n",
       "      <td>0</td>\n",
       "      <td>1</td>\n",
       "      <td>1</td>\n",
       "      <td>800.0</td>\n",
       "      <td>28050</td>\n",
       "      <td>3.0</td>\n",
       "      <td>0</td>\n",
       "      <td>HORTALEZA</td>\n",
       "      <td>195017</td>\n",
       "      <td>37.688442</td>\n",
       "      <td>17.863179</td>\n",
       "      <td>200.017436</td>\n",
       "      <td>0.026533</td>\n",
       "      <td>0.78602</td>\n",
       "      <td>8.058517</td>\n",
       "      <td>1</td>\n",
       "    </tr>\n",
       "    <tr>\n",
       "      <th>4</th>\n",
       "      <td>1</td>\n",
       "      <td>0</td>\n",
       "      <td>1</td>\n",
       "      <td>domino</td>\n",
       "      <td>ChIJjd0Nhu0rQg0R1Q0k5TsewKg</td>\n",
       "      <td>3.7</td>\n",
       "      <td>1</td>\n",
       "      <td>1</td>\n",
       "      <td>1</td>\n",
       "      <td>1</td>\n",
       "      <td>1</td>\n",
       "      <td>0</td>\n",
       "      <td>1</td>\n",
       "      <td>1</td>\n",
       "      <td>651.0</td>\n",
       "      <td>28050</td>\n",
       "      <td>1.0</td>\n",
       "      <td>1</td>\n",
       "      <td>HORTALEZA</td>\n",
       "      <td>195017</td>\n",
       "      <td>37.688442</td>\n",
       "      <td>17.863179</td>\n",
       "      <td>200.017436</td>\n",
       "      <td>0.026533</td>\n",
       "      <td>0.22376</td>\n",
       "      <td>8.058517</td>\n",
       "      <td>0</td>\n",
       "    </tr>\n",
       "    <tr>\n",
       "      <th>...</th>\n",
       "      <td>...</td>\n",
       "      <td>...</td>\n",
       "      <td>...</td>\n",
       "      <td>...</td>\n",
       "      <td>...</td>\n",
       "      <td>...</td>\n",
       "      <td>...</td>\n",
       "      <td>...</td>\n",
       "      <td>...</td>\n",
       "      <td>...</td>\n",
       "      <td>...</td>\n",
       "      <td>...</td>\n",
       "      <td>...</td>\n",
       "      <td>...</td>\n",
       "      <td>...</td>\n",
       "      <td>...</td>\n",
       "      <td>...</td>\n",
       "      <td>...</td>\n",
       "      <td>...</td>\n",
       "      <td>...</td>\n",
       "      <td>...</td>\n",
       "      <td>...</td>\n",
       "      <td>...</td>\n",
       "      <td>...</td>\n",
       "      <td>...</td>\n",
       "      <td>...</td>\n",
       "      <td>...</td>\n",
       "    </tr>\n",
       "    <tr>\n",
       "      <th>5139</th>\n",
       "      <td>1</td>\n",
       "      <td>0</td>\n",
       "      <td>1</td>\n",
       "      <td>el rincon de paula ii</td>\n",
       "      <td>ChIJp_7UKJ0nQg0RnQKlxWxzKhM</td>\n",
       "      <td>4.3</td>\n",
       "      <td>1</td>\n",
       "      <td>1</td>\n",
       "      <td>1</td>\n",
       "      <td>1</td>\n",
       "      <td>1</td>\n",
       "      <td>0</td>\n",
       "      <td>1</td>\n",
       "      <td>1</td>\n",
       "      <td>415.0</td>\n",
       "      <td>28021</td>\n",
       "      <td>1.0</td>\n",
       "      <td>1</td>\n",
       "      <td>VILLAVERDE</td>\n",
       "      <td>153829</td>\n",
       "      <td>23.701138</td>\n",
       "      <td>15.207933</td>\n",
       "      <td>321.146138</td>\n",
       "      <td>0.042192</td>\n",
       "      <td>0.40792</td>\n",
       "      <td>8.209144</td>\n",
       "      <td>0</td>\n",
       "    </tr>\n",
       "    <tr>\n",
       "      <th>5140</th>\n",
       "      <td>1</td>\n",
       "      <td>0</td>\n",
       "      <td>1</td>\n",
       "      <td>casa domingo</td>\n",
       "      <td>ChIJHxgHwjEnQg0RpkM-ghqQ_Pk</td>\n",
       "      <td>4.4</td>\n",
       "      <td>1</td>\n",
       "      <td>1</td>\n",
       "      <td>1</td>\n",
       "      <td>1</td>\n",
       "      <td>1</td>\n",
       "      <td>0</td>\n",
       "      <td>1</td>\n",
       "      <td>1</td>\n",
       "      <td>196.0</td>\n",
       "      <td>28021</td>\n",
       "      <td>1.0</td>\n",
       "      <td>0</td>\n",
       "      <td>VILLAVERDE</td>\n",
       "      <td>153829</td>\n",
       "      <td>23.701138</td>\n",
       "      <td>15.207933</td>\n",
       "      <td>321.146138</td>\n",
       "      <td>0.042192</td>\n",
       "      <td>-0.04042</td>\n",
       "      <td>8.209144</td>\n",
       "      <td>0</td>\n",
       "    </tr>\n",
       "    <tr>\n",
       "      <th>5141</th>\n",
       "      <td>1</td>\n",
       "      <td>0</td>\n",
       "      <td>1</td>\n",
       "      <td>bar la taskita</td>\n",
       "      <td>ChIJ8-lR1yQnQg0RwXHeD5PLr3I</td>\n",
       "      <td>3.0</td>\n",
       "      <td>0</td>\n",
       "      <td>1</td>\n",
       "      <td>1</td>\n",
       "      <td>1</td>\n",
       "      <td>1</td>\n",
       "      <td>0</td>\n",
       "      <td>1</td>\n",
       "      <td>1</td>\n",
       "      <td>2.0</td>\n",
       "      <td>28021</td>\n",
       "      <td>1.0</td>\n",
       "      <td>1</td>\n",
       "      <td>VILLAVERDE</td>\n",
       "      <td>153829</td>\n",
       "      <td>23.701138</td>\n",
       "      <td>15.207933</td>\n",
       "      <td>321.146138</td>\n",
       "      <td>0.042192</td>\n",
       "      <td>0.18060</td>\n",
       "      <td>8.209144</td>\n",
       "      <td>0</td>\n",
       "    </tr>\n",
       "    <tr>\n",
       "      <th>5142</th>\n",
       "      <td>1</td>\n",
       "      <td>0</td>\n",
       "      <td>1</td>\n",
       "      <td>restaurante lablanca</td>\n",
       "      <td>ChIJ1_rxn8cnQg0RkXO_edn5ygc</td>\n",
       "      <td>4.7</td>\n",
       "      <td>1</td>\n",
       "      <td>1</td>\n",
       "      <td>1</td>\n",
       "      <td>1</td>\n",
       "      <td>1</td>\n",
       "      <td>0</td>\n",
       "      <td>1</td>\n",
       "      <td>1</td>\n",
       "      <td>7.0</td>\n",
       "      <td>28021</td>\n",
       "      <td>1.0</td>\n",
       "      <td>1</td>\n",
       "      <td>VILLAVERDE</td>\n",
       "      <td>153829</td>\n",
       "      <td>23.701138</td>\n",
       "      <td>15.207933</td>\n",
       "      <td>321.146138</td>\n",
       "      <td>0.042192</td>\n",
       "      <td>0.55106</td>\n",
       "      <td>8.209144</td>\n",
       "      <td>0</td>\n",
       "    </tr>\n",
       "    <tr>\n",
       "      <th>5143</th>\n",
       "      <td>1</td>\n",
       "      <td>1</td>\n",
       "      <td>1</td>\n",
       "      <td>tequeños madrid</td>\n",
       "      <td>ChIJ0WNTrM0nQg0RNTfFPrSejaY</td>\n",
       "      <td>1.0</td>\n",
       "      <td>0</td>\n",
       "      <td>1</td>\n",
       "      <td>1</td>\n",
       "      <td>1</td>\n",
       "      <td>1</td>\n",
       "      <td>0</td>\n",
       "      <td>1</td>\n",
       "      <td>1</td>\n",
       "      <td>1.0</td>\n",
       "      <td>28021</td>\n",
       "      <td>1.0</td>\n",
       "      <td>0</td>\n",
       "      <td>VILLAVERDE</td>\n",
       "      <td>153829</td>\n",
       "      <td>23.701138</td>\n",
       "      <td>15.207933</td>\n",
       "      <td>321.146138</td>\n",
       "      <td>0.042192</td>\n",
       "      <td>-0.29600</td>\n",
       "      <td>8.209144</td>\n",
       "      <td>1</td>\n",
       "    </tr>\n",
       "  </tbody>\n",
       "</table>\n",
       "<p>5144 rows × 27 columns</p>\n",
       "</div>"
      ],
      "text/plain": [
       "      result.business_status  result.delivery  result.dine_in  \\\n",
       "0                          1                1               1   \n",
       "1                          1                1               1   \n",
       "2                          1                0               1   \n",
       "3                          1                0               1   \n",
       "4                          1                0               1   \n",
       "...                      ...              ...             ...   \n",
       "5139                       1                0               1   \n",
       "5140                       1                0               1   \n",
       "5141                       1                0               1   \n",
       "5142                       1                0               1   \n",
       "5143                       1                1               1   \n",
       "\n",
       "                result.name              result.place_id  result.rating  \\\n",
       "0     restaurante la dehesa  ChIJe8y4CKAuQg0RC4YervOOVLg            4.0   \n",
       "1           casa corrochano  ChIJjWIe0PMrQg0RXJxYC8mlRcM            4.1   \n",
       "2          la mano de pablo  ChIJmw6_CKAuQg0RY9Kcr3tR5OQ            4.4   \n",
       "3                    el oso  ChIJsxAsqggsQg0Rz1mITdkhDaY            4.1   \n",
       "4                    domino  ChIJjd0Nhu0rQg0R1Q0k5TsewKg            3.7   \n",
       "...                     ...                          ...            ...   \n",
       "5139  el rincon de paula ii  ChIJp_7UKJ0nQg0RnQKlxWxzKhM            4.3   \n",
       "5140           casa domingo  ChIJHxgHwjEnQg0RpkM-ghqQ_Pk            4.4   \n",
       "5141         bar la taskita  ChIJ8-lR1yQnQg0RwXHeD5PLr3I            3.0   \n",
       "5142   restaurante lablanca  ChIJ1_rxn8cnQg0RkXO_edn5ygc            4.7   \n",
       "5143        tequeños madrid  ChIJ0WNTrM0nQg0RNTfFPrSejaY            1.0   \n",
       "\n",
       "      result.reservable  result.serves_beer  result.serves_breakfast  \\\n",
       "0                     1                   1                        1   \n",
       "1                     1                   1                        1   \n",
       "2                     1                   1                        0   \n",
       "3                     1                   1                        1   \n",
       "4                     1                   1                        1   \n",
       "...                 ...                 ...                      ...   \n",
       "5139                  1                   1                        1   \n",
       "5140                  1                   1                        1   \n",
       "5141                  0                   1                        1   \n",
       "5142                  1                   1                        1   \n",
       "5143                  0                   1                        1   \n",
       "\n",
       "      result.serves_dinner  result.serves_lunch  \\\n",
       "0                        1                    1   \n",
       "1                        1                    1   \n",
       "2                        1                    1   \n",
       "3                        1                    1   \n",
       "4                        1                    1   \n",
       "...                    ...                  ...   \n",
       "5139                     1                    1   \n",
       "5140                     1                    1   \n",
       "5141                     1                    1   \n",
       "5142                     1                    1   \n",
       "5143                     1                    1   \n",
       "\n",
       "      result.serves_vegetarian_food  result.serves_wine  result.takeout  \\\n",
       "0                                 0                   1               1   \n",
       "1                                 0                   1               1   \n",
       "2                                 0                   1               1   \n",
       "3                                 0                   1               1   \n",
       "4                                 0                   1               1   \n",
       "...                             ...                 ...             ...   \n",
       "5139                              0                   1               1   \n",
       "5140                              0                   1               1   \n",
       "5141                              0                   1               1   \n",
       "5142                              0                   1               1   \n",
       "5143                              0                   1               1   \n",
       "\n",
       "      result.user_ratings_total  zip_code  price_level  success    distrito  \\\n",
       "0                        1306.0     28050          2.0        1   HORTALEZA   \n",
       "1                         599.0     28050          1.0        1   HORTALEZA   \n",
       "2                        3674.0     28050          2.0        1   HORTALEZA   \n",
       "3                         800.0     28050          3.0        0   HORTALEZA   \n",
       "4                         651.0     28050          1.0        1   HORTALEZA   \n",
       "...                         ...       ...          ...      ...         ...   \n",
       "5139                      415.0     28021          1.0        1  VILLAVERDE   \n",
       "5140                      196.0     28021          1.0        0  VILLAVERDE   \n",
       "5141                        2.0     28021          1.0        1  VILLAVERDE   \n",
       "5142                        7.0     28021          1.0        1  VILLAVERDE   \n",
       "5143                        1.0     28021          1.0        0  VILLAVERDE   \n",
       "\n",
       "      total_population  restaurants_per_district_area  \\\n",
       "0               195017                      37.688442   \n",
       "1               195017                      37.688442   \n",
       "2               195017                      37.688442   \n",
       "3               195017                      37.688442   \n",
       "4               195017                      37.688442   \n",
       "...                ...                            ...   \n",
       "5139            153829                      23.701138   \n",
       "5140            153829                      23.701138   \n",
       "5141            153829                      23.701138   \n",
       "5142            153829                      23.701138   \n",
       "5143            153829                      23.701138   \n",
       "\n",
       "      share_year_budget_rest_per_household  share_local_pop  \\\n",
       "0                                17.863179       200.017436   \n",
       "1                                17.863179       200.017436   \n",
       "2                                17.863179       200.017436   \n",
       "3                                17.863179       200.017436   \n",
       "4                                17.863179       200.017436   \n",
       "...                                    ...              ...   \n",
       "5139                             15.207933       321.146138   \n",
       "5140                             15.207933       321.146138   \n",
       "5141                             15.207933       321.146138   \n",
       "5142                             15.207933       321.146138   \n",
       "5143                             15.207933       321.146138   \n",
       "\n",
       "      share_of_surface_in_KM2  Sentiment Score  share_tourists_zipcode  \\\n",
       "0                    0.026533          0.71114                8.058517   \n",
       "1                    0.026533          0.40254                8.058517   \n",
       "2                    0.026533          0.38708                8.058517   \n",
       "3                    0.026533          0.78602                8.058517   \n",
       "4                    0.026533          0.22376                8.058517   \n",
       "...                       ...              ...                     ...   \n",
       "5139                 0.042192          0.40792                8.209144   \n",
       "5140                 0.042192         -0.04042                8.209144   \n",
       "5141                 0.042192          0.18060                8.209144   \n",
       "5142                 0.042192          0.55106                8.209144   \n",
       "5143                 0.042192         -0.29600                8.209144   \n",
       "\n",
       "      website  \n",
       "0           1  \n",
       "1           1  \n",
       "2           1  \n",
       "3           1  \n",
       "4           0  \n",
       "...       ...  \n",
       "5139        0  \n",
       "5140        0  \n",
       "5141        0  \n",
       "5142        0  \n",
       "5143        1  \n",
       "\n",
       "[5144 rows x 27 columns]"
      ]
     },
     "execution_count": 56,
     "metadata": {},
     "output_type": "execute_result"
    }
   ],
   "source": [
    "google"
   ]
  },
  {
   "cell_type": "code",
   "execution_count": 57,
   "metadata": {
    "colab": {
     "base_uri": "https://localhost:8080/",
     "height": 143
    },
    "id": "cQ30drP-2s3P",
    "outputId": "a93bdb95-8c3f-4713-c2ff-3b730bd75c9a"
   },
   "outputs": [],
   "source": [
    "#counts = google.groupby('website')['result.business_status'].value_counts().unstack(fill_value=0)\n",
    "#counts"
   ]
  },
  {
   "cell_type": "code",
   "execution_count": 58,
   "metadata": {
    "id": "x422UR6Sqaqf"
   },
   "outputs": [],
   "source": [
    "#ratios_website = counts[1] / counts.sum(axis=1)"
   ]
  },
  {
   "cell_type": "code",
   "execution_count": 59,
   "metadata": {
    "id": "wbSHTPZ_qh-v"
   },
   "outputs": [],
   "source": [
    "# map the ratios to the original DataFrame\n",
    "#google['website'] = google['website'].map(ratios_website)"
   ]
  },
  {
   "cell_type": "code",
   "execution_count": 60,
   "metadata": {
    "colab": {
     "base_uri": "https://localhost:8080/"
    },
    "id": "eUgd7b6Dqnzv",
    "outputId": "c5a7dbed-44d0-4bdd-f762-d8d1c01dd6de"
   },
   "outputs": [],
   "source": [
    "#google['website'].value_counts()"
   ]
  },
  {
   "cell_type": "code",
   "execution_count": 61,
   "metadata": {
    "id": "AcZomB2irIeQ"
   },
   "outputs": [],
   "source": [
    "#X = google.drop(columns=['result.name','distrito','result.place_id','success','result.business_status'])\n",
    "#y = google['result.business_status'] "
   ]
  },
  {
   "cell_type": "code",
   "execution_count": 62,
   "metadata": {
    "id": "sQ3gHUQvrDJP"
   },
   "outputs": [],
   "source": [
    "#from sklearn.model_selection import train_test_split\n",
    "\n",
    "#X_train, X_test, y_train, y_test = train_test_split(X, y, test_size=0.25, random_state = 42)"
   ]
  },
  {
   "cell_type": "code",
   "execution_count": 63,
   "metadata": {
    "colab": {
     "base_uri": "https://localhost:8080/"
    },
    "id": "2PdetRXirOz9",
    "outputId": "9e73a14c-b825-4402-c0f5-74e7a7a0eb85"
   },
   "outputs": [],
   "source": [
    "#xgb_class = xgb.XGBClassifier()\n",
    "#xgb_class.fit(X_train, y_train)\n",
    "#xgb_class.score(X_test,y_test)"
   ]
  },
  {
   "cell_type": "code",
   "execution_count": 64,
   "metadata": {
    "colab": {
     "base_uri": "https://localhost:8080/",
     "height": 295
    },
    "id": "-ECJTuIorPyv",
    "outputId": "69a5c0f8-2683-48f2-8580-d805e669a83d"
   },
   "outputs": [],
   "source": [
    "#xgb.plot_importance(xgb_class)\n",
    "#plt.show()"
   ]
  },
  {
   "cell_type": "code",
   "execution_count": 65,
   "metadata": {
    "colab": {
     "base_uri": "https://localhost:8080/"
    },
    "id": "KN_uzxrorkjB",
    "outputId": "100dfece-ea9f-4b60-840a-517a12ed1e10"
   },
   "outputs": [
    {
     "data": {
      "text/plain": [
       "Index(['result.business_status', 'result.delivery', 'result.dine_in',\n",
       "       'result.name', 'result.place_id', 'result.rating', 'result.reservable',\n",
       "       'result.serves_beer', 'result.serves_breakfast', 'result.serves_dinner',\n",
       "       'result.serves_lunch', 'result.serves_vegetarian_food',\n",
       "       'result.serves_wine', 'result.takeout', 'result.user_ratings_total',\n",
       "       'zip_code', 'price_level', 'success', 'distrito', 'total_population',\n",
       "       'restaurants_per_district_area', 'share_year_budget_rest_per_household',\n",
       "       'share_local_pop', 'share_of_surface_in_KM2', 'Sentiment Score',\n",
       "       'share_tourists_zipcode', 'website'],\n",
       "      dtype='object')"
      ]
     },
     "execution_count": 65,
     "metadata": {},
     "output_type": "execute_result"
    }
   ],
   "source": [
    "google.columns"
   ]
  },
  {
   "cell_type": "code",
   "execution_count": 66,
   "metadata": {
    "id": "vO6ZGinS8GQO"
   },
   "outputs": [],
   "source": [
    "#Creating concepts\n",
    "#takeout, delivery, a la carte, has a bar, can be booked, has vegetarian options"
   ]
  },
  {
   "cell_type": "code",
   "execution_count": 67,
   "metadata": {
    "id": "7hflgKnq8IfY"
   },
   "outputs": [],
   "source": [
    "#restaurant has a bar\n",
    "google['serves_alcohol'] = (google['result.serves_beer'] == 1) & (google['result.serves_wine'] == 1)\n",
    "google['serves_alcohol'] = google['serves_alcohol'].astype(int)"
   ]
  },
  {
   "cell_type": "code",
   "execution_count": 68,
   "metadata": {
    "colab": {
     "base_uri": "https://localhost:8080/"
    },
    "id": "VmS9RrLi_NCW",
    "outputId": "af8173f2-8891-4193-dd8d-ad947e14cfaf"
   },
   "outputs": [
    {
     "data": {
      "text/plain": [
       "1    4910\n",
       "0     234\n",
       "Name: serves_alcohol, dtype: int64"
      ]
     },
     "execution_count": 68,
     "metadata": {},
     "output_type": "execute_result"
    }
   ],
   "source": [
    "google['serves_alcohol'].value_counts()"
   ]
  },
  {
   "cell_type": "markdown",
   "metadata": {
    "colab": {
     "base_uri": "https://localhost:8080/",
     "height": 143
    },
    "id": "csYSYti4_mwH",
    "outputId": "0e48ee2f-faf8-46f3-d76a-e764f3c6d54f"
   },
   "source": [
    "counts = google.groupby('serves_alcohol')['result.business_status'].value_counts().unstack(fill_value=0)\n",
    "counts"
   ]
  },
  {
   "cell_type": "markdown",
   "metadata": {
    "id": "5oBZjOs2_xZQ"
   },
   "source": [
    "ratios_bar = counts / counts.sum(axis=1)"
   ]
  },
  {
   "cell_type": "markdown",
   "metadata": {
    "colab": {
     "base_uri": "https://localhost:8080/"
    },
    "id": "beljhBg7_3Mr",
    "outputId": "8478f25b-2a91-4dd1-f1d5-0c6b1a41b2c2"
   },
   "source": [
    "ratios_bar[1]"
   ]
  },
  {
   "cell_type": "markdown",
   "metadata": {
    "id": "xx08w3DaAdFe"
   },
   "source": [
    "google['serves_alcohol'] = google['serves_alcohol'].map(ratios_bar[1])"
   ]
  },
  {
   "cell_type": "code",
   "execution_count": 69,
   "metadata": {
    "id": "6LBEs84JAyA9"
   },
   "outputs": [],
   "source": [
    "google.drop(columns=['result.serves_beer','result.serves_wine'], axis=1, inplace=True)"
   ]
  },
  {
   "cell_type": "code",
   "execution_count": 70,
   "metadata": {
    "colab": {
     "base_uri": "https://localhost:8080/",
     "height": 609
    },
    "id": "9ESG4GtsBO-Z",
    "outputId": "2986f924-d118-4e67-ac69-b85e57acde52"
   },
   "outputs": [
    {
     "data": {
      "text/html": [
       "<div>\n",
       "<style scoped>\n",
       "    .dataframe tbody tr th:only-of-type {\n",
       "        vertical-align: middle;\n",
       "    }\n",
       "\n",
       "    .dataframe tbody tr th {\n",
       "        vertical-align: top;\n",
       "    }\n",
       "\n",
       "    .dataframe thead th {\n",
       "        text-align: right;\n",
       "    }\n",
       "</style>\n",
       "<table border=\"1\" class=\"dataframe\">\n",
       "  <thead>\n",
       "    <tr style=\"text-align: right;\">\n",
       "      <th></th>\n",
       "      <th>result.business_status</th>\n",
       "      <th>result.delivery</th>\n",
       "      <th>result.dine_in</th>\n",
       "      <th>result.name</th>\n",
       "      <th>result.place_id</th>\n",
       "      <th>result.rating</th>\n",
       "      <th>result.reservable</th>\n",
       "      <th>result.serves_breakfast</th>\n",
       "      <th>result.serves_dinner</th>\n",
       "      <th>result.serves_lunch</th>\n",
       "      <th>result.serves_vegetarian_food</th>\n",
       "      <th>result.takeout</th>\n",
       "      <th>result.user_ratings_total</th>\n",
       "      <th>zip_code</th>\n",
       "      <th>price_level</th>\n",
       "      <th>success</th>\n",
       "      <th>distrito</th>\n",
       "      <th>total_population</th>\n",
       "      <th>restaurants_per_district_area</th>\n",
       "      <th>share_year_budget_rest_per_household</th>\n",
       "      <th>share_local_pop</th>\n",
       "      <th>share_of_surface_in_KM2</th>\n",
       "      <th>Sentiment Score</th>\n",
       "      <th>share_tourists_zipcode</th>\n",
       "      <th>website</th>\n",
       "      <th>serves_alcohol</th>\n",
       "    </tr>\n",
       "  </thead>\n",
       "  <tbody>\n",
       "    <tr>\n",
       "      <th>0</th>\n",
       "      <td>1</td>\n",
       "      <td>1</td>\n",
       "      <td>1</td>\n",
       "      <td>restaurante la dehesa</td>\n",
       "      <td>ChIJe8y4CKAuQg0RC4YervOOVLg</td>\n",
       "      <td>4.0</td>\n",
       "      <td>1</td>\n",
       "      <td>1</td>\n",
       "      <td>1</td>\n",
       "      <td>1</td>\n",
       "      <td>0</td>\n",
       "      <td>1</td>\n",
       "      <td>1306.0</td>\n",
       "      <td>28050</td>\n",
       "      <td>2.0</td>\n",
       "      <td>1</td>\n",
       "      <td>HORTALEZA</td>\n",
       "      <td>195017</td>\n",
       "      <td>37.688442</td>\n",
       "      <td>17.863179</td>\n",
       "      <td>200.017436</td>\n",
       "      <td>0.026533</td>\n",
       "      <td>0.71114</td>\n",
       "      <td>8.058517</td>\n",
       "      <td>1</td>\n",
       "      <td>1</td>\n",
       "    </tr>\n",
       "  </tbody>\n",
       "</table>\n",
       "</div>"
      ],
      "text/plain": [
       "   result.business_status  result.delivery  result.dine_in  \\\n",
       "0                       1                1               1   \n",
       "\n",
       "             result.name              result.place_id  result.rating  \\\n",
       "0  restaurante la dehesa  ChIJe8y4CKAuQg0RC4YervOOVLg            4.0   \n",
       "\n",
       "   result.reservable  result.serves_breakfast  result.serves_dinner  \\\n",
       "0                  1                        1                     1   \n",
       "\n",
       "   result.serves_lunch  result.serves_vegetarian_food  result.takeout  \\\n",
       "0                    1                              0               1   \n",
       "\n",
       "   result.user_ratings_total  zip_code  price_level  success   distrito  \\\n",
       "0                     1306.0     28050          2.0        1  HORTALEZA   \n",
       "\n",
       "   total_population  restaurants_per_district_area  \\\n",
       "0            195017                      37.688442   \n",
       "\n",
       "   share_year_budget_rest_per_household  share_local_pop  \\\n",
       "0                             17.863179       200.017436   \n",
       "\n",
       "   share_of_surface_in_KM2  Sentiment Score  share_tourists_zipcode  website  \\\n",
       "0                 0.026533          0.71114                8.058517        1   \n",
       "\n",
       "   serves_alcohol  \n",
       "0               1  "
      ]
     },
     "execution_count": 70,
     "metadata": {},
     "output_type": "execute_result"
    }
   ],
   "source": [
    "google.head(1)"
   ]
  },
  {
   "cell_type": "code",
   "execution_count": 71,
   "metadata": {
    "id": "C6SkwhGeELdd"
   },
   "outputs": [],
   "source": [
    "#encoding delivery, takeout and dine_in"
   ]
  },
  {
   "cell_type": "markdown",
   "metadata": {
    "colab": {
     "base_uri": "https://localhost:8080/",
     "height": 143
    },
    "id": "TMdYLHt0D0ME",
    "outputId": "31f7f50c-e14a-4002-8b04-ec574372be1d"
   },
   "source": [
    "count_one = google.groupby('result.delivery')['result.business_status'].value_counts().unstack(fill_value=0)\n",
    "count_one"
   ]
  },
  {
   "cell_type": "markdown",
   "metadata": {
    "colab": {
     "base_uri": "https://localhost:8080/",
     "height": 143
    },
    "id": "R67EPnxdEWAX",
    "outputId": "e25bf90d-5e56-4128-be46-fee58065d4c3"
   },
   "source": [
    "count_two = google.groupby('result.takeout')['result.business_status'].value_counts().unstack(fill_value=0)\n",
    "count_two"
   ]
  },
  {
   "cell_type": "markdown",
   "metadata": {
    "colab": {
     "base_uri": "https://localhost:8080/",
     "height": 143
    },
    "id": "lHq1gwGFEWc_",
    "outputId": "90ada5d8-cbed-4fcf-ded2-664f1856bfb9"
   },
   "source": [
    "count_three = google.groupby('result.dine_in')['result.business_status'].value_counts().unstack(fill_value=0)\n",
    "count_three"
   ]
  },
  {
   "cell_type": "markdown",
   "metadata": {
    "id": "U0V-dLq0E2MH"
   },
   "source": [
    "ratios_delivery = count_one[1] / count_one.sum(axis=1)"
   ]
  },
  {
   "cell_type": "markdown",
   "metadata": {},
   "source": [
    "ratios_delivery"
   ]
  },
  {
   "cell_type": "markdown",
   "metadata": {
    "id": "cJj8pU5uE2Oi"
   },
   "source": [
    "ratios_takeout = count_two[1] / count_two.sum(axis=1)"
   ]
  },
  {
   "cell_type": "markdown",
   "metadata": {},
   "source": [
    "ratios_takeout"
   ]
  },
  {
   "cell_type": "markdown",
   "metadata": {
    "id": "N6nJkh8OE2Qs"
   },
   "source": [
    "ratios_dine_in = count_two[1] / count_two.sum(axis=1)"
   ]
  },
  {
   "cell_type": "markdown",
   "metadata": {},
   "source": [
    "ratios_dine_in"
   ]
  },
  {
   "cell_type": "markdown",
   "metadata": {
    "id": "DCX5fZzdE2U_"
   },
   "source": [
    "google['result.delivery'] = google['result.delivery'].map(ratios_delivery)\n",
    "google['result.takeout'] = google['result.takeout'].map(ratios_takeout)\n",
    "google['result.dine_in'] = google['result.dine_in'].map(ratios_dine_in)"
   ]
  },
  {
   "cell_type": "code",
   "execution_count": 72,
   "metadata": {
    "id": "uem9apJsE2h9"
   },
   "outputs": [],
   "source": [
    "google.drop(columns=['result.serves_breakfast',\n",
    "       'result.serves_dinner', 'result.serves_lunch'], axis=1, inplace=True)"
   ]
  },
  {
   "cell_type": "code",
   "execution_count": 73,
   "metadata": {},
   "outputs": [
    {
     "data": {
      "text/html": [
       "<div>\n",
       "<style scoped>\n",
       "    .dataframe tbody tr th:only-of-type {\n",
       "        vertical-align: middle;\n",
       "    }\n",
       "\n",
       "    .dataframe tbody tr th {\n",
       "        vertical-align: top;\n",
       "    }\n",
       "\n",
       "    .dataframe thead th {\n",
       "        text-align: right;\n",
       "    }\n",
       "</style>\n",
       "<table border=\"1\" class=\"dataframe\">\n",
       "  <thead>\n",
       "    <tr style=\"text-align: right;\">\n",
       "      <th></th>\n",
       "      <th>result.business_status</th>\n",
       "      <th>result.delivery</th>\n",
       "      <th>result.dine_in</th>\n",
       "      <th>result.name</th>\n",
       "      <th>result.place_id</th>\n",
       "      <th>result.rating</th>\n",
       "      <th>result.reservable</th>\n",
       "      <th>result.serves_vegetarian_food</th>\n",
       "      <th>result.takeout</th>\n",
       "      <th>result.user_ratings_total</th>\n",
       "      <th>zip_code</th>\n",
       "      <th>price_level</th>\n",
       "      <th>success</th>\n",
       "      <th>distrito</th>\n",
       "      <th>total_population</th>\n",
       "      <th>restaurants_per_district_area</th>\n",
       "      <th>share_year_budget_rest_per_household</th>\n",
       "      <th>share_local_pop</th>\n",
       "      <th>share_of_surface_in_KM2</th>\n",
       "      <th>Sentiment Score</th>\n",
       "      <th>share_tourists_zipcode</th>\n",
       "      <th>website</th>\n",
       "      <th>serves_alcohol</th>\n",
       "    </tr>\n",
       "  </thead>\n",
       "  <tbody>\n",
       "    <tr>\n",
       "      <th>0</th>\n",
       "      <td>1</td>\n",
       "      <td>1</td>\n",
       "      <td>1</td>\n",
       "      <td>restaurante la dehesa</td>\n",
       "      <td>ChIJe8y4CKAuQg0RC4YervOOVLg</td>\n",
       "      <td>4.0</td>\n",
       "      <td>1</td>\n",
       "      <td>0</td>\n",
       "      <td>1</td>\n",
       "      <td>1306.0</td>\n",
       "      <td>28050</td>\n",
       "      <td>2.0</td>\n",
       "      <td>1</td>\n",
       "      <td>HORTALEZA</td>\n",
       "      <td>195017</td>\n",
       "      <td>37.688442</td>\n",
       "      <td>17.863179</td>\n",
       "      <td>200.017436</td>\n",
       "      <td>0.026533</td>\n",
       "      <td>0.71114</td>\n",
       "      <td>8.058517</td>\n",
       "      <td>1</td>\n",
       "      <td>1</td>\n",
       "    </tr>\n",
       "  </tbody>\n",
       "</table>\n",
       "</div>"
      ],
      "text/plain": [
       "   result.business_status  result.delivery  result.dine_in  \\\n",
       "0                       1                1               1   \n",
       "\n",
       "             result.name              result.place_id  result.rating  \\\n",
       "0  restaurante la dehesa  ChIJe8y4CKAuQg0RC4YervOOVLg            4.0   \n",
       "\n",
       "   result.reservable  result.serves_vegetarian_food  result.takeout  \\\n",
       "0                  1                              0               1   \n",
       "\n",
       "   result.user_ratings_total  zip_code  price_level  success   distrito  \\\n",
       "0                     1306.0     28050          2.0        1  HORTALEZA   \n",
       "\n",
       "   total_population  restaurants_per_district_area  \\\n",
       "0            195017                      37.688442   \n",
       "\n",
       "   share_year_budget_rest_per_household  share_local_pop  \\\n",
       "0                             17.863179       200.017436   \n",
       "\n",
       "   share_of_surface_in_KM2  Sentiment Score  share_tourists_zipcode  website  \\\n",
       "0                 0.026533          0.71114                8.058517        1   \n",
       "\n",
       "   serves_alcohol  \n",
       "0               1  "
      ]
     },
     "execution_count": 73,
     "metadata": {},
     "output_type": "execute_result"
    }
   ],
   "source": [
    "google.head(1)"
   ]
  },
  {
   "cell_type": "code",
   "execution_count": 74,
   "metadata": {
    "id": "rqbNovOeE2kM"
   },
   "outputs": [],
   "source": [
    "#testing"
   ]
  },
  {
   "cell_type": "code",
   "execution_count": 75,
   "metadata": {
    "id": "GW4CZgZoHmxt"
   },
   "outputs": [],
   "source": [
    "X = google.drop(columns=['result.name','result.place_id','distrito','success','zip_code','result.business_status'])\n",
    "y = google['result.business_status'] "
   ]
  },
  {
   "cell_type": "code",
   "execution_count": 76,
   "metadata": {
    "id": "SWguTq94Hmde"
   },
   "outputs": [],
   "source": [
    "from sklearn.model_selection import train_test_split\n",
    "\n",
    "X_train, X_test, y_train, y_test = train_test_split(X, y, test_size=0.25, random_state = 42)"
   ]
  },
  {
   "cell_type": "code",
   "execution_count": 77,
   "metadata": {
    "colab": {
     "base_uri": "https://localhost:8080/"
    },
    "id": "uIMCzjW-H6Nm",
    "outputId": "92552fda-2074-4e0d-e580-3fe9eb78a16f"
   },
   "outputs": [
    {
     "data": {
      "text/plain": [
       "0.9455676516329704"
      ]
     },
     "execution_count": 77,
     "metadata": {},
     "output_type": "execute_result"
    }
   ],
   "source": [
    "xgb_class = xgb.XGBClassifier()\n",
    "xgb_class.fit(X_train, y_train)\n",
    "xgb_class.score(X_test,y_test)"
   ]
  },
  {
   "cell_type": "code",
   "execution_count": 78,
   "metadata": {
    "colab": {
     "base_uri": "https://localhost:8080/",
     "height": 295
    },
    "id": "vlIun8fZH6Ps",
    "outputId": "c40840e1-a20c-4546-a82c-f0db2175eee2"
   },
   "outputs": [
    {
     "data": {
      "image/png": "[encoded data removed]",
      "text/plain": [
       "<Figure size 432x288 with 1 Axes>"
      ]
     },
     "metadata": {
      "needs_background": "light"
     },
     "output_type": "display_data"
    }
   ],
   "source": [
    "xgb.plot_importance(xgb_class)\n",
    "plt.show()"
   ]
  },
  {
   "cell_type": "code",
   "execution_count": 79,
   "metadata": {
    "colab": {
     "base_uri": "https://localhost:8080/",
     "height": 1000
    },
    "id": "l2bqGvgdKBn5",
    "outputId": "27247e2c-51d8-491e-ea48-8db2f87e628d",
    "scrolled": true
   },
   "outputs": [
    {
     "data": {
      "text/html": [
       "<div>\n",
       "<style scoped>\n",
       "    .dataframe tbody tr th:only-of-type {\n",
       "        vertical-align: middle;\n",
       "    }\n",
       "\n",
       "    .dataframe tbody tr th {\n",
       "        vertical-align: top;\n",
       "    }\n",
       "\n",
       "    .dataframe thead th {\n",
       "        text-align: right;\n",
       "    }\n",
       "</style>\n",
       "<table border=\"1\" class=\"dataframe\">\n",
       "  <thead>\n",
       "    <tr style=\"text-align: right;\">\n",
       "      <th></th>\n",
       "      <th>result.user_ratings_total</th>\n",
       "    </tr>\n",
       "    <tr>\n",
       "      <th>zip_code</th>\n",
       "      <th></th>\n",
       "    </tr>\n",
       "  </thead>\n",
       "  <tbody>\n",
       "    <tr>\n",
       "      <th>28001</th>\n",
       "      <td>858.0</td>\n",
       "    </tr>\n",
       "    <tr>\n",
       "      <th>28002</th>\n",
       "      <td>474.5</td>\n",
       "    </tr>\n",
       "    <tr>\n",
       "      <th>28003</th>\n",
       "      <td>653.0</td>\n",
       "    </tr>\n",
       "    <tr>\n",
       "      <th>28004</th>\n",
       "      <td>1220.5</td>\n",
       "    </tr>\n",
       "    <tr>\n",
       "      <th>28005</th>\n",
       "      <td>729.0</td>\n",
       "    </tr>\n",
       "    <tr>\n",
       "      <th>28006</th>\n",
       "      <td>731.0</td>\n",
       "    </tr>\n",
       "    <tr>\n",
       "      <th>28007</th>\n",
       "      <td>359.0</td>\n",
       "    </tr>\n",
       "    <tr>\n",
       "      <th>28008</th>\n",
       "      <td>500.0</td>\n",
       "    </tr>\n",
       "    <tr>\n",
       "      <th>28009</th>\n",
       "      <td>593.0</td>\n",
       "    </tr>\n",
       "    <tr>\n",
       "      <th>28010</th>\n",
       "      <td>542.0</td>\n",
       "    </tr>\n",
       "    <tr>\n",
       "      <th>28011</th>\n",
       "      <td>159.0</td>\n",
       "    </tr>\n",
       "    <tr>\n",
       "      <th>28012</th>\n",
       "      <td>1294.0</td>\n",
       "    </tr>\n",
       "    <tr>\n",
       "      <th>28013</th>\n",
       "      <td>1843.0</td>\n",
       "    </tr>\n",
       "    <tr>\n",
       "      <th>28014</th>\n",
       "      <td>836.0</td>\n",
       "    </tr>\n",
       "    <tr>\n",
       "      <th>28015</th>\n",
       "      <td>578.5</td>\n",
       "    </tr>\n",
       "    <tr>\n",
       "      <th>28016</th>\n",
       "      <td>514.0</td>\n",
       "    </tr>\n",
       "    <tr>\n",
       "      <th>28017</th>\n",
       "      <td>134.5</td>\n",
       "    </tr>\n",
       "    <tr>\n",
       "      <th>28018</th>\n",
       "      <td>143.0</td>\n",
       "    </tr>\n",
       "    <tr>\n",
       "      <th>28019</th>\n",
       "      <td>109.5</td>\n",
       "    </tr>\n",
       "    <tr>\n",
       "      <th>28020</th>\n",
       "      <td>688.5</td>\n",
       "    </tr>\n",
       "    <tr>\n",
       "      <th>28021</th>\n",
       "      <td>116.0</td>\n",
       "    </tr>\n",
       "    <tr>\n",
       "      <th>28022</th>\n",
       "      <td>278.5</td>\n",
       "    </tr>\n",
       "    <tr>\n",
       "      <th>28024</th>\n",
       "      <td>761.0</td>\n",
       "    </tr>\n",
       "    <tr>\n",
       "      <th>28025</th>\n",
       "      <td>125.0</td>\n",
       "    </tr>\n",
       "    <tr>\n",
       "      <th>28026</th>\n",
       "      <td>174.0</td>\n",
       "    </tr>\n",
       "    <tr>\n",
       "      <th>28027</th>\n",
       "      <td>235.5</td>\n",
       "    </tr>\n",
       "    <tr>\n",
       "      <th>28028</th>\n",
       "      <td>273.5</td>\n",
       "    </tr>\n",
       "    <tr>\n",
       "      <th>28029</th>\n",
       "      <td>267.5</td>\n",
       "    </tr>\n",
       "    <tr>\n",
       "      <th>28030</th>\n",
       "      <td>232.0</td>\n",
       "    </tr>\n",
       "    <tr>\n",
       "      <th>28031</th>\n",
       "      <td>215.5</td>\n",
       "    </tr>\n",
       "    <tr>\n",
       "      <th>28032</th>\n",
       "      <td>237.0</td>\n",
       "    </tr>\n",
       "    <tr>\n",
       "      <th>28033</th>\n",
       "      <td>273.0</td>\n",
       "    </tr>\n",
       "    <tr>\n",
       "      <th>28034</th>\n",
       "      <td>283.0</td>\n",
       "    </tr>\n",
       "    <tr>\n",
       "      <th>28035</th>\n",
       "      <td>327.5</td>\n",
       "    </tr>\n",
       "    <tr>\n",
       "      <th>28036</th>\n",
       "      <td>775.0</td>\n",
       "    </tr>\n",
       "    <tr>\n",
       "      <th>28037</th>\n",
       "      <td>184.0</td>\n",
       "    </tr>\n",
       "    <tr>\n",
       "      <th>28038</th>\n",
       "      <td>107.0</td>\n",
       "    </tr>\n",
       "    <tr>\n",
       "      <th>28039</th>\n",
       "      <td>142.0</td>\n",
       "    </tr>\n",
       "    <tr>\n",
       "      <th>28041</th>\n",
       "      <td>147.0</td>\n",
       "    </tr>\n",
       "    <tr>\n",
       "      <th>28042</th>\n",
       "      <td>211.0</td>\n",
       "    </tr>\n",
       "    <tr>\n",
       "      <th>28043</th>\n",
       "      <td>264.5</td>\n",
       "    </tr>\n",
       "    <tr>\n",
       "      <th>28044</th>\n",
       "      <td>357.0</td>\n",
       "    </tr>\n",
       "    <tr>\n",
       "      <th>28045</th>\n",
       "      <td>380.0</td>\n",
       "    </tr>\n",
       "    <tr>\n",
       "      <th>28046</th>\n",
       "      <td>538.0</td>\n",
       "    </tr>\n",
       "    <tr>\n",
       "      <th>28047</th>\n",
       "      <td>451.0</td>\n",
       "    </tr>\n",
       "    <tr>\n",
       "      <th>28048</th>\n",
       "      <td>769.0</td>\n",
       "    </tr>\n",
       "    <tr>\n",
       "      <th>28049</th>\n",
       "      <td>546.0</td>\n",
       "    </tr>\n",
       "    <tr>\n",
       "      <th>28050</th>\n",
       "      <td>531.0</td>\n",
       "    </tr>\n",
       "    <tr>\n",
       "      <th>28051</th>\n",
       "      <td>627.0</td>\n",
       "    </tr>\n",
       "    <tr>\n",
       "      <th>28052</th>\n",
       "      <td>355.0</td>\n",
       "    </tr>\n",
       "    <tr>\n",
       "      <th>28053</th>\n",
       "      <td>82.5</td>\n",
       "    </tr>\n",
       "    <tr>\n",
       "      <th>28054</th>\n",
       "      <td>563.5</td>\n",
       "    </tr>\n",
       "  </tbody>\n",
       "</table>\n",
       "</div>"
      ],
      "text/plain": [
       "          result.user_ratings_total\n",
       "zip_code                           \n",
       "28001                         858.0\n",
       "28002                         474.5\n",
       "28003                         653.0\n",
       "28004                        1220.5\n",
       "28005                         729.0\n",
       "28006                         731.0\n",
       "28007                         359.0\n",
       "28008                         500.0\n",
       "28009                         593.0\n",
       "28010                         542.0\n",
       "28011                         159.0\n",
       "28012                        1294.0\n",
       "28013                        1843.0\n",
       "28014                         836.0\n",
       "28015                         578.5\n",
       "28016                         514.0\n",
       "28017                         134.5\n",
       "28018                         143.0\n",
       "28019                         109.5\n",
       "28020                         688.5\n",
       "28021                         116.0\n",
       "28022                         278.5\n",
       "28024                         761.0\n",
       "28025                         125.0\n",
       "28026                         174.0\n",
       "28027                         235.5\n",
       "28028                         273.5\n",
       "28029                         267.5\n",
       "28030                         232.0\n",
       "28031                         215.5\n",
       "28032                         237.0\n",
       "28033                         273.0\n",
       "28034                         283.0\n",
       "28035                         327.5\n",
       "28036                         775.0\n",
       "28037                         184.0\n",
       "28038                         107.0\n",
       "28039                         142.0\n",
       "28041                         147.0\n",
       "28042                         211.0\n",
       "28043                         264.5\n",
       "28044                         357.0\n",
       "28045                         380.0\n",
       "28046                         538.0\n",
       "28047                         451.0\n",
       "28048                         769.0\n",
       "28049                         546.0\n",
       "28050                         531.0\n",
       "28051                         627.0\n",
       "28052                         355.0\n",
       "28053                          82.5\n",
       "28054                         563.5"
      ]
     },
     "execution_count": 79,
     "metadata": {},
     "output_type": "execute_result"
    }
   ],
   "source": [
    "count_zip = google.groupby('zip_code').agg({'result.user_ratings_total':'median'})\n",
    "count_zip"
   ]
  },
  {
   "cell_type": "code",
   "execution_count": 80,
   "metadata": {
    "id": "wUFzlIxRKBc6"
   },
   "outputs": [],
   "source": [
    "google['zip_code_encoded'] = google['zip_code'].map(count_zip['result.user_ratings_total'])"
   ]
  },
  {
   "cell_type": "code",
   "execution_count": 81,
   "metadata": {
    "colab": {
     "base_uri": "https://localhost:8080/",
     "height": 162
    },
    "id": "N8jUhE-9KBOD",
    "outputId": "d34c6724-a0ce-49b3-c813-33697ccdbb9d"
   },
   "outputs": [
    {
     "data": {
      "text/html": [
       "<div>\n",
       "<style scoped>\n",
       "    .dataframe tbody tr th:only-of-type {\n",
       "        vertical-align: middle;\n",
       "    }\n",
       "\n",
       "    .dataframe tbody tr th {\n",
       "        vertical-align: top;\n",
       "    }\n",
       "\n",
       "    .dataframe thead th {\n",
       "        text-align: right;\n",
       "    }\n",
       "</style>\n",
       "<table border=\"1\" class=\"dataframe\">\n",
       "  <thead>\n",
       "    <tr style=\"text-align: right;\">\n",
       "      <th></th>\n",
       "      <th>result.business_status</th>\n",
       "      <th>result.delivery</th>\n",
       "      <th>result.dine_in</th>\n",
       "      <th>result.name</th>\n",
       "      <th>result.place_id</th>\n",
       "      <th>result.rating</th>\n",
       "      <th>result.reservable</th>\n",
       "      <th>result.serves_vegetarian_food</th>\n",
       "      <th>result.takeout</th>\n",
       "      <th>result.user_ratings_total</th>\n",
       "      <th>zip_code</th>\n",
       "      <th>price_level</th>\n",
       "      <th>success</th>\n",
       "      <th>distrito</th>\n",
       "      <th>total_population</th>\n",
       "      <th>restaurants_per_district_area</th>\n",
       "      <th>share_year_budget_rest_per_household</th>\n",
       "      <th>share_local_pop</th>\n",
       "      <th>share_of_surface_in_KM2</th>\n",
       "      <th>Sentiment Score</th>\n",
       "      <th>share_tourists_zipcode</th>\n",
       "      <th>website</th>\n",
       "      <th>serves_alcohol</th>\n",
       "      <th>zip_code_encoded</th>\n",
       "    </tr>\n",
       "  </thead>\n",
       "  <tbody>\n",
       "    <tr>\n",
       "      <th>0</th>\n",
       "      <td>1</td>\n",
       "      <td>1</td>\n",
       "      <td>1</td>\n",
       "      <td>restaurante la dehesa</td>\n",
       "      <td>ChIJe8y4CKAuQg0RC4YervOOVLg</td>\n",
       "      <td>4.0</td>\n",
       "      <td>1</td>\n",
       "      <td>0</td>\n",
       "      <td>1</td>\n",
       "      <td>1306.0</td>\n",
       "      <td>28050</td>\n",
       "      <td>2.0</td>\n",
       "      <td>1</td>\n",
       "      <td>HORTALEZA</td>\n",
       "      <td>195017</td>\n",
       "      <td>37.688442</td>\n",
       "      <td>17.863179</td>\n",
       "      <td>200.017436</td>\n",
       "      <td>0.026533</td>\n",
       "      <td>0.71114</td>\n",
       "      <td>8.058517</td>\n",
       "      <td>1</td>\n",
       "      <td>1</td>\n",
       "      <td>531.0</td>\n",
       "    </tr>\n",
       "  </tbody>\n",
       "</table>\n",
       "</div>"
      ],
      "text/plain": [
       "   result.business_status  result.delivery  result.dine_in  \\\n",
       "0                       1                1               1   \n",
       "\n",
       "             result.name              result.place_id  result.rating  \\\n",
       "0  restaurante la dehesa  ChIJe8y4CKAuQg0RC4YervOOVLg            4.0   \n",
       "\n",
       "   result.reservable  result.serves_vegetarian_food  result.takeout  \\\n",
       "0                  1                              0               1   \n",
       "\n",
       "   result.user_ratings_total  zip_code  price_level  success   distrito  \\\n",
       "0                     1306.0     28050          2.0        1  HORTALEZA   \n",
       "\n",
       "   total_population  restaurants_per_district_area  \\\n",
       "0            195017                      37.688442   \n",
       "\n",
       "   share_year_budget_rest_per_household  share_local_pop  \\\n",
       "0                             17.863179       200.017436   \n",
       "\n",
       "   share_of_surface_in_KM2  Sentiment Score  share_tourists_zipcode  website  \\\n",
       "0                 0.026533          0.71114                8.058517        1   \n",
       "\n",
       "   serves_alcohol  zip_code_encoded  \n",
       "0               1             531.0  "
      ]
     },
     "execution_count": 81,
     "metadata": {},
     "output_type": "execute_result"
    }
   ],
   "source": [
    "google.head(1)"
   ]
  },
  {
   "cell_type": "code",
   "execution_count": 82,
   "metadata": {
    "id": "dliakC0i5vEP"
   },
   "outputs": [],
   "source": [
    "X = google.drop(columns=['result.name','result.place_id','result.user_ratings_total','distrito','result.business_status'])\n",
    "y = google['result.business_status'] "
   ]
  },
  {
   "cell_type": "code",
   "execution_count": 83,
   "metadata": {
    "id": "omFvM4ZO6FJ5"
   },
   "outputs": [],
   "source": [
    "from sklearn.model_selection import train_test_split\n",
    "\n",
    "X_train, X_test, y_train, y_test = train_test_split(X, y, test_size=0.25, random_state = 42)"
   ]
  },
  {
   "cell_type": "code",
   "execution_count": 84,
   "metadata": {
    "colab": {
     "base_uri": "https://localhost:8080/"
    },
    "id": "vizzrZto6GJX",
    "outputId": "5fdf70b2-1bee-4e88-db44-5ec42dd81dc2"
   },
   "outputs": [
    {
     "data": {
      "text/plain": [
       "0.937791601866252"
      ]
     },
     "execution_count": 84,
     "metadata": {},
     "output_type": "execute_result"
    }
   ],
   "source": [
    "xgb_class = xgb.XGBClassifier()\n",
    "xgb_class.fit(X_train, y_train)\n",
    "xgb_class.score(X_test,y_test)"
   ]
  },
  {
   "cell_type": "code",
   "execution_count": 85,
   "metadata": {
    "colab": {
     "base_uri": "https://localhost:8080/",
     "height": 295
    },
    "id": "J4Qb0uNX6NuX",
    "outputId": "4746b49e-af49-45c3-9954-65201e358272"
   },
   "outputs": [
    {
     "data": {
      "image/png": "[encoded data removed]",
      "text/plain": [
       "<Figure size 432x288 with 1 Axes>"
      ]
     },
     "metadata": {
      "needs_background": "light"
     },
     "output_type": "display_data"
    }
   ],
   "source": [
    "xgb.plot_importance(xgb_class)\n",
    "plt.show()"
   ]
  },
  {
   "cell_type": "code",
   "execution_count": 86,
   "metadata": {
    "id": "olhhx40rOvf1"
   },
   "outputs": [],
   "source": [
    "#encode vegetarian food, reservable, price_level "
   ]
  },
  {
   "cell_type": "code",
   "execution_count": 87,
   "metadata": {
    "colab": {
     "base_uri": "https://localhost:8080/",
     "height": 206
    },
    "id": "5evFk2JtfZYN",
    "outputId": "23cf74b6-1a7d-499f-c18d-d58b0b3a6cff"
   },
   "outputs": [
    {
     "data": {
      "text/html": [
       "<div>\n",
       "<style scoped>\n",
       "    .dataframe tbody tr th:only-of-type {\n",
       "        vertical-align: middle;\n",
       "    }\n",
       "\n",
       "    .dataframe tbody tr th {\n",
       "        vertical-align: top;\n",
       "    }\n",
       "\n",
       "    .dataframe thead th {\n",
       "        text-align: right;\n",
       "    }\n",
       "</style>\n",
       "<table border=\"1\" class=\"dataframe\">\n",
       "  <thead>\n",
       "    <tr style=\"text-align: right;\">\n",
       "      <th></th>\n",
       "      <th>result.rating</th>\n",
       "    </tr>\n",
       "    <tr>\n",
       "      <th>price_level</th>\n",
       "      <th></th>\n",
       "    </tr>\n",
       "  </thead>\n",
       "  <tbody>\n",
       "    <tr>\n",
       "      <th>1.0</th>\n",
       "      <td>4.1</td>\n",
       "    </tr>\n",
       "    <tr>\n",
       "      <th>2.0</th>\n",
       "      <td>4.2</td>\n",
       "    </tr>\n",
       "    <tr>\n",
       "      <th>3.0</th>\n",
       "      <td>4.3</td>\n",
       "    </tr>\n",
       "    <tr>\n",
       "      <th>4.0</th>\n",
       "      <td>4.5</td>\n",
       "    </tr>\n",
       "  </tbody>\n",
       "</table>\n",
       "</div>"
      ],
      "text/plain": [
       "             result.rating\n",
       "price_level               \n",
       "1.0                    4.1\n",
       "2.0                    4.2\n",
       "3.0                    4.3\n",
       "4.0                    4.5"
      ]
     },
     "execution_count": 87,
     "metadata": {},
     "output_type": "execute_result"
    }
   ],
   "source": [
    "count_price = google.groupby('price_level').agg({'result.rating':'median'})\n",
    "count_price"
   ]
  },
  {
   "cell_type": "code",
   "execution_count": 88,
   "metadata": {
    "id": "z6HVOWvTw6pa"
   },
   "outputs": [],
   "source": [
    "google['price_level_encoded'] = google['price_level'].map(count_price['result.rating'])"
   ]
  },
  {
   "cell_type": "code",
   "execution_count": 89,
   "metadata": {
    "id": "y1KCWaGXxinL"
   },
   "outputs": [],
   "source": [
    "count_distrito = google.groupby('distrito').agg({'Sentiment Score':'mean'})"
   ]
  },
  {
   "cell_type": "code",
   "execution_count": 90,
   "metadata": {
    "colab": {
     "base_uri": "https://localhost:8080/"
    },
    "id": "cLU-hwhty1MS",
    "outputId": "d14184ce-2c81-4f08-e429-de4a982dc035"
   },
   "outputs": [
    {
     "data": {
      "text/html": [
       "<div>\n",
       "<style scoped>\n",
       "    .dataframe tbody tr th:only-of-type {\n",
       "        vertical-align: middle;\n",
       "    }\n",
       "\n",
       "    .dataframe tbody tr th {\n",
       "        vertical-align: top;\n",
       "    }\n",
       "\n",
       "    .dataframe thead th {\n",
       "        text-align: right;\n",
       "    }\n",
       "</style>\n",
       "<table border=\"1\" class=\"dataframe\">\n",
       "  <thead>\n",
       "    <tr style=\"text-align: right;\">\n",
       "      <th></th>\n",
       "      <th>Sentiment Score</th>\n",
       "    </tr>\n",
       "    <tr>\n",
       "      <th>distrito</th>\n",
       "      <th></th>\n",
       "    </tr>\n",
       "  </thead>\n",
       "  <tbody>\n",
       "    <tr>\n",
       "      <th>ARGANZUELA</th>\n",
       "      <td>0.502548</td>\n",
       "    </tr>\n",
       "    <tr>\n",
       "      <th>CARABANCHEL</th>\n",
       "      <td>0.412690</td>\n",
       "    </tr>\n",
       "    <tr>\n",
       "      <th>CENTRO</th>\n",
       "      <td>0.648351</td>\n",
       "    </tr>\n",
       "    <tr>\n",
       "      <th>CHAMARTIN</th>\n",
       "      <td>0.551187</td>\n",
       "    </tr>\n",
       "    <tr>\n",
       "      <th>CHAMBERI</th>\n",
       "      <td>0.559003</td>\n",
       "    </tr>\n",
       "    <tr>\n",
       "      <th>CIUDAD LINEAL</th>\n",
       "      <td>0.459976</td>\n",
       "    </tr>\n",
       "    <tr>\n",
       "      <th>FUENCARRAL-EL PARDO</th>\n",
       "      <td>0.441247</td>\n",
       "    </tr>\n",
       "    <tr>\n",
       "      <th>HORTALEZA</th>\n",
       "      <td>0.417023</td>\n",
       "    </tr>\n",
       "    <tr>\n",
       "      <th>LATINA</th>\n",
       "      <td>0.418326</td>\n",
       "    </tr>\n",
       "    <tr>\n",
       "      <th>MONCLOA-ARAVACA</th>\n",
       "      <td>0.508511</td>\n",
       "    </tr>\n",
       "    <tr>\n",
       "      <th>MORATALAZ</th>\n",
       "      <td>0.398698</td>\n",
       "    </tr>\n",
       "    <tr>\n",
       "      <th>PUENTE DE VALLECAS</th>\n",
       "      <td>0.412960</td>\n",
       "    </tr>\n",
       "    <tr>\n",
       "      <th>RETIRO</th>\n",
       "      <td>0.538710</td>\n",
       "    </tr>\n",
       "    <tr>\n",
       "      <th>SALAMANCA</th>\n",
       "      <td>0.553344</td>\n",
       "    </tr>\n",
       "    <tr>\n",
       "      <th>SAN BLAS-CANILLEJAS</th>\n",
       "      <td>0.429502</td>\n",
       "    </tr>\n",
       "    <tr>\n",
       "      <th>TETUAN</th>\n",
       "      <td>0.475674</td>\n",
       "    </tr>\n",
       "    <tr>\n",
       "      <th>USERA</th>\n",
       "      <td>0.389170</td>\n",
       "    </tr>\n",
       "    <tr>\n",
       "      <th>VICALVARO</th>\n",
       "      <td>0.382838</td>\n",
       "    </tr>\n",
       "    <tr>\n",
       "      <th>VILLA DE VALLECAS</th>\n",
       "      <td>0.406477</td>\n",
       "    </tr>\n",
       "    <tr>\n",
       "      <th>VILLAVERDE</th>\n",
       "      <td>0.336423</td>\n",
       "    </tr>\n",
       "  </tbody>\n",
       "</table>\n",
       "</div>"
      ],
      "text/plain": [
       "                     Sentiment Score\n",
       "distrito                            \n",
       "ARGANZUELA                  0.502548\n",
       "CARABANCHEL                 0.412690\n",
       "CENTRO                      0.648351\n",
       "CHAMARTIN                   0.551187\n",
       "CHAMBERI                    0.559003\n",
       "CIUDAD LINEAL               0.459976\n",
       "FUENCARRAL-EL PARDO         0.441247\n",
       "HORTALEZA                   0.417023\n",
       "LATINA                      0.418326\n",
       "MONCLOA-ARAVACA             0.508511\n",
       "MORATALAZ                   0.398698\n",
       "PUENTE DE VALLECAS          0.412960\n",
       "RETIRO                      0.538710\n",
       "SALAMANCA                   0.553344\n",
       "SAN BLAS-CANILLEJAS         0.429502\n",
       "TETUAN                      0.475674\n",
       "USERA                       0.389170\n",
       "VICALVARO                   0.382838\n",
       "VILLA DE VALLECAS           0.406477\n",
       "VILLAVERDE                  0.336423"
      ]
     },
     "execution_count": 90,
     "metadata": {},
     "output_type": "execute_result"
    }
   ],
   "source": [
    "count_distrito"
   ]
  },
  {
   "cell_type": "code",
   "execution_count": 91,
   "metadata": {
    "id": "t9mKw6GYy1og"
   },
   "outputs": [],
   "source": [
    "google['distrito_encoded'] = google['distrito'].map(count_distrito['Sentiment Score'])"
   ]
  },
  {
   "cell_type": "code",
   "execution_count": 92,
   "metadata": {
    "colab": {
     "base_uri": "https://localhost:8080/",
     "height": 609
    },
    "id": "lsh3urQyzBYL",
    "outputId": "3af0cfe4-ffb3-4a58-dee1-7190793efa9a",
    "scrolled": true
   },
   "outputs": [
    {
     "data": {
      "text/html": [
       "<div>\n",
       "<style scoped>\n",
       "    .dataframe tbody tr th:only-of-type {\n",
       "        vertical-align: middle;\n",
       "    }\n",
       "\n",
       "    .dataframe tbody tr th {\n",
       "        vertical-align: top;\n",
       "    }\n",
       "\n",
       "    .dataframe thead th {\n",
       "        text-align: right;\n",
       "    }\n",
       "</style>\n",
       "<table border=\"1\" class=\"dataframe\">\n",
       "  <thead>\n",
       "    <tr style=\"text-align: right;\">\n",
       "      <th></th>\n",
       "      <th>result.business_status</th>\n",
       "      <th>result.delivery</th>\n",
       "      <th>result.dine_in</th>\n",
       "      <th>result.name</th>\n",
       "      <th>result.place_id</th>\n",
       "      <th>result.rating</th>\n",
       "      <th>result.reservable</th>\n",
       "      <th>result.serves_vegetarian_food</th>\n",
       "      <th>result.takeout</th>\n",
       "      <th>result.user_ratings_total</th>\n",
       "      <th>zip_code</th>\n",
       "      <th>price_level</th>\n",
       "      <th>success</th>\n",
       "      <th>distrito</th>\n",
       "      <th>total_population</th>\n",
       "      <th>restaurants_per_district_area</th>\n",
       "      <th>share_year_budget_rest_per_household</th>\n",
       "      <th>share_local_pop</th>\n",
       "      <th>share_of_surface_in_KM2</th>\n",
       "      <th>Sentiment Score</th>\n",
       "      <th>share_tourists_zipcode</th>\n",
       "      <th>website</th>\n",
       "      <th>serves_alcohol</th>\n",
       "      <th>zip_code_encoded</th>\n",
       "      <th>price_level_encoded</th>\n",
       "      <th>distrito_encoded</th>\n",
       "    </tr>\n",
       "  </thead>\n",
       "  <tbody>\n",
       "    <tr>\n",
       "      <th>0</th>\n",
       "      <td>1</td>\n",
       "      <td>1</td>\n",
       "      <td>1</td>\n",
       "      <td>restaurante la dehesa</td>\n",
       "      <td>ChIJe8y4CKAuQg0RC4YervOOVLg</td>\n",
       "      <td>4.0</td>\n",
       "      <td>1</td>\n",
       "      <td>0</td>\n",
       "      <td>1</td>\n",
       "      <td>1306.0</td>\n",
       "      <td>28050</td>\n",
       "      <td>2.0</td>\n",
       "      <td>1</td>\n",
       "      <td>HORTALEZA</td>\n",
       "      <td>195017</td>\n",
       "      <td>37.688442</td>\n",
       "      <td>17.863179</td>\n",
       "      <td>200.017436</td>\n",
       "      <td>0.026533</td>\n",
       "      <td>0.71114</td>\n",
       "      <td>8.058517</td>\n",
       "      <td>1</td>\n",
       "      <td>1</td>\n",
       "      <td>531.0</td>\n",
       "      <td>4.2</td>\n",
       "      <td>0.417023</td>\n",
       "    </tr>\n",
       "    <tr>\n",
       "      <th>1</th>\n",
       "      <td>1</td>\n",
       "      <td>1</td>\n",
       "      <td>1</td>\n",
       "      <td>casa corrochano</td>\n",
       "      <td>ChIJjWIe0PMrQg0RXJxYC8mlRcM</td>\n",
       "      <td>4.1</td>\n",
       "      <td>1</td>\n",
       "      <td>0</td>\n",
       "      <td>1</td>\n",
       "      <td>599.0</td>\n",
       "      <td>28050</td>\n",
       "      <td>1.0</td>\n",
       "      <td>1</td>\n",
       "      <td>HORTALEZA</td>\n",
       "      <td>195017</td>\n",
       "      <td>37.688442</td>\n",
       "      <td>17.863179</td>\n",
       "      <td>200.017436</td>\n",
       "      <td>0.026533</td>\n",
       "      <td>0.40254</td>\n",
       "      <td>8.058517</td>\n",
       "      <td>1</td>\n",
       "      <td>1</td>\n",
       "      <td>531.0</td>\n",
       "      <td>4.1</td>\n",
       "      <td>0.417023</td>\n",
       "    </tr>\n",
       "    <tr>\n",
       "      <th>2</th>\n",
       "      <td>1</td>\n",
       "      <td>0</td>\n",
       "      <td>1</td>\n",
       "      <td>la mano de pablo</td>\n",
       "      <td>ChIJmw6_CKAuQg0RY9Kcr3tR5OQ</td>\n",
       "      <td>4.4</td>\n",
       "      <td>1</td>\n",
       "      <td>0</td>\n",
       "      <td>1</td>\n",
       "      <td>3674.0</td>\n",
       "      <td>28050</td>\n",
       "      <td>2.0</td>\n",
       "      <td>1</td>\n",
       "      <td>HORTALEZA</td>\n",
       "      <td>195017</td>\n",
       "      <td>37.688442</td>\n",
       "      <td>17.863179</td>\n",
       "      <td>200.017436</td>\n",
       "      <td>0.026533</td>\n",
       "      <td>0.38708</td>\n",
       "      <td>8.058517</td>\n",
       "      <td>1</td>\n",
       "      <td>1</td>\n",
       "      <td>531.0</td>\n",
       "      <td>4.2</td>\n",
       "      <td>0.417023</td>\n",
       "    </tr>\n",
       "    <tr>\n",
       "      <th>3</th>\n",
       "      <td>1</td>\n",
       "      <td>0</td>\n",
       "      <td>1</td>\n",
       "      <td>el oso</td>\n",
       "      <td>ChIJsxAsqggsQg0Rz1mITdkhDaY</td>\n",
       "      <td>4.1</td>\n",
       "      <td>1</td>\n",
       "      <td>0</td>\n",
       "      <td>1</td>\n",
       "      <td>800.0</td>\n",
       "      <td>28050</td>\n",
       "      <td>3.0</td>\n",
       "      <td>0</td>\n",
       "      <td>HORTALEZA</td>\n",
       "      <td>195017</td>\n",
       "      <td>37.688442</td>\n",
       "      <td>17.863179</td>\n",
       "      <td>200.017436</td>\n",
       "      <td>0.026533</td>\n",
       "      <td>0.78602</td>\n",
       "      <td>8.058517</td>\n",
       "      <td>1</td>\n",
       "      <td>1</td>\n",
       "      <td>531.0</td>\n",
       "      <td>4.3</td>\n",
       "      <td>0.417023</td>\n",
       "    </tr>\n",
       "    <tr>\n",
       "      <th>4</th>\n",
       "      <td>1</td>\n",
       "      <td>0</td>\n",
       "      <td>1</td>\n",
       "      <td>domino</td>\n",
       "      <td>ChIJjd0Nhu0rQg0R1Q0k5TsewKg</td>\n",
       "      <td>3.7</td>\n",
       "      <td>1</td>\n",
       "      <td>0</td>\n",
       "      <td>1</td>\n",
       "      <td>651.0</td>\n",
       "      <td>28050</td>\n",
       "      <td>1.0</td>\n",
       "      <td>1</td>\n",
       "      <td>HORTALEZA</td>\n",
       "      <td>195017</td>\n",
       "      <td>37.688442</td>\n",
       "      <td>17.863179</td>\n",
       "      <td>200.017436</td>\n",
       "      <td>0.026533</td>\n",
       "      <td>0.22376</td>\n",
       "      <td>8.058517</td>\n",
       "      <td>0</td>\n",
       "      <td>1</td>\n",
       "      <td>531.0</td>\n",
       "      <td>4.1</td>\n",
       "      <td>0.417023</td>\n",
       "    </tr>\n",
       "  </tbody>\n",
       "</table>\n",
       "</div>"
      ],
      "text/plain": [
       "   result.business_status  result.delivery  result.dine_in  \\\n",
       "0                       1                1               1   \n",
       "1                       1                1               1   \n",
       "2                       1                0               1   \n",
       "3                       1                0               1   \n",
       "4                       1                0               1   \n",
       "\n",
       "             result.name              result.place_id  result.rating  \\\n",
       "0  restaurante la dehesa  ChIJe8y4CKAuQg0RC4YervOOVLg            4.0   \n",
       "1        casa corrochano  ChIJjWIe0PMrQg0RXJxYC8mlRcM            4.1   \n",
       "2       la mano de pablo  ChIJmw6_CKAuQg0RY9Kcr3tR5OQ            4.4   \n",
       "3                 el oso  ChIJsxAsqggsQg0Rz1mITdkhDaY            4.1   \n",
       "4                 domino  ChIJjd0Nhu0rQg0R1Q0k5TsewKg            3.7   \n",
       "\n",
       "   result.reservable  result.serves_vegetarian_food  result.takeout  \\\n",
       "0                  1                              0               1   \n",
       "1                  1                              0               1   \n",
       "2                  1                              0               1   \n",
       "3                  1                              0               1   \n",
       "4                  1                              0               1   \n",
       "\n",
       "   result.user_ratings_total  zip_code  price_level  success   distrito  \\\n",
       "0                     1306.0     28050          2.0        1  HORTALEZA   \n",
       "1                      599.0     28050          1.0        1  HORTALEZA   \n",
       "2                     3674.0     28050          2.0        1  HORTALEZA   \n",
       "3                      800.0     28050          3.0        0  HORTALEZA   \n",
       "4                      651.0     28050          1.0        1  HORTALEZA   \n",
       "\n",
       "   total_population  restaurants_per_district_area  \\\n",
       "0            195017                      37.688442   \n",
       "1            195017                      37.688442   \n",
       "2            195017                      37.688442   \n",
       "3            195017                      37.688442   \n",
       "4            195017                      37.688442   \n",
       "\n",
       "   share_year_budget_rest_per_household  share_local_pop  \\\n",
       "0                             17.863179       200.017436   \n",
       "1                             17.863179       200.017436   \n",
       "2                             17.863179       200.017436   \n",
       "3                             17.863179       200.017436   \n",
       "4                             17.863179       200.017436   \n",
       "\n",
       "   share_of_surface_in_KM2  Sentiment Score  share_tourists_zipcode  website  \\\n",
       "0                 0.026533          0.71114                8.058517        1   \n",
       "1                 0.026533          0.40254                8.058517        1   \n",
       "2                 0.026533          0.38708                8.058517        1   \n",
       "3                 0.026533          0.78602                8.058517        1   \n",
       "4                 0.026533          0.22376                8.058517        0   \n",
       "\n",
       "   serves_alcohol  zip_code_encoded  price_level_encoded  distrito_encoded  \n",
       "0               1             531.0                  4.2          0.417023  \n",
       "1               1             531.0                  4.1          0.417023  \n",
       "2               1             531.0                  4.2          0.417023  \n",
       "3               1             531.0                  4.3          0.417023  \n",
       "4               1             531.0                  4.1          0.417023  "
      ]
     },
     "execution_count": 92,
     "metadata": {},
     "output_type": "execute_result"
    }
   ],
   "source": [
    "google.head()"
   ]
  },
  {
   "cell_type": "code",
   "execution_count": 93,
   "metadata": {
    "id": "Up_ikey-zClb"
   },
   "outputs": [],
   "source": [
    "X = google.drop(columns=['result.name','result.place_id','result.user_ratings_total','success','result.business_status','result.rating','Sentiment Score','distrito','zip_code'])\n",
    "y = google['result.business_status'] "
   ]
  },
  {
   "cell_type": "code",
   "execution_count": 94,
   "metadata": {
    "id": "WybFDjQgzYGR"
   },
   "outputs": [],
   "source": [
    "from sklearn.model_selection import train_test_split\n",
    "\n",
    "X_train, X_test, y_train, y_test = train_test_split(X, y, test_size=0.25, random_state = 42)"
   ]
  },
  {
   "cell_type": "code",
   "execution_count": 95,
   "metadata": {
    "colab": {
     "base_uri": "https://localhost:8080/"
    },
    "id": "PDzRthf1zZRp",
    "outputId": "b3487cee-eb8c-49db-9e51-fdcbbecdfbc3"
   },
   "outputs": [
    {
     "data": {
      "text/plain": [
       "0.9346811819595645"
      ]
     },
     "execution_count": 95,
     "metadata": {},
     "output_type": "execute_result"
    }
   ],
   "source": [
    "xgb_class = xgb.XGBClassifier()\n",
    "xgb_class.fit(X_train, y_train)\n",
    "xgb_class.score(X_test,y_test)"
   ]
  },
  {
   "cell_type": "code",
   "execution_count": 96,
   "metadata": {
    "colab": {
     "base_uri": "https://localhost:8080/",
     "height": 295
    },
    "id": "GOmhVaGGzfQL",
    "outputId": "8e892348-88a6-43fa-85e4-6167c6adf303"
   },
   "outputs": [
    {
     "data": {
      "image/png": "[encoded data removed]",
      "text/plain": [
       "<Figure size 432x288 with 1 Axes>"
      ]
     },
     "metadata": {
      "needs_background": "light"
     },
     "output_type": "display_data"
    }
   ],
   "source": [
    "xgb.plot_importance(xgb_class)\n",
    "plt.show()"
   ]
  },
  {
   "cell_type": "code",
   "execution_count": 97,
   "metadata": {},
   "outputs": [],
   "source": [
    "google.drop('total_population', axis=1, inplace=True)"
   ]
  },
  {
   "cell_type": "code",
   "execution_count": 98,
   "metadata": {
    "scrolled": true
   },
   "outputs": [
    {
     "data": {
      "text/html": [
       "<div>\n",
       "<style scoped>\n",
       "    .dataframe tbody tr th:only-of-type {\n",
       "        vertical-align: middle;\n",
       "    }\n",
       "\n",
       "    .dataframe tbody tr th {\n",
       "        vertical-align: top;\n",
       "    }\n",
       "\n",
       "    .dataframe thead th {\n",
       "        text-align: right;\n",
       "    }\n",
       "</style>\n",
       "<table border=\"1\" class=\"dataframe\">\n",
       "  <thead>\n",
       "    <tr style=\"text-align: right;\">\n",
       "      <th></th>\n",
       "      <th>result.business_status</th>\n",
       "      <th>result.delivery</th>\n",
       "      <th>result.dine_in</th>\n",
       "      <th>result.name</th>\n",
       "      <th>result.place_id</th>\n",
       "      <th>result.rating</th>\n",
       "      <th>result.reservable</th>\n",
       "      <th>result.serves_vegetarian_food</th>\n",
       "      <th>result.takeout</th>\n",
       "      <th>result.user_ratings_total</th>\n",
       "      <th>zip_code</th>\n",
       "      <th>price_level</th>\n",
       "      <th>success</th>\n",
       "      <th>distrito</th>\n",
       "      <th>restaurants_per_district_area</th>\n",
       "      <th>share_year_budget_rest_per_household</th>\n",
       "      <th>share_local_pop</th>\n",
       "      <th>share_of_surface_in_KM2</th>\n",
       "      <th>Sentiment Score</th>\n",
       "      <th>share_tourists_zipcode</th>\n",
       "      <th>website</th>\n",
       "      <th>serves_alcohol</th>\n",
       "      <th>zip_code_encoded</th>\n",
       "      <th>price_level_encoded</th>\n",
       "      <th>distrito_encoded</th>\n",
       "    </tr>\n",
       "  </thead>\n",
       "  <tbody>\n",
       "    <tr>\n",
       "      <th>0</th>\n",
       "      <td>1</td>\n",
       "      <td>1</td>\n",
       "      <td>1</td>\n",
       "      <td>restaurante la dehesa</td>\n",
       "      <td>ChIJe8y4CKAuQg0RC4YervOOVLg</td>\n",
       "      <td>4.0</td>\n",
       "      <td>1</td>\n",
       "      <td>0</td>\n",
       "      <td>1</td>\n",
       "      <td>1306.0</td>\n",
       "      <td>28050</td>\n",
       "      <td>2.0</td>\n",
       "      <td>1</td>\n",
       "      <td>HORTALEZA</td>\n",
       "      <td>37.688442</td>\n",
       "      <td>17.863179</td>\n",
       "      <td>200.017436</td>\n",
       "      <td>0.026533</td>\n",
       "      <td>0.71114</td>\n",
       "      <td>8.058517</td>\n",
       "      <td>1</td>\n",
       "      <td>1</td>\n",
       "      <td>531.0</td>\n",
       "      <td>4.2</td>\n",
       "      <td>0.417023</td>\n",
       "    </tr>\n",
       "    <tr>\n",
       "      <th>1</th>\n",
       "      <td>1</td>\n",
       "      <td>1</td>\n",
       "      <td>1</td>\n",
       "      <td>casa corrochano</td>\n",
       "      <td>ChIJjWIe0PMrQg0RXJxYC8mlRcM</td>\n",
       "      <td>4.1</td>\n",
       "      <td>1</td>\n",
       "      <td>0</td>\n",
       "      <td>1</td>\n",
       "      <td>599.0</td>\n",
       "      <td>28050</td>\n",
       "      <td>1.0</td>\n",
       "      <td>1</td>\n",
       "      <td>HORTALEZA</td>\n",
       "      <td>37.688442</td>\n",
       "      <td>17.863179</td>\n",
       "      <td>200.017436</td>\n",
       "      <td>0.026533</td>\n",
       "      <td>0.40254</td>\n",
       "      <td>8.058517</td>\n",
       "      <td>1</td>\n",
       "      <td>1</td>\n",
       "      <td>531.0</td>\n",
       "      <td>4.1</td>\n",
       "      <td>0.417023</td>\n",
       "    </tr>\n",
       "    <tr>\n",
       "      <th>2</th>\n",
       "      <td>1</td>\n",
       "      <td>0</td>\n",
       "      <td>1</td>\n",
       "      <td>la mano de pablo</td>\n",
       "      <td>ChIJmw6_CKAuQg0RY9Kcr3tR5OQ</td>\n",
       "      <td>4.4</td>\n",
       "      <td>1</td>\n",
       "      <td>0</td>\n",
       "      <td>1</td>\n",
       "      <td>3674.0</td>\n",
       "      <td>28050</td>\n",
       "      <td>2.0</td>\n",
       "      <td>1</td>\n",
       "      <td>HORTALEZA</td>\n",
       "      <td>37.688442</td>\n",
       "      <td>17.863179</td>\n",
       "      <td>200.017436</td>\n",
       "      <td>0.026533</td>\n",
       "      <td>0.38708</td>\n",
       "      <td>8.058517</td>\n",
       "      <td>1</td>\n",
       "      <td>1</td>\n",
       "      <td>531.0</td>\n",
       "      <td>4.2</td>\n",
       "      <td>0.417023</td>\n",
       "    </tr>\n",
       "    <tr>\n",
       "      <th>3</th>\n",
       "      <td>1</td>\n",
       "      <td>0</td>\n",
       "      <td>1</td>\n",
       "      <td>el oso</td>\n",
       "      <td>ChIJsxAsqggsQg0Rz1mITdkhDaY</td>\n",
       "      <td>4.1</td>\n",
       "      <td>1</td>\n",
       "      <td>0</td>\n",
       "      <td>1</td>\n",
       "      <td>800.0</td>\n",
       "      <td>28050</td>\n",
       "      <td>3.0</td>\n",
       "      <td>0</td>\n",
       "      <td>HORTALEZA</td>\n",
       "      <td>37.688442</td>\n",
       "      <td>17.863179</td>\n",
       "      <td>200.017436</td>\n",
       "      <td>0.026533</td>\n",
       "      <td>0.78602</td>\n",
       "      <td>8.058517</td>\n",
       "      <td>1</td>\n",
       "      <td>1</td>\n",
       "      <td>531.0</td>\n",
       "      <td>4.3</td>\n",
       "      <td>0.417023</td>\n",
       "    </tr>\n",
       "    <tr>\n",
       "      <th>4</th>\n",
       "      <td>1</td>\n",
       "      <td>0</td>\n",
       "      <td>1</td>\n",
       "      <td>domino</td>\n",
       "      <td>ChIJjd0Nhu0rQg0R1Q0k5TsewKg</td>\n",
       "      <td>3.7</td>\n",
       "      <td>1</td>\n",
       "      <td>0</td>\n",
       "      <td>1</td>\n",
       "      <td>651.0</td>\n",
       "      <td>28050</td>\n",
       "      <td>1.0</td>\n",
       "      <td>1</td>\n",
       "      <td>HORTALEZA</td>\n",
       "      <td>37.688442</td>\n",
       "      <td>17.863179</td>\n",
       "      <td>200.017436</td>\n",
       "      <td>0.026533</td>\n",
       "      <td>0.22376</td>\n",
       "      <td>8.058517</td>\n",
       "      <td>0</td>\n",
       "      <td>1</td>\n",
       "      <td>531.0</td>\n",
       "      <td>4.1</td>\n",
       "      <td>0.417023</td>\n",
       "    </tr>\n",
       "  </tbody>\n",
       "</table>\n",
       "</div>"
      ],
      "text/plain": [
       "   result.business_status  result.delivery  result.dine_in  \\\n",
       "0                       1                1               1   \n",
       "1                       1                1               1   \n",
       "2                       1                0               1   \n",
       "3                       1                0               1   \n",
       "4                       1                0               1   \n",
       "\n",
       "             result.name              result.place_id  result.rating  \\\n",
       "0  restaurante la dehesa  ChIJe8y4CKAuQg0RC4YervOOVLg            4.0   \n",
       "1        casa corrochano  ChIJjWIe0PMrQg0RXJxYC8mlRcM            4.1   \n",
       "2       la mano de pablo  ChIJmw6_CKAuQg0RY9Kcr3tR5OQ            4.4   \n",
       "3                 el oso  ChIJsxAsqggsQg0Rz1mITdkhDaY            4.1   \n",
       "4                 domino  ChIJjd0Nhu0rQg0R1Q0k5TsewKg            3.7   \n",
       "\n",
       "   result.reservable  result.serves_vegetarian_food  result.takeout  \\\n",
       "0                  1                              0               1   \n",
       "1                  1                              0               1   \n",
       "2                  1                              0               1   \n",
       "3                  1                              0               1   \n",
       "4                  1                              0               1   \n",
       "\n",
       "   result.user_ratings_total  zip_code  price_level  success   distrito  \\\n",
       "0                     1306.0     28050          2.0        1  HORTALEZA   \n",
       "1                      599.0     28050          1.0        1  HORTALEZA   \n",
       "2                     3674.0     28050          2.0        1  HORTALEZA   \n",
       "3                      800.0     28050          3.0        0  HORTALEZA   \n",
       "4                      651.0     28050          1.0        1  HORTALEZA   \n",
       "\n",
       "   restaurants_per_district_area  share_year_budget_rest_per_household  \\\n",
       "0                      37.688442                             17.863179   \n",
       "1                      37.688442                             17.863179   \n",
       "2                      37.688442                             17.863179   \n",
       "3                      37.688442                             17.863179   \n",
       "4                      37.688442                             17.863179   \n",
       "\n",
       "   share_local_pop  share_of_surface_in_KM2  Sentiment Score  \\\n",
       "0       200.017436                 0.026533          0.71114   \n",
       "1       200.017436                 0.026533          0.40254   \n",
       "2       200.017436                 0.026533          0.38708   \n",
       "3       200.017436                 0.026533          0.78602   \n",
       "4       200.017436                 0.026533          0.22376   \n",
       "\n",
       "   share_tourists_zipcode  website  serves_alcohol  zip_code_encoded  \\\n",
       "0                8.058517        1               1             531.0   \n",
       "1                8.058517        1               1             531.0   \n",
       "2                8.058517        1               1             531.0   \n",
       "3                8.058517        1               1             531.0   \n",
       "4                8.058517        0               1             531.0   \n",
       "\n",
       "   price_level_encoded  distrito_encoded  \n",
       "0                  4.2          0.417023  \n",
       "1                  4.1          0.417023  \n",
       "2                  4.2          0.417023  \n",
       "3                  4.3          0.417023  \n",
       "4                  4.1          0.417023  "
      ]
     },
     "execution_count": 98,
     "metadata": {},
     "output_type": "execute_result"
    }
   ],
   "source": [
    "google.head()"
   ]
  },
  {
   "cell_type": "code",
   "execution_count": 99,
   "metadata": {},
   "outputs": [],
   "source": [
    "#Encoding reservable, veggie food"
   ]
  },
  {
   "cell_type": "markdown",
   "metadata": {},
   "source": [
    "count_booked = google.groupby('result.reservable')['result.business_status'].value_counts().unstack(fill_value=0)\n",
    "print(count_booked)\n",
    "booking = count_booked[1] / count_booked.sum(axis=1)\n",
    "print(booking)"
   ]
  },
  {
   "cell_type": "markdown",
   "metadata": {},
   "source": [
    "google['result.reservable'] = google['result.reservable'].map(booking)"
   ]
  },
  {
   "cell_type": "markdown",
   "metadata": {},
   "source": [
    "count_veggie = google.groupby('result.serves_vegetarian_food')['result.business_status'].value_counts().unstack(fill_value=0)"
   ]
  },
  {
   "cell_type": "markdown",
   "metadata": {},
   "source": [
    "veggie = count_veggie[1] / count_veggie.sum(axis=1)\n",
    "veggie"
   ]
  },
  {
   "cell_type": "markdown",
   "metadata": {},
   "source": [
    "google['result.serves_vegetarian_food'] = google['result.serves_vegetarian_food'].map(veggie)"
   ]
  },
  {
   "cell_type": "markdown",
   "metadata": {},
   "source": [
    "# Scaling"
   ]
  },
  {
   "cell_type": "code",
   "execution_count": 100,
   "metadata": {
    "scrolled": true
   },
   "outputs": [
    {
     "data": {
      "text/plain": [
       "result.business_status                  0\n",
       "result.delivery                         0\n",
       "result.dine_in                          0\n",
       "result.name                             0\n",
       "result.place_id                         0\n",
       "result.rating                           0\n",
       "result.reservable                       0\n",
       "result.serves_vegetarian_food           0\n",
       "result.takeout                          0\n",
       "result.user_ratings_total               0\n",
       "zip_code                                0\n",
       "price_level                             0\n",
       "success                                 0\n",
       "distrito                                0\n",
       "restaurants_per_district_area           0\n",
       "share_year_budget_rest_per_household    0\n",
       "share_local_pop                         0\n",
       "share_of_surface_in_KM2                 0\n",
       "Sentiment Score                         0\n",
       "share_tourists_zipcode                  0\n",
       "website                                 0\n",
       "serves_alcohol                          0\n",
       "zip_code_encoded                        0\n",
       "price_level_encoded                     0\n",
       "distrito_encoded                        0\n",
       "dtype: int64"
      ]
     },
     "execution_count": 100,
     "metadata": {},
     "output_type": "execute_result"
    }
   ],
   "source": [
    "google.isna().sum()"
   ]
  },
  {
   "cell_type": "code",
   "execution_count": 101,
   "metadata": {},
   "outputs": [],
   "source": [
    "from sklearn.preprocessing import MinMaxScaler\n",
    "\n",
    "normalizer = MinMaxScaler()\n",
    "normalizer = normalizer.fit(X_train)\n",
    "X_train_normalized = normalizer.transform(X_train)\n",
    "X_test_normalized = normalizer.transform(X_test)"
   ]
  },
  {
   "cell_type": "code",
   "execution_count": 102,
   "metadata": {
    "scrolled": true
   },
   "outputs": [
    {
     "name": "stdout",
     "output_type": "stream",
     "text": [
      "False\n",
      "False\n",
      "False\n",
      "False\n"
     ]
    }
   ],
   "source": [
    "print(np.isnan(X_train_normalized).any())\n",
    "print(np.isinf(X_train_normalized).any())\n",
    "print(np.isnan(y_train).any())\n",
    "print(np.isinf(y_train).any())"
   ]
  },
  {
   "cell_type": "code",
   "execution_count": 103,
   "metadata": {},
   "outputs": [],
   "source": [
    "from sklearn.impute import SimpleImputer\n",
    "imputer = SimpleImputer(strategy='mean')\n",
    "X_train_imputed = imputer.fit_transform(X_train_normalized)\n",
    "X_test_imputed = imputer.fit_transform(X_test_normalized)"
   ]
  },
  {
   "cell_type": "code",
   "execution_count": 104,
   "metadata": {},
   "outputs": [
    {
     "data": {
      "text/plain": [
       "3858"
      ]
     },
     "execution_count": 104,
     "metadata": {},
     "output_type": "execute_result"
    }
   ],
   "source": [
    "len(X_train_imputed)"
   ]
  },
  {
   "cell_type": "code",
   "execution_count": 105,
   "metadata": {},
   "outputs": [
    {
     "name": "stdout",
     "output_type": "stream",
     "text": [
      "1.0000000000000002\n",
      "0.0\n",
      "1\n",
      "0\n"
     ]
    }
   ],
   "source": [
    "print(np.max(X_train_imputed))\n",
    "print(np.min(X_train_imputed))\n",
    "print(np.max(y_train))\n",
    "print(np.min(y_train))"
   ]
  },
  {
   "cell_type": "code",
   "execution_count": 106,
   "metadata": {},
   "outputs": [],
   "source": [
    "from sklearn.preprocessing import MinMaxScaler\n",
    "\n",
    "scaler = MinMaxScaler()\n",
    "X_train_normalized = scaler.fit_transform(X_train_imputed)\n",
    "X_test_normalized = scaler.transform(X_test_imputed)"
   ]
  },
  {
   "cell_type": "code",
   "execution_count": 107,
   "metadata": {},
   "outputs": [
    {
     "name": "stdout",
     "output_type": "stream",
     "text": [
      "1.0\n",
      "0.0\n",
      "1\n",
      "0\n"
     ]
    }
   ],
   "source": [
    "print(np.max(X_train_normalized))\n",
    "print(np.min(X_train_normalized))\n",
    "print(np.max(y_train))\n",
    "print(np.min(y_train))"
   ]
  },
  {
   "cell_type": "code",
   "execution_count": 108,
   "metadata": {},
   "outputs": [
    {
     "data": {
      "text/plain": [
       "0.942457231726283"
      ]
     },
     "execution_count": 108,
     "metadata": {},
     "output_type": "execute_result"
    }
   ],
   "source": [
    "from sklearn.ensemble import RandomForestClassifier\n",
    "\n",
    "\n",
    "clf = RandomForestClassifier(max_depth=11, n_estimators=100, random_state=0)\n",
    "clf.fit(X_train_imputed, y_train)\n",
    "clf.score(X_test_normalized, y_test)"
   ]
  },
  {
   "cell_type": "markdown",
   "metadata": {},
   "source": [
    "# Optimizing parameters for Random Forest"
   ]
  },
  {
   "cell_type": "code",
   "execution_count": 109,
   "metadata": {
    "scrolled": true
   },
   "outputs": [
    {
     "data": {
      "text/plain": [
       "<AxesSubplot:>"
      ]
     },
     "execution_count": 109,
     "metadata": {},
     "output_type": "execute_result"
    },
    {
     "data": {
      "image/png": "[encoded data removed]",
      "text/plain": [
       "<Figure size 1440x576 with 2 Axes>"
      ]
     },
     "metadata": {
      "needs_background": "light"
     },
     "output_type": "display_data"
    }
   ],
   "source": [
    "plt.figure(figsize=(20,8))\n",
    "sns.heatmap(google.corr(), annot=True)"
   ]
  },
  {
   "cell_type": "markdown",
   "metadata": {},
   "source": [
    "### Cross validation"
   ]
  },
  {
   "cell_type": "code",
   "execution_count": 110,
   "metadata": {},
   "outputs": [],
   "source": [
    "from sklearn.model_selection import cross_validate\n",
    "\n",
    "model = RandomForestClassifier()\n",
    "results = cross_validate(model, google.drop(columns=['result.name','result.place_id','result.user_ratings_total','success','result.business_status','distrito','zip_code']), \n",
    "                         google['result.business_status'], cv = 10)"
   ]
  },
  {
   "cell_type": "code",
   "execution_count": 111,
   "metadata": {},
   "outputs": [
    {
     "name": "stdout",
     "output_type": "stream",
     "text": [
      "0.9200883986249103\n"
     ]
    }
   ],
   "source": [
    "print(results['test_score'].mean())"
   ]
  },
  {
   "cell_type": "code",
   "execution_count": 112,
   "metadata": {},
   "outputs": [
    {
     "data": {
      "text/plain": [
       "array([0.94757282, 0.92427184, 0.94368932, 0.93009709, 0.88132296,\n",
       "       0.93579767, 0.91828794, 0.84435798, 0.93579767, 0.93968872])"
      ]
     },
     "execution_count": 112,
     "metadata": {},
     "output_type": "execute_result"
    }
   ],
   "source": [
    "results['test_score']"
   ]
  },
  {
   "cell_type": "markdown",
   "metadata": {},
   "source": [
    "# Creating dictionaries"
   ]
  },
  {
   "cell_type": "code",
   "execution_count": 113,
   "metadata": {},
   "outputs": [
    {
     "data": {
      "text/html": [
       "<div>\n",
       "<style scoped>\n",
       "    .dataframe tbody tr th:only-of-type {\n",
       "        vertical-align: middle;\n",
       "    }\n",
       "\n",
       "    .dataframe tbody tr th {\n",
       "        vertical-align: top;\n",
       "    }\n",
       "\n",
       "    .dataframe thead th {\n",
       "        text-align: right;\n",
       "    }\n",
       "</style>\n",
       "<table border=\"1\" class=\"dataframe\">\n",
       "  <thead>\n",
       "    <tr style=\"text-align: right;\">\n",
       "      <th></th>\n",
       "      <th>result.business_status</th>\n",
       "      <th>result.delivery</th>\n",
       "      <th>result.dine_in</th>\n",
       "      <th>result.name</th>\n",
       "      <th>result.place_id</th>\n",
       "      <th>result.rating</th>\n",
       "      <th>result.reservable</th>\n",
       "      <th>result.serves_vegetarian_food</th>\n",
       "      <th>result.takeout</th>\n",
       "      <th>result.user_ratings_total</th>\n",
       "      <th>zip_code</th>\n",
       "      <th>price_level</th>\n",
       "      <th>success</th>\n",
       "      <th>distrito</th>\n",
       "      <th>restaurants_per_district_area</th>\n",
       "      <th>share_year_budget_rest_per_household</th>\n",
       "      <th>share_local_pop</th>\n",
       "      <th>share_of_surface_in_KM2</th>\n",
       "      <th>Sentiment Score</th>\n",
       "      <th>share_tourists_zipcode</th>\n",
       "      <th>website</th>\n",
       "      <th>serves_alcohol</th>\n",
       "      <th>zip_code_encoded</th>\n",
       "      <th>price_level_encoded</th>\n",
       "      <th>distrito_encoded</th>\n",
       "    </tr>\n",
       "  </thead>\n",
       "  <tbody>\n",
       "    <tr>\n",
       "      <th>4210</th>\n",
       "      <td>0</td>\n",
       "      <td>0</td>\n",
       "      <td>1</td>\n",
       "      <td>alimatacion jpulido</td>\n",
       "      <td>ChIJfblDSU0mQg0Rds6tuUbPdA4</td>\n",
       "      <td>4.0</td>\n",
       "      <td>0</td>\n",
       "      <td>0</td>\n",
       "      <td>1</td>\n",
       "      <td>3.0</td>\n",
       "      <td>28026</td>\n",
       "      <td>1.0</td>\n",
       "      <td>0</td>\n",
       "      <td>USERA</td>\n",
       "      <td>93.636364</td>\n",
       "      <td>13.861026</td>\n",
       "      <td>195.295423</td>\n",
       "      <td>0.010680</td>\n",
       "      <td>-0.401900</td>\n",
       "      <td>9.679101</td>\n",
       "      <td>0</td>\n",
       "      <td>1</td>\n",
       "      <td>174.0</td>\n",
       "      <td>4.1</td>\n",
       "      <td>0.389170</td>\n",
       "    </tr>\n",
       "    <tr>\n",
       "      <th>4819</th>\n",
       "      <td>1</td>\n",
       "      <td>1</td>\n",
       "      <td>1</td>\n",
       "      <td>la fabula</td>\n",
       "      <td>ChIJISzwPs-JQQ0RFwFyH19j8dg</td>\n",
       "      <td>3.6</td>\n",
       "      <td>1</td>\n",
       "      <td>0</td>\n",
       "      <td>1</td>\n",
       "      <td>444.0</td>\n",
       "      <td>28054</td>\n",
       "      <td>2.0</td>\n",
       "      <td>0</td>\n",
       "      <td>LATINA</td>\n",
       "      <td>14.998037</td>\n",
       "      <td>30.924738</td>\n",
       "      <td>620.544503</td>\n",
       "      <td>0.066675</td>\n",
       "      <td>0.290380</td>\n",
       "      <td>64.048423</td>\n",
       "      <td>1</td>\n",
       "      <td>1</td>\n",
       "      <td>563.5</td>\n",
       "      <td>4.2</td>\n",
       "      <td>0.418326</td>\n",
       "    </tr>\n",
       "    <tr>\n",
       "      <th>1524</th>\n",
       "      <td>1</td>\n",
       "      <td>1</td>\n",
       "      <td>1</td>\n",
       "      <td>casa carmen</td>\n",
       "      <td>ChIJU1L_3iUvQg0Rbt25o-lBhvE</td>\n",
       "      <td>3.7</td>\n",
       "      <td>1</td>\n",
       "      <td>0</td>\n",
       "      <td>1</td>\n",
       "      <td>1977.0</td>\n",
       "      <td>28043</td>\n",
       "      <td>2.0</td>\n",
       "      <td>1</td>\n",
       "      <td>CIUDAD LINEAL</td>\n",
       "      <td>126.909722</td>\n",
       "      <td>15.225889</td>\n",
       "      <td>146.309850</td>\n",
       "      <td>0.007880</td>\n",
       "      <td>0.382680</td>\n",
       "      <td>2.723654</td>\n",
       "      <td>1</td>\n",
       "      <td>1</td>\n",
       "      <td>264.5</td>\n",
       "      <td>4.2</td>\n",
       "      <td>0.459976</td>\n",
       "    </tr>\n",
       "    <tr>\n",
       "      <th>4544</th>\n",
       "      <td>1</td>\n",
       "      <td>0</td>\n",
       "      <td>1</td>\n",
       "      <td>el cuadro</td>\n",
       "      <td>ChIJaeuXFJYnQg0RCiKW7lQ5nXM</td>\n",
       "      <td>4.3</td>\n",
       "      <td>1</td>\n",
       "      <td>0</td>\n",
       "      <td>1</td>\n",
       "      <td>438.0</td>\n",
       "      <td>28019</td>\n",
       "      <td>1.0</td>\n",
       "      <td>0</td>\n",
       "      <td>CARABANCHEL</td>\n",
       "      <td>47.021277</td>\n",
       "      <td>16.223379</td>\n",
       "      <td>385.390649</td>\n",
       "      <td>0.021267</td>\n",
       "      <td>0.663540</td>\n",
       "      <td>33.599173</td>\n",
       "      <td>1</td>\n",
       "      <td>1</td>\n",
       "      <td>109.5</td>\n",
       "      <td>4.1</td>\n",
       "      <td>0.412690</td>\n",
       "    </tr>\n",
       "    <tr>\n",
       "      <th>1762</th>\n",
       "      <td>1</td>\n",
       "      <td>0</td>\n",
       "      <td>0</td>\n",
       "      <td>polleria hueveria cristobal</td>\n",
       "      <td>ChIJD6fHB0UvQg0RK5gw-fVYcEU</td>\n",
       "      <td>3.6</td>\n",
       "      <td>0</td>\n",
       "      <td>0</td>\n",
       "      <td>1</td>\n",
       "      <td>5.0</td>\n",
       "      <td>28033</td>\n",
       "      <td>1.0</td>\n",
       "      <td>0</td>\n",
       "      <td>CIUDAD LINEAL</td>\n",
       "      <td>126.909722</td>\n",
       "      <td>15.225889</td>\n",
       "      <td>146.309850</td>\n",
       "      <td>0.007880</td>\n",
       "      <td>0.106067</td>\n",
       "      <td>7.773260</td>\n",
       "      <td>0</td>\n",
       "      <td>1</td>\n",
       "      <td>273.0</td>\n",
       "      <td>4.1</td>\n",
       "      <td>0.459976</td>\n",
       "    </tr>\n",
       "  </tbody>\n",
       "</table>\n",
       "</div>"
      ],
      "text/plain": [
       "      result.business_status  result.delivery  result.dine_in  \\\n",
       "4210                       0                0               1   \n",
       "4819                       1                1               1   \n",
       "1524                       1                1               1   \n",
       "4544                       1                0               1   \n",
       "1762                       1                0               0   \n",
       "\n",
       "                      result.name              result.place_id  result.rating  \\\n",
       "4210          alimatacion jpulido  ChIJfblDSU0mQg0Rds6tuUbPdA4            4.0   \n",
       "4819                    la fabula  ChIJISzwPs-JQQ0RFwFyH19j8dg            3.6   \n",
       "1524                  casa carmen  ChIJU1L_3iUvQg0Rbt25o-lBhvE            3.7   \n",
       "4544                    el cuadro  ChIJaeuXFJYnQg0RCiKW7lQ5nXM            4.3   \n",
       "1762  polleria hueveria cristobal  ChIJD6fHB0UvQg0RK5gw-fVYcEU            3.6   \n",
       "\n",
       "      result.reservable  result.serves_vegetarian_food  result.takeout  \\\n",
       "4210                  0                              0               1   \n",
       "4819                  1                              0               1   \n",
       "1524                  1                              0               1   \n",
       "4544                  1                              0               1   \n",
       "1762                  0                              0               1   \n",
       "\n",
       "      result.user_ratings_total  zip_code  price_level  success  \\\n",
       "4210                        3.0     28026          1.0        0   \n",
       "4819                      444.0     28054          2.0        0   \n",
       "1524                     1977.0     28043          2.0        1   \n",
       "4544                      438.0     28019          1.0        0   \n",
       "1762                        5.0     28033          1.0        0   \n",
       "\n",
       "           distrito  restaurants_per_district_area  \\\n",
       "4210          USERA                      93.636364   \n",
       "4819         LATINA                      14.998037   \n",
       "1524  CIUDAD LINEAL                     126.909722   \n",
       "4544    CARABANCHEL                      47.021277   \n",
       "1762  CIUDAD LINEAL                     126.909722   \n",
       "\n",
       "      share_year_budget_rest_per_household  share_local_pop  \\\n",
       "4210                             13.861026       195.295423   \n",
       "4819                             30.924738       620.544503   \n",
       "1524                             15.225889       146.309850   \n",
       "4544                             16.223379       385.390649   \n",
       "1762                             15.225889       146.309850   \n",
       "\n",
       "      share_of_surface_in_KM2  Sentiment Score  share_tourists_zipcode  \\\n",
       "4210                 0.010680        -0.401900                9.679101   \n",
       "4819                 0.066675         0.290380               64.048423   \n",
       "1524                 0.007880         0.382680                2.723654   \n",
       "4544                 0.021267         0.663540               33.599173   \n",
       "1762                 0.007880         0.106067                7.773260   \n",
       "\n",
       "      website  serves_alcohol  zip_code_encoded  price_level_encoded  \\\n",
       "4210        0               1             174.0                  4.1   \n",
       "4819        1               1             563.5                  4.2   \n",
       "1524        1               1             264.5                  4.2   \n",
       "4544        1               1             109.5                  4.1   \n",
       "1762        0               1             273.0                  4.1   \n",
       "\n",
       "      distrito_encoded  \n",
       "4210          0.389170  \n",
       "4819          0.418326  \n",
       "1524          0.459976  \n",
       "4544          0.412690  \n",
       "1762          0.459976  "
      ]
     },
     "execution_count": 113,
     "metadata": {},
     "output_type": "execute_result"
    }
   ],
   "source": [
    "google.sample(5)"
   ]
  },
  {
   "cell_type": "code",
   "execution_count": 114,
   "metadata": {},
   "outputs": [
    {
     "data": {
      "text/plain": [
       "Index(['result.business_status', 'result.delivery', 'result.dine_in',\n",
       "       'result.name', 'result.place_id', 'result.rating', 'result.reservable',\n",
       "       'result.serves_vegetarian_food', 'result.takeout',\n",
       "       'result.user_ratings_total', 'zip_code', 'price_level', 'success',\n",
       "       'distrito', 'restaurants_per_district_area',\n",
       "       'share_year_budget_rest_per_household', 'share_local_pop',\n",
       "       'share_of_surface_in_KM2', 'Sentiment Score', 'share_tourists_zipcode',\n",
       "       'website', 'serves_alcohol', 'zip_code_encoded', 'price_level_encoded',\n",
       "       'distrito_encoded'],\n",
       "      dtype='object')"
      ]
     },
     "execution_count": 114,
     "metadata": {},
     "output_type": "execute_result"
    }
   ],
   "source": [
    "google.columns"
   ]
  },
  {
   "cell_type": "code",
   "execution_count": 115,
   "metadata": {},
   "outputs": [],
   "source": [
    "districts = google[['distrito', 'restaurants_per_district_area',\n",
    "       'share_year_budget_rest_per_household', 'share_local_pop',\n",
    "       'share_of_surface_in_KM2', 'distrito_encoded']]"
   ]
  },
  {
   "cell_type": "code",
   "execution_count": 116,
   "metadata": {},
   "outputs": [],
   "source": [
    "zip_codes = google[['zip_code','share_tourists_zipcode','zip_code_encoded']]"
   ]
  },
  {
   "cell_type": "code",
   "execution_count": 117,
   "metadata": {},
   "outputs": [],
   "source": [
    "price_levels = google[['price_level', 'price_level_encoded']]"
   ]
  },
  {
   "cell_type": "code",
   "execution_count": 118,
   "metadata": {
    "scrolled": true
   },
   "outputs": [
    {
     "data": {
      "text/html": [
       "<div>\n",
       "<style scoped>\n",
       "    .dataframe tbody tr th:only-of-type {\n",
       "        vertical-align: middle;\n",
       "    }\n",
       "\n",
       "    .dataframe tbody tr th {\n",
       "        vertical-align: top;\n",
       "    }\n",
       "\n",
       "    .dataframe thead th {\n",
       "        text-align: right;\n",
       "    }\n",
       "</style>\n",
       "<table border=\"1\" class=\"dataframe\">\n",
       "  <thead>\n",
       "    <tr style=\"text-align: right;\">\n",
       "      <th></th>\n",
       "      <th>distrito</th>\n",
       "      <th>restaurants_per_district_area</th>\n",
       "      <th>share_year_budget_rest_per_household</th>\n",
       "      <th>share_local_pop</th>\n",
       "      <th>share_of_surface_in_KM2</th>\n",
       "      <th>distrito_encoded</th>\n",
       "    </tr>\n",
       "  </thead>\n",
       "  <tbody>\n",
       "    <tr>\n",
       "      <th>0</th>\n",
       "      <td>HORTALEZA</td>\n",
       "      <td>37.688442</td>\n",
       "      <td>17.863179</td>\n",
       "      <td>200.017436</td>\n",
       "      <td>0.026533</td>\n",
       "      <td>0.417023</td>\n",
       "    </tr>\n",
       "    <tr>\n",
       "      <th>1</th>\n",
       "      <td>HORTALEZA</td>\n",
       "      <td>37.688442</td>\n",
       "      <td>17.863179</td>\n",
       "      <td>200.017436</td>\n",
       "      <td>0.026533</td>\n",
       "      <td>0.417023</td>\n",
       "    </tr>\n",
       "    <tr>\n",
       "      <th>2</th>\n",
       "      <td>HORTALEZA</td>\n",
       "      <td>37.688442</td>\n",
       "      <td>17.863179</td>\n",
       "      <td>200.017436</td>\n",
       "      <td>0.026533</td>\n",
       "      <td>0.417023</td>\n",
       "    </tr>\n",
       "    <tr>\n",
       "      <th>3</th>\n",
       "      <td>HORTALEZA</td>\n",
       "      <td>37.688442</td>\n",
       "      <td>17.863179</td>\n",
       "      <td>200.017436</td>\n",
       "      <td>0.026533</td>\n",
       "      <td>0.417023</td>\n",
       "    </tr>\n",
       "    <tr>\n",
       "      <th>4</th>\n",
       "      <td>HORTALEZA</td>\n",
       "      <td>37.688442</td>\n",
       "      <td>17.863179</td>\n",
       "      <td>200.017436</td>\n",
       "      <td>0.026533</td>\n",
       "      <td>0.417023</td>\n",
       "    </tr>\n",
       "    <tr>\n",
       "      <th>...</th>\n",
       "      <td>...</td>\n",
       "      <td>...</td>\n",
       "      <td>...</td>\n",
       "      <td>...</td>\n",
       "      <td>...</td>\n",
       "      <td>...</td>\n",
       "    </tr>\n",
       "    <tr>\n",
       "      <th>5139</th>\n",
       "      <td>VILLAVERDE</td>\n",
       "      <td>23.701138</td>\n",
       "      <td>15.207933</td>\n",
       "      <td>321.146138</td>\n",
       "      <td>0.042192</td>\n",
       "      <td>0.336423</td>\n",
       "    </tr>\n",
       "    <tr>\n",
       "      <th>5140</th>\n",
       "      <td>VILLAVERDE</td>\n",
       "      <td>23.701138</td>\n",
       "      <td>15.207933</td>\n",
       "      <td>321.146138</td>\n",
       "      <td>0.042192</td>\n",
       "      <td>0.336423</td>\n",
       "    </tr>\n",
       "    <tr>\n",
       "      <th>5141</th>\n",
       "      <td>VILLAVERDE</td>\n",
       "      <td>23.701138</td>\n",
       "      <td>15.207933</td>\n",
       "      <td>321.146138</td>\n",
       "      <td>0.042192</td>\n",
       "      <td>0.336423</td>\n",
       "    </tr>\n",
       "    <tr>\n",
       "      <th>5142</th>\n",
       "      <td>VILLAVERDE</td>\n",
       "      <td>23.701138</td>\n",
       "      <td>15.207933</td>\n",
       "      <td>321.146138</td>\n",
       "      <td>0.042192</td>\n",
       "      <td>0.336423</td>\n",
       "    </tr>\n",
       "    <tr>\n",
       "      <th>5143</th>\n",
       "      <td>VILLAVERDE</td>\n",
       "      <td>23.701138</td>\n",
       "      <td>15.207933</td>\n",
       "      <td>321.146138</td>\n",
       "      <td>0.042192</td>\n",
       "      <td>0.336423</td>\n",
       "    </tr>\n",
       "  </tbody>\n",
       "</table>\n",
       "<p>5144 rows × 6 columns</p>\n",
       "</div>"
      ],
      "text/plain": [
       "        distrito  restaurants_per_district_area  \\\n",
       "0      HORTALEZA                      37.688442   \n",
       "1      HORTALEZA                      37.688442   \n",
       "2      HORTALEZA                      37.688442   \n",
       "3      HORTALEZA                      37.688442   \n",
       "4      HORTALEZA                      37.688442   \n",
       "...          ...                            ...   \n",
       "5139  VILLAVERDE                      23.701138   \n",
       "5140  VILLAVERDE                      23.701138   \n",
       "5141  VILLAVERDE                      23.701138   \n",
       "5142  VILLAVERDE                      23.701138   \n",
       "5143  VILLAVERDE                      23.701138   \n",
       "\n",
       "      share_year_budget_rest_per_household  share_local_pop  \\\n",
       "0                                17.863179       200.017436   \n",
       "1                                17.863179       200.017436   \n",
       "2                                17.863179       200.017436   \n",
       "3                                17.863179       200.017436   \n",
       "4                                17.863179       200.017436   \n",
       "...                                    ...              ...   \n",
       "5139                             15.207933       321.146138   \n",
       "5140                             15.207933       321.146138   \n",
       "5141                             15.207933       321.146138   \n",
       "5142                             15.207933       321.146138   \n",
       "5143                             15.207933       321.146138   \n",
       "\n",
       "      share_of_surface_in_KM2  distrito_encoded  \n",
       "0                    0.026533          0.417023  \n",
       "1                    0.026533          0.417023  \n",
       "2                    0.026533          0.417023  \n",
       "3                    0.026533          0.417023  \n",
       "4                    0.026533          0.417023  \n",
       "...                       ...               ...  \n",
       "5139                 0.042192          0.336423  \n",
       "5140                 0.042192          0.336423  \n",
       "5141                 0.042192          0.336423  \n",
       "5142                 0.042192          0.336423  \n",
       "5143                 0.042192          0.336423  \n",
       "\n",
       "[5144 rows x 6 columns]"
      ]
     },
     "execution_count": 118,
     "metadata": {},
     "output_type": "execute_result"
    }
   ],
   "source": [
    "districts"
   ]
  },
  {
   "cell_type": "code",
   "execution_count": 119,
   "metadata": {},
   "outputs": [],
   "source": [
    "data_dict_list = districts.to_dict(orient='records')\n",
    "\n",
    "# create dictionary with district name as key and list of values as value\n",
    "district_dict = {}\n",
    "for data_dict in data_dict_list:\n",
    "    district = data_dict['distrito']\n",
    "    values = list(data_dict.values())[1:]\n",
    "    district_dict[district] = values"
   ]
  },
  {
   "cell_type": "code",
   "execution_count": 120,
   "metadata": {},
   "outputs": [
    {
     "data": {
      "text/plain": [
       "{'HORTALEZA': [37.68844221105528,\n",
       "  17.86317948717949,\n",
       "  200.0174358974359,\n",
       "  0.0265333333333333,\n",
       "  0.4170234232804233],\n",
       " 'SAN BLAS-CANILLEJAS': [62.264150943396224,\n",
       "  10.819877344877344,\n",
       "  114.56204906204906,\n",
       "  0.016060606060606,\n",
       "  0.429501996124031],\n",
       " 'RETIRO': [124.35424354243544,\n",
       "  26.43293768545994,\n",
       "  174.58753709198814,\n",
       "  0.0080415430267062,\n",
       "  0.5387095089285714],\n",
       " 'SALAMANCA': [110.26119402985074,\n",
       "  31.00871404399324,\n",
       "  246.12013536379013,\n",
       "  0.0090693739424703,\n",
       "  0.5533441939393939],\n",
       " 'CIUDAD LINEAL': [126.90972222222224,\n",
       "  15.225889192886456,\n",
       "  146.30984952120383,\n",
       "  0.0078796169630642,\n",
       "  0.45997566877303847],\n",
       " 'MORATALAZ': [115.46052631578948,\n",
       "  16.511823361823364,\n",
       "  131.6096866096866,\n",
       "  0.0086609686609686,\n",
       "  0.3986984492753623],\n",
       " 'VICALVARO': [12.55656108597285,\n",
       "  17.23536036036036,\n",
       "  178.66666666666666,\n",
       "  0.0796396396396396,\n",
       "  0.3828384523809524],\n",
       " 'FUENCARRAL-EL PARDO': [1.7058823529411764,\n",
       "  57.57610837438424,\n",
       "  606.6034482758621,\n",
       "  0.5862068965517241,\n",
       "  0.4412468543046358],\n",
       " 'CHAMARTIN': [61.62280701754386,\n",
       "  34.84804270462634,\n",
       "  256.88790035587186,\n",
       "  0.0162277580071174,\n",
       "  0.5511867705382436],\n",
       " 'TETUAN': [109.12476722532588,\n",
       "  19.5872866894198,\n",
       "  268.65699658703073,\n",
       "  0.0091638225255972,\n",
       "  0.47567358304297325],\n",
       " 'VILLA DE VALLECAS': [5.65158283161779,\n",
       "  17.846391752577322,\n",
       "  394.5601374570447,\n",
       "  0.1769415807560137,\n",
       "  0.4064768031189083],\n",
       " 'PUENTE DE VALLECAS': [46.09164420485176,\n",
       "  12.099049707602338,\n",
       "  344.5,\n",
       "  0.0216959064327485,\n",
       "  0.41296009895833335],\n",
       " 'CHAMBERI': [138.0549682875264,\n",
       "  25.72970903522205,\n",
       "  210.24042879019908,\n",
       "  0.0072434915773353,\n",
       "  0.5590027025641026],\n",
       " 'CENTRO': [114.3953934740883,\n",
       "  19.33414429530201,\n",
       "  234.3657718120805,\n",
       "  0.008741610738255,\n",
       "  0.6483508805668016],\n",
       " 'USERA': [93.63636363636364,\n",
       "  13.861026352288487,\n",
       "  195.2954230235784,\n",
       "  0.0106796116504854,\n",
       "  0.3891695854483926],\n",
       " 'ARGANZUELA': [151.840490797546,\n",
       "  16.135050505050504,\n",
       "  154.17979797979797,\n",
       "  0.0065858585858585,\n",
       "  0.5025478828828829],\n",
       " 'CARABANCHEL': [47.02127659574468,\n",
       "  16.223378582202113,\n",
       "  385.3906485671192,\n",
       "  0.0212669683257918,\n",
       "  0.41269010939510936],\n",
       " 'LATINA': [14.998036906164115,\n",
       "  30.92473821989529,\n",
       "  620.5445026178011,\n",
       "  0.066675392670157,\n",
       "  0.41832607007575756],\n",
       " 'MONCLOA-ARAVACA': [7.531740908112761,\n",
       "  29.571285714285715,\n",
       "  343.8857142857143,\n",
       "  0.1327714285714285,\n",
       "  0.5085112244897959],\n",
       " 'VILLAVERDE': [23.701138050470064,\n",
       "  15.207933194154489,\n",
       "  321.1461377870564,\n",
       "  0.0421920668058455,\n",
       "  0.33642315873015877]}"
      ]
     },
     "execution_count": 120,
     "metadata": {},
     "output_type": "execute_result"
    }
   ],
   "source": [
    "district_dict"
   ]
  },
  {
   "cell_type": "code",
   "execution_count": 121,
   "metadata": {
    "scrolled": false
   },
   "outputs": [
    {
     "data": {
      "text/html": [
       "<div>\n",
       "<style scoped>\n",
       "    .dataframe tbody tr th:only-of-type {\n",
       "        vertical-align: middle;\n",
       "    }\n",
       "\n",
       "    .dataframe tbody tr th {\n",
       "        vertical-align: top;\n",
       "    }\n",
       "\n",
       "    .dataframe thead th {\n",
       "        text-align: right;\n",
       "    }\n",
       "</style>\n",
       "<table border=\"1\" class=\"dataframe\">\n",
       "  <thead>\n",
       "    <tr style=\"text-align: right;\">\n",
       "      <th></th>\n",
       "      <th>zip_code</th>\n",
       "      <th>share_tourists_zipcode</th>\n",
       "      <th>zip_code_encoded</th>\n",
       "    </tr>\n",
       "  </thead>\n",
       "  <tbody>\n",
       "    <tr>\n",
       "      <th>0</th>\n",
       "      <td>28050</td>\n",
       "      <td>8.058517</td>\n",
       "      <td>531.0</td>\n",
       "    </tr>\n",
       "    <tr>\n",
       "      <th>1</th>\n",
       "      <td>28050</td>\n",
       "      <td>8.058517</td>\n",
       "      <td>531.0</td>\n",
       "    </tr>\n",
       "    <tr>\n",
       "      <th>2</th>\n",
       "      <td>28050</td>\n",
       "      <td>8.058517</td>\n",
       "      <td>531.0</td>\n",
       "    </tr>\n",
       "    <tr>\n",
       "      <th>3</th>\n",
       "      <td>28050</td>\n",
       "      <td>8.058517</td>\n",
       "      <td>531.0</td>\n",
       "    </tr>\n",
       "    <tr>\n",
       "      <th>4</th>\n",
       "      <td>28050</td>\n",
       "      <td>8.058517</td>\n",
       "      <td>531.0</td>\n",
       "    </tr>\n",
       "    <tr>\n",
       "      <th>...</th>\n",
       "      <td>...</td>\n",
       "      <td>...</td>\n",
       "      <td>...</td>\n",
       "    </tr>\n",
       "    <tr>\n",
       "      <th>5139</th>\n",
       "      <td>28021</td>\n",
       "      <td>8.209144</td>\n",
       "      <td>116.0</td>\n",
       "    </tr>\n",
       "    <tr>\n",
       "      <th>5140</th>\n",
       "      <td>28021</td>\n",
       "      <td>8.209144</td>\n",
       "      <td>116.0</td>\n",
       "    </tr>\n",
       "    <tr>\n",
       "      <th>5141</th>\n",
       "      <td>28021</td>\n",
       "      <td>8.209144</td>\n",
       "      <td>116.0</td>\n",
       "    </tr>\n",
       "    <tr>\n",
       "      <th>5142</th>\n",
       "      <td>28021</td>\n",
       "      <td>8.209144</td>\n",
       "      <td>116.0</td>\n",
       "    </tr>\n",
       "    <tr>\n",
       "      <th>5143</th>\n",
       "      <td>28021</td>\n",
       "      <td>8.209144</td>\n",
       "      <td>116.0</td>\n",
       "    </tr>\n",
       "  </tbody>\n",
       "</table>\n",
       "<p>5144 rows × 3 columns</p>\n",
       "</div>"
      ],
      "text/plain": [
       "      zip_code  share_tourists_zipcode  zip_code_encoded\n",
       "0        28050                8.058517             531.0\n",
       "1        28050                8.058517             531.0\n",
       "2        28050                8.058517             531.0\n",
       "3        28050                8.058517             531.0\n",
       "4        28050                8.058517             531.0\n",
       "...        ...                     ...               ...\n",
       "5139     28021                8.209144             116.0\n",
       "5140     28021                8.209144             116.0\n",
       "5141     28021                8.209144             116.0\n",
       "5142     28021                8.209144             116.0\n",
       "5143     28021                8.209144             116.0\n",
       "\n",
       "[5144 rows x 3 columns]"
      ]
     },
     "execution_count": 121,
     "metadata": {},
     "output_type": "execute_result"
    }
   ],
   "source": [
    "zip_codes"
   ]
  },
  {
   "cell_type": "code",
   "execution_count": 122,
   "metadata": {},
   "outputs": [],
   "source": [
    "data_dict_list = zip_codes.to_dict(orient='records')\n",
    "\n",
    "# create dictionary with district name as key and list of values as value\n",
    "zipcode_dict = {}\n",
    "for data_dict in data_dict_list:\n",
    "    zip_code = data_dict['zip_code']\n",
    "    values = list(data_dict.values())[1:]\n",
    "    zipcode_dict[zip_code] = values"
   ]
  },
  {
   "cell_type": "code",
   "execution_count": 123,
   "metadata": {
    "scrolled": true
   },
   "outputs": [
    {
     "data": {
      "text/plain": [
       "{28050: [8.05851723282916, 531.0],\n",
       " 28042: [18.125268125268125, 211.0],\n",
       " 28022: [3.903903903903904, 278.5],\n",
       " 28037: [4.436254436254436, 184.0],\n",
       " 28009: [37.954621287954616, 593.0],\n",
       " 28007: [22.33165368758589, 359.0],\n",
       " 28001: [127.62762762762762, 858.0],\n",
       " 28028: [20.7025207025207, 273.5],\n",
       " 28006: [45.48237557946296, 731.0],\n",
       " 28027: [13.61826943222292, 235.5],\n",
       " 28017: [4.03852127990059, 134.5],\n",
       " 28043: [2.723653886444584, 264.5],\n",
       " 28033: [7.773259985649367, 273.0],\n",
       " 28030: [5.005005005005005, 232.0],\n",
       " 28032: [6.142506142506143, 237.0],\n",
       " 28052: [46.85766005248785, 355.0],\n",
       " 28034: [9.00900900900901, 283.0],\n",
       " 28049: [18.29954954954955, 546.0],\n",
       " 28048: [585.5855855855856, 769.0],\n",
       " 28035: [5.323505323505324, 327.5],\n",
       " 28016: [10.71193144363876, 514.0],\n",
       " 28036: [33.78378378378379, 775.0],\n",
       " 28046: [80.90327169274538, 538.0],\n",
       " 28002: [21.5994683207798, 474.5],\n",
       " 28020: [16.52862539959314, 688.5],\n",
       " 28029: [17.6381200477586, 267.5],\n",
       " 28039: [46.85766005248785, 142.0],\n",
       " 28031: [17.66853059956508, 215.5],\n",
       " 28051: [4.962589708352421, 627.0],\n",
       " 28053: [6.506506506506507, 82.5],\n",
       " 28038: [4.436254436254436, 107.0],\n",
       " 28018: [10.647010647010648, 143.0],\n",
       " 28010: [100.46811517399752, 542.0],\n",
       " 28003: [65.06506506506507, 653.0],\n",
       " 28015: [85.3018372703412, 578.5],\n",
       " 28004: [243.993993993994, 1220.5],\n",
       " 28012: [254.7297297297297, 1294.0],\n",
       " 28005: [151.27627627627626, 729.0],\n",
       " 28014: [295.94110239271527, 836.0],\n",
       " 28013: [259.4366518417152, 1843.0],\n",
       " 28026: [9.679100588191496, 174.0],\n",
       " 28041: [3.706237883453073, 147.0],\n",
       " 28045: [72.22222222222221, 380.0],\n",
       " 28019: [33.599172943435235, 109.5],\n",
       " 28025: [12.84178915757863, 125.0],\n",
       " 28047: [33.78378378378379, 451.0],\n",
       " 28044: [6.80913471611146, 357.0],\n",
       " 28054: [64.04842342342342, 563.5],\n",
       " 28024: [20.913770913770914, 761.0],\n",
       " 28011: [56.66957279860506, 159.0],\n",
       " 28008: [86.64276521419379, 500.0],\n",
       " 28021: [8.209143723162414, 116.0]}"
      ]
     },
     "execution_count": 123,
     "metadata": {},
     "output_type": "execute_result"
    }
   ],
   "source": [
    "zipcode_dict"
   ]
  },
  {
   "cell_type": "code",
   "execution_count": 124,
   "metadata": {},
   "outputs": [
    {
     "data": {
      "text/html": [
       "<div>\n",
       "<style scoped>\n",
       "    .dataframe tbody tr th:only-of-type {\n",
       "        vertical-align: middle;\n",
       "    }\n",
       "\n",
       "    .dataframe tbody tr th {\n",
       "        vertical-align: top;\n",
       "    }\n",
       "\n",
       "    .dataframe thead th {\n",
       "        text-align: right;\n",
       "    }\n",
       "</style>\n",
       "<table border=\"1\" class=\"dataframe\">\n",
       "  <thead>\n",
       "    <tr style=\"text-align: right;\">\n",
       "      <th></th>\n",
       "      <th>price_level</th>\n",
       "      <th>price_level_encoded</th>\n",
       "    </tr>\n",
       "  </thead>\n",
       "  <tbody>\n",
       "    <tr>\n",
       "      <th>0</th>\n",
       "      <td>2.0</td>\n",
       "      <td>4.2</td>\n",
       "    </tr>\n",
       "    <tr>\n",
       "      <th>1</th>\n",
       "      <td>1.0</td>\n",
       "      <td>4.1</td>\n",
       "    </tr>\n",
       "    <tr>\n",
       "      <th>2</th>\n",
       "      <td>2.0</td>\n",
       "      <td>4.2</td>\n",
       "    </tr>\n",
       "    <tr>\n",
       "      <th>3</th>\n",
       "      <td>3.0</td>\n",
       "      <td>4.3</td>\n",
       "    </tr>\n",
       "    <tr>\n",
       "      <th>4</th>\n",
       "      <td>1.0</td>\n",
       "      <td>4.1</td>\n",
       "    </tr>\n",
       "    <tr>\n",
       "      <th>...</th>\n",
       "      <td>...</td>\n",
       "      <td>...</td>\n",
       "    </tr>\n",
       "    <tr>\n",
       "      <th>5139</th>\n",
       "      <td>1.0</td>\n",
       "      <td>4.1</td>\n",
       "    </tr>\n",
       "    <tr>\n",
       "      <th>5140</th>\n",
       "      <td>1.0</td>\n",
       "      <td>4.1</td>\n",
       "    </tr>\n",
       "    <tr>\n",
       "      <th>5141</th>\n",
       "      <td>1.0</td>\n",
       "      <td>4.1</td>\n",
       "    </tr>\n",
       "    <tr>\n",
       "      <th>5142</th>\n",
       "      <td>1.0</td>\n",
       "      <td>4.1</td>\n",
       "    </tr>\n",
       "    <tr>\n",
       "      <th>5143</th>\n",
       "      <td>1.0</td>\n",
       "      <td>4.1</td>\n",
       "    </tr>\n",
       "  </tbody>\n",
       "</table>\n",
       "<p>5144 rows × 2 columns</p>\n",
       "</div>"
      ],
      "text/plain": [
       "      price_level  price_level_encoded\n",
       "0             2.0                  4.2\n",
       "1             1.0                  4.1\n",
       "2             2.0                  4.2\n",
       "3             3.0                  4.3\n",
       "4             1.0                  4.1\n",
       "...           ...                  ...\n",
       "5139          1.0                  4.1\n",
       "5140          1.0                  4.1\n",
       "5141          1.0                  4.1\n",
       "5142          1.0                  4.1\n",
       "5143          1.0                  4.1\n",
       "\n",
       "[5144 rows x 2 columns]"
      ]
     },
     "execution_count": 124,
     "metadata": {},
     "output_type": "execute_result"
    }
   ],
   "source": [
    "price_levels"
   ]
  },
  {
   "cell_type": "code",
   "execution_count": 125,
   "metadata": {},
   "outputs": [],
   "source": [
    "data_dict_list = price_levels.to_dict(orient='records')\n",
    "\n",
    "# create dictionary with district name as key and list of values as value\n",
    "prices_dict = {}\n",
    "for data_dict in data_dict_list:\n",
    "    prices = data_dict['price_level']\n",
    "    values = list(data_dict.values())[1:]\n",
    "    prices_dict[prices] = values"
   ]
  },
  {
   "cell_type": "code",
   "execution_count": 126,
   "metadata": {},
   "outputs": [
    {
     "data": {
      "text/plain": [
       "{2.0: [4.2], 1.0: [4.1], 3.0: [4.3], 4.0: [4.5]}"
      ]
     },
     "execution_count": 126,
     "metadata": {},
     "output_type": "execute_result"
    }
   ],
   "source": [
    "prices_dict"
   ]
  },
  {
   "cell_type": "markdown",
   "metadata": {},
   "source": [
    "# Random Search - Hyperparameter tuning"
   ]
  },
  {
   "cell_type": "code",
   "execution_count": 127,
   "metadata": {},
   "outputs": [],
   "source": [
    "# Number of trees in random forest\n",
    "n_estimators = [int(x) for x in np.linspace(start = 200, stop = 2000, num = 10)] #10\n",
    "# Number of features to consider at every split <- a non-numeric parameter, no problem. Could also have been used in gridsearch\n",
    "max_features = ['sqrt', 'log2']\n",
    "# Maximum number of levels in tree\n",
    "max_depth = [int(x) for x in np.linspace(10, 110, num = 11)] #11\n",
    "max_depth.append(None) #<- plus no cap\n",
    "# Minimum number of samples required to split a node\n",
    "min_samples_split = [2, 5, 10]\n",
    "# Minimum number of samples required at each leaf node\n",
    "min_samples_leaf = [1, 2, 4]\n",
    "# Method of selecting samples for training each tree\n",
    "bootstrap = [True, False]\n",
    "# Create the random grid\n",
    "random_grid = {'n_estimators': n_estimators,\n",
    "               'max_features': max_features,\n",
    "               'max_depth': max_depth,\n",
    "               'min_samples_split': min_samples_split,\n",
    "               'min_samples_leaf': min_samples_leaf,\n",
    "               'bootstrap': bootstrap}"
   ]
  },
  {
   "cell_type": "code",
   "execution_count": 128,
   "metadata": {},
   "outputs": [
    {
     "data": {
      "text/plain": [
       "{'n_estimators': [200, 400, 600, 800, 1000, 1200, 1400, 1600, 1800, 2000],\n",
       " 'max_features': ['sqrt', 'log2'],\n",
       " 'max_depth': [10, 20, 30, 40, 50, 60, 70, 80, 90, 100, 110, None],\n",
       " 'min_samples_split': [2, 5, 10],\n",
       " 'min_samples_leaf': [1, 2, 4],\n",
       " 'bootstrap': [True, False]}"
      ]
     },
     "execution_count": 128,
     "metadata": {},
     "output_type": "execute_result"
    }
   ],
   "source": [
    "random_grid"
   ]
  },
  {
   "cell_type": "code",
   "execution_count": 129,
   "metadata": {},
   "outputs": [],
   "source": [
    "# random search to the rescue\n",
    "from sklearn.model_selection import RandomizedSearchCV\n",
    "\n",
    "# in random search you have to say how many iterations you want to get:\n",
    "# n_ iter -> how many random combinations he will try\n",
    "# n_jobs -> if you want sklearn to parallelize the process. Can also be used in grid search\n",
    "\n",
    "random_search = RandomizedSearchCV(estimator = model, param_distributions = random_grid, n_iter = 15, cv = 3, n_jobs = 15)"
   ]
  },
  {
   "cell_type": "code",
   "execution_count": null,
   "metadata": {},
   "outputs": [],
   "source": [
    "random_search.fit(X_train_imputed, y_train)"
   ]
  },
  {
   "cell_type": "code",
   "execution_count": null,
   "metadata": {},
   "outputs": [],
   "source": [
    "random_search.best_params_"
   ]
  },
  {
   "cell_type": "code",
   "execution_count": null,
   "metadata": {
    "scrolled": true
   },
   "outputs": [],
   "source": [
    "random_search.best_score_"
   ]
  },
  {
   "cell_type": "markdown",
   "metadata": {},
   "source": [
    "# Fixing imbalance"
   ]
  },
  {
   "cell_type": "code",
   "execution_count": null,
   "metadata": {},
   "outputs": [],
   "source": [
    "#Remember that 1 is operational and 0 is closed\n",
    "count_classes = pd.value_counts(google['result.business_status'])\n",
    "count_classes.plot(kind = 'bar')"
   ]
  },
  {
   "cell_type": "code",
   "execution_count": null,
   "metadata": {},
   "outputs": [],
   "source": [
    "display(open_google.shape)\n",
    "display(closed_google.shape)"
   ]
  },
  {
   "cell_type": "code",
   "execution_count": null,
   "metadata": {},
   "outputs": [],
   "source": [
    "from imblearn.over_sampling import SMOTE"
   ]
  },
  {
   "cell_type": "code",
   "execution_count": null,
   "metadata": {},
   "outputs": [],
   "source": [
    "sm = SMOTE(random_state = 123, sampling_strategy=1.0)\n",
    "X_train_SMOTE,y_train_SMOTE = sm.fit_resample(X_train_imputed, y_train)"
   ]
  },
  {
   "cell_type": "code",
   "execution_count": null,
   "metadata": {},
   "outputs": [],
   "source": [
    "model = RandomForestClassifier(max_depth=110, n_estimators=2000, bootstrap=True, min_samples_split=10, min_samples_leaf=4, random_state=0)\n",
    "model.fit(X_train_SMOTE, y_train_SMOTE)\n",
    "model.score(X_test_normalized, y_test)"
   ]
  },
  {
   "cell_type": "markdown",
   "metadata": {},
   "source": [
    "# Clean model for pickling"
   ]
  },
  {
   "cell_type": "code",
   "execution_count": null,
   "metadata": {},
   "outputs": [],
   "source": [
    "pd.set_option('display.max_rows', 100)"
   ]
  },
  {
   "cell_type": "code",
   "execution_count": null,
   "metadata": {},
   "outputs": [],
   "source": [
    "#Creating dictionaries for converting user inputs into assigned values:\n",
    "#the model will have concept options: delivery, dine_in, reservable, takeout, veggie_food, serves alcohol, website, zip_code (2),\n",
    "#price_level(1) and district(5) (10 questions)\n",
    "# 15 total"
   ]
  },
  {
   "cell_type": "code",
   "execution_count": null,
   "metadata": {},
   "outputs": [],
   "source": [
    "google_model = google.drop(columns=['result.name','result.place_id','result.rating','result.user_ratings_total',\n",
    "                                   'zip_code','price_level', 'success', 'distrito','Sentiment Score'], axis=1)"
   ]
  },
  {
   "cell_type": "code",
   "execution_count": null,
   "metadata": {},
   "outputs": [],
   "source": [
    "google_model"
   ]
  },
  {
   "cell_type": "code",
   "execution_count": null,
   "metadata": {},
   "outputs": [],
   "source": [
    "new_order = ['result.business_status','restaurants_per_district_area', 'share_year_budget_rest_per_household',\n",
    "       'share_local_pop', 'share_of_surface_in_KM2','distrito_encoded', 'share_tourists_zipcode', 'zip_code_encoded',\n",
    "             'price_level_encoded','result.delivery', 'result.dine_in','result.reservable', 'result.serves_vegetarian_food', 'result.takeout',\n",
    "              'website', 'serves_alcohol']"
   ]
  },
  {
   "cell_type": "code",
   "execution_count": null,
   "metadata": {},
   "outputs": [],
   "source": [
    "google_model = google_model.reindex(columns=new_order)"
   ]
  },
  {
   "cell_type": "code",
   "execution_count": null,
   "metadata": {},
   "outputs": [],
   "source": [
    "google_model"
   ]
  },
  {
   "cell_type": "code",
   "execution_count": null,
   "metadata": {},
   "outputs": [],
   "source": [
    "X = google_model.drop(columns=['result.business_status'])\n",
    "y = google_model['result.business_status']"
   ]
  },
  {
   "cell_type": "code",
   "execution_count": null,
   "metadata": {},
   "outputs": [],
   "source": [
    "X_train, X_test, y_train, y_test = train_test_split(X, y, test_size=0.25, random_state = 42)"
   ]
  },
  {
   "cell_type": "code",
   "execution_count": null,
   "metadata": {},
   "outputs": [],
   "source": [
    "sm = SMOTE(random_state = 123, sampling_strategy=1.0)\n",
    "X_train_SMOTE,y_train_SMOTE = sm.fit_resample(X_train, y_train)"
   ]
  },
  {
   "cell_type": "code",
   "execution_count": null,
   "metadata": {},
   "outputs": [],
   "source": [
    "from sklearn.preprocessing import MinMaxScaler\n",
    "\n",
    "scaler = MinMaxScaler()\n",
    "X_train_normalized = scaler.fit_transform(X_train)\n",
    "X_test_normalized = scaler.transform(X_test)"
   ]
  },
  {
   "cell_type": "code",
   "execution_count": null,
   "metadata": {},
   "outputs": [],
   "source": [
    "xgb_class = xgb.XGBClassifier()\n",
    "xgb_class.fit(X_train_SMOTE, y_train_SMOTE)\n",
    "xgb_class.score(X_test,y_test)"
   ]
  },
  {
   "cell_type": "code",
   "execution_count": null,
   "metadata": {},
   "outputs": [],
   "source": [
    "xgb.plot_importance(xgb_class)\n",
    "plt.show()"
   ]
  },
  {
   "cell_type": "code",
   "execution_count": null,
   "metadata": {},
   "outputs": [],
   "source": [
    "model = RandomForestClassifier(max_depth=110, n_estimators=2000, bootstrap=True, min_samples_split=10, min_samples_leaf=4, random_state=0)\n",
    "model.fit(X_train_SMOTE, y_train_SMOTE)\n",
    "model.score(X_test_normalized, y_test)"
   ]
  },
  {
   "cell_type": "code",
   "execution_count": null,
   "metadata": {},
   "outputs": [],
   "source": [
    "#Going with the GBC"
   ]
  },
  {
   "cell_type": "markdown",
   "metadata": {},
   "source": [
    "# Pickling GBC"
   ]
  },
  {
   "cell_type": "code",
   "execution_count": null,
   "metadata": {},
   "outputs": [],
   "source": [
    "import pickle\n",
    "\n",
    "pickle.dump(xgb_class, open('model.p', 'wb'))"
   ]
  },
  {
   "cell_type": "markdown",
   "metadata": {},
   "source": [
    "# Pickling dictionaries"
   ]
  },
  {
   "cell_type": "code",
   "execution_count": null,
   "metadata": {
    "scrolled": true
   },
   "outputs": [],
   "source": [
    "prices_dict"
   ]
  },
  {
   "cell_type": "code",
   "execution_count": null,
   "metadata": {},
   "outputs": [],
   "source": [
    "with open('prices_dict.p', 'wb') as f:\n",
    "    pickle.dump(prices_dict, f)"
   ]
  },
  {
   "cell_type": "code",
   "execution_count": null,
   "metadata": {},
   "outputs": [],
   "source": [
    "district_dict"
   ]
  },
  {
   "cell_type": "code",
   "execution_count": null,
   "metadata": {},
   "outputs": [],
   "source": [
    "with open('district_dict.p', 'wb') as f:\n",
    "    pickle.dump(district_dict, f)"
   ]
  },
  {
   "cell_type": "code",
   "execution_count": null,
   "metadata": {},
   "outputs": [],
   "source": [
    "zipcode_dict"
   ]
  },
  {
   "cell_type": "code",
   "execution_count": null,
   "metadata": {},
   "outputs": [],
   "source": [
    "with open('zipcode_dict.p', 'wb') as f:\n",
    "    pickle.dump(zipcode_dict, f)"
   ]
  },
  {
   "cell_type": "code",
   "execution_count": null,
   "metadata": {},
   "outputs": [],
   "source": []
  },
  {
   "cell_type": "code",
   "execution_count": null,
   "metadata": {},
   "outputs": [],
   "source": [
    "model.predict([[114.3953934740883,\n",
    "  19.33414429530201,\n",
    "  234.3657718120805,\n",
    "  0.008741610738255,\n",
    "  0.6483508805668016, \n",
    "    259.4366518417152, 1843.0, 4.2, 0, 1, 0, 0, 0, 0, 1]])"
   ]
  },
  {
   "cell_type": "code",
   "execution_count": null,
   "metadata": {},
   "outputs": [],
   "source": []
  }
 ],
 "metadata": {
  "colab": {
   "provenance": []
  },
  "kernelspec": {
   "display_name": "Python 3 (ipykernel)",
   "language": "python",
   "name": "python3"
  },
  "language_info": {
   "codemirror_mode": {
    "name": "ipython",
    "version": 3
   },
   "file_extension": ".py",
   "mimetype": "text/x-python",
   "name": "python",
   "nbconvert_exporter": "python",
   "pygments_lexer": "ipython3",
   "version": "3.9.12"
  }
 },
 "nbformat": 4,
 "nbformat_minor": 1
}
