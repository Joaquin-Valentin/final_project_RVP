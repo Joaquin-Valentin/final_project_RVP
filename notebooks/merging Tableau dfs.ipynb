{
 "cells": [
  {
   "cell_type": "code",
   "execution_count": 1,
   "id": "da15d2cb",
   "metadata": {},
   "outputs": [],
   "source": [
    "import pandas as pd \n",
    "import numpy as np"
   ]
  },
  {
   "cell_type": "code",
   "execution_count": 2,
   "id": "6d84038e",
   "metadata": {},
   "outputs": [
    {
     "data": {
      "text/html": [
       "<div>\n",
       "<style scoped>\n",
       "    .dataframe tbody tr th:only-of-type {\n",
       "        vertical-align: middle;\n",
       "    }\n",
       "\n",
       "    .dataframe tbody tr th {\n",
       "        vertical-align: top;\n",
       "    }\n",
       "\n",
       "    .dataframe thead th {\n",
       "        text-align: right;\n",
       "    }\n",
       "</style>\n",
       "<table border=\"1\" class=\"dataframe\">\n",
       "  <thead>\n",
       "    <tr style=\"text-align: right;\">\n",
       "      <th></th>\n",
       "      <th>District</th>\n",
       "      <th>Price_squared_meter</th>\n",
       "      <th>Monthly var</th>\n",
       "      <th>Quarterly var</th>\n",
       "      <th>Yearly var</th>\n",
       "    </tr>\n",
       "  </thead>\n",
       "  <tbody>\n",
       "    <tr>\n",
       "      <th>0</th>\n",
       "      <td>ARGANZUELA</td>\n",
       "      <td>16.3</td>\n",
       "      <td>0.009</td>\n",
       "      <td>0.026</td>\n",
       "      <td>0.105</td>\n",
       "    </tr>\n",
       "    <tr>\n",
       "      <th>1</th>\n",
       "      <td>BARAJAS</td>\n",
       "      <td>12.6</td>\n",
       "      <td>0.010</td>\n",
       "      <td>0.035</td>\n",
       "      <td>0.085</td>\n",
       "    </tr>\n",
       "    <tr>\n",
       "      <th>2</th>\n",
       "      <td>CARABANCHEL</td>\n",
       "      <td>12.6</td>\n",
       "      <td>-0.003</td>\n",
       "      <td>0.011</td>\n",
       "      <td>0.082</td>\n",
       "    </tr>\n",
       "    <tr>\n",
       "      <th>3</th>\n",
       "      <td>CENTRO</td>\n",
       "      <td>21.1</td>\n",
       "      <td>0.041</td>\n",
       "      <td>0.090</td>\n",
       "      <td>0.184</td>\n",
       "    </tr>\n",
       "    <tr>\n",
       "      <th>4</th>\n",
       "      <td>CHAMARTIN</td>\n",
       "      <td>17.2</td>\n",
       "      <td>0.022</td>\n",
       "      <td>0.028</td>\n",
       "      <td>0.119</td>\n",
       "    </tr>\n",
       "  </tbody>\n",
       "</table>\n",
       "</div>"
      ],
      "text/plain": [
       "      District  Price_squared_meter  Monthly var  Quarterly var  Yearly var\n",
       "0   ARGANZUELA                 16.3        0.009          0.026       0.105\n",
       "1      BARAJAS                 12.6        0.010          0.035       0.085\n",
       "2  CARABANCHEL                 12.6       -0.003          0.011       0.082\n",
       "3       CENTRO                 21.1        0.041          0.090       0.184\n",
       "4    CHAMARTIN                 17.2        0.022          0.028       0.119"
      ]
     },
     "execution_count": 2,
     "metadata": {},
     "output_type": "execute_result"
    }
   ],
   "source": [
    "idealista = pd.read_csv('/Users/Usuario/demo/Ironhack/Final_Project/raw_data/Tableau/idealista.csv')\n",
    "idealista.drop('Unnamed: 0', axis=1, inplace=True)\n",
    "idealista.head()"
   ]
  },
  {
   "cell_type": "code",
   "execution_count": 3,
   "id": "de24084d",
   "metadata": {},
   "outputs": [
    {
     "data": {
      "text/html": [
       "<div>\n",
       "<style scoped>\n",
       "    .dataframe tbody tr th:only-of-type {\n",
       "        vertical-align: middle;\n",
       "    }\n",
       "\n",
       "    .dataframe tbody tr th {\n",
       "        vertical-align: top;\n",
       "    }\n",
       "\n",
       "    .dataframe thead th {\n",
       "        text-align: right;\n",
       "    }\n",
       "</style>\n",
       "<table border=\"1\" class=\"dataframe\">\n",
       "  <thead>\n",
       "    <tr style=\"text-align: right;\">\n",
       "      <th></th>\n",
       "      <th>zip_code</th>\n",
       "      <th>restaurant_count</th>\n",
       "      <th>barrio</th>\n",
       "      <th>distrito</th>\n",
       "      <th>renta_media_persona</th>\n",
       "      <th>renta_media_hogar</th>\n",
       "      <th>restaurant_budget_per_household</th>\n",
       "    </tr>\n",
       "  </thead>\n",
       "  <tbody>\n",
       "    <tr>\n",
       "      <th>0</th>\n",
       "      <td>28001</td>\n",
       "      <td>78</td>\n",
       "      <td>RECOLETOS</td>\n",
       "      <td>SALAMANCA</td>\n",
       "      <td>30437</td>\n",
       "      <td>79781</td>\n",
       "      <td>3989.05</td>\n",
       "    </tr>\n",
       "    <tr>\n",
       "      <th>1</th>\n",
       "      <td>28002</td>\n",
       "      <td>122</td>\n",
       "      <td>PROSPERIDAD</td>\n",
       "      <td>CHAMARTIN</td>\n",
       "      <td>21152</td>\n",
       "      <td>48326</td>\n",
       "      <td>2416.30</td>\n",
       "    </tr>\n",
       "    <tr>\n",
       "      <th>2</th>\n",
       "      <td>28002</td>\n",
       "      <td>122</td>\n",
       "      <td>CIUDAD JARDIN</td>\n",
       "      <td>CHAMARTIN</td>\n",
       "      <td>21188</td>\n",
       "      <td>49050</td>\n",
       "      <td>2452.50</td>\n",
       "    </tr>\n",
       "    <tr>\n",
       "      <th>3</th>\n",
       "      <td>28003</td>\n",
       "      <td>99</td>\n",
       "      <td>ALMAGRO</td>\n",
       "      <td>CHAMBERI</td>\n",
       "      <td>28407</td>\n",
       "      <td>72370</td>\n",
       "      <td>3618.50</td>\n",
       "    </tr>\n",
       "    <tr>\n",
       "      <th>4</th>\n",
       "      <td>28003</td>\n",
       "      <td>99</td>\n",
       "      <td>RIOS ROSAS</td>\n",
       "      <td>CHAMBERI</td>\n",
       "      <td>24542</td>\n",
       "      <td>55425</td>\n",
       "      <td>2771.25</td>\n",
       "    </tr>\n",
       "  </tbody>\n",
       "</table>\n",
       "</div>"
      ],
      "text/plain": [
       "   zip_code  restaurant_count         barrio   distrito  renta_media_persona  \\\n",
       "0     28001                78      RECOLETOS  SALAMANCA                30437   \n",
       "1     28002               122    PROSPERIDAD  CHAMARTIN                21152   \n",
       "2     28002               122  CIUDAD JARDIN  CHAMARTIN                21188   \n",
       "3     28003                99        ALMAGRO   CHAMBERI                28407   \n",
       "4     28003                99     RIOS ROSAS   CHAMBERI                24542   \n",
       "\n",
       "   renta_media_hogar  restaurant_budget_per_household  \n",
       "0              79781                          3989.05  \n",
       "1              48326                          2416.30  \n",
       "2              49050                          2452.50  \n",
       "3              72370                          3618.50  \n",
       "4              55425                          2771.25  "
      ]
     },
     "execution_count": 3,
     "metadata": {},
     "output_type": "execute_result"
    }
   ],
   "source": [
    "income = pd.read_csv('/Users/Usuario/demo/Ironhack/Final_Project/raw_data/Tableau/income_zones.csv')\n",
    "income.drop('Unnamed: 0', axis=1, inplace=True)\n",
    "income.head()"
   ]
  },
  {
   "cell_type": "code",
   "execution_count": 30,
   "id": "bac0eab9",
   "metadata": {},
   "outputs": [
    {
     "data": {
      "text/plain": [
       "array(['SALAMANCA', 'CHAMARTIN', 'CHAMBERI', 'MONCLOA-ARAVACA', 'CENTRO',\n",
       "       'ARGANZUELA', 'RETIRO', 'LATINA', 'CIUDAD LINEAL',\n",
       "       'PUENTE DE VALLECAS', 'CARABANCHEL', 'TETUAN', 'VILLAVERDE',\n",
       "       'SAN BLAS-CANILLEJAS', 'USERA', 'FUENCARRAL-EL PARDO', 'MORATALAZ',\n",
       "       'VILLA DE VALLECAS', 'VICALVARO', 'HORTALEZA', 'BARAJAS'],\n",
       "      dtype=object)"
      ]
     },
     "execution_count": 30,
     "metadata": {},
     "output_type": "execute_result"
    }
   ],
   "source": [
    "income['distrito'].unique()"
   ]
  },
  {
   "cell_type": "code",
   "execution_count": 4,
   "id": "97332469",
   "metadata": {
    "scrolled": true
   },
   "outputs": [
    {
     "data": {
      "text/html": [
       "<div>\n",
       "<style scoped>\n",
       "    .dataframe tbody tr th:only-of-type {\n",
       "        vertical-align: middle;\n",
       "    }\n",
       "\n",
       "    .dataframe tbody tr th {\n",
       "        vertical-align: top;\n",
       "    }\n",
       "\n",
       "    .dataframe thead th {\n",
       "        text-align: right;\n",
       "    }\n",
       "</style>\n",
       "<table border=\"1\" class=\"dataframe\">\n",
       "  <thead>\n",
       "    <tr style=\"text-align: right;\">\n",
       "      <th></th>\n",
       "      <th>Unnamed: 0</th>\n",
       "      <th>distrito</th>\n",
       "      <th>restaurant_count</th>\n",
       "      <th>total_population</th>\n",
       "      <th>0_to_15</th>\n",
       "      <th>16_to_64</th>\n",
       "      <th>65_to_80</th>\n",
       "      <th>80+</th>\n",
       "      <th>restaurants_per_capita</th>\n",
       "      <th>renta_media_persona</th>\n",
       "      <th>renta_media_hogar</th>\n",
       "      <th>surface_km2</th>\n",
       "      <th>restaurants_per_district_area</th>\n",
       "    </tr>\n",
       "  </thead>\n",
       "  <tbody>\n",
       "    <tr>\n",
       "      <th>0</th>\n",
       "      <td>0</td>\n",
       "      <td>ARGANZUELA</td>\n",
       "      <td>990</td>\n",
       "      <td>152638</td>\n",
       "      <td>18003</td>\n",
       "      <td>103423</td>\n",
       "      <td>31212</td>\n",
       "      <td>9630</td>\n",
       "      <td>0.006486</td>\n",
       "      <td>132175</td>\n",
       "      <td>319474</td>\n",
       "      <td>6.52</td>\n",
       "      <td>151.840491</td>\n",
       "    </tr>\n",
       "    <tr>\n",
       "      <th>1</th>\n",
       "      <td>1</td>\n",
       "      <td>BARAJAS</td>\n",
       "      <td>1050</td>\n",
       "      <td>48404</td>\n",
       "      <td>8098</td>\n",
       "      <td>31218</td>\n",
       "      <td>9086</td>\n",
       "      <td>2438</td>\n",
       "      <td>0.021692</td>\n",
       "      <td>87310</td>\n",
       "      <td>234448</td>\n",
       "      <td>43.56</td>\n",
       "      <td>24.104683</td>\n",
       "    </tr>\n",
       "    <tr>\n",
       "      <th>2</th>\n",
       "      <td>2</td>\n",
       "      <td>CARABANCHEL</td>\n",
       "      <td>663</td>\n",
       "      <td>255514</td>\n",
       "      <td>35453</td>\n",
       "      <td>172192</td>\n",
       "      <td>47868</td>\n",
       "      <td>17711</td>\n",
       "      <td>0.002595</td>\n",
       "      <td>82178</td>\n",
       "      <td>215122</td>\n",
       "      <td>14.10</td>\n",
       "      <td>47.021277</td>\n",
       "    </tr>\n",
       "    <tr>\n",
       "      <th>3</th>\n",
       "      <td>3</td>\n",
       "      <td>CENTRO</td>\n",
       "      <td>596</td>\n",
       "      <td>139682</td>\n",
       "      <td>10281</td>\n",
       "      <td>107486</td>\n",
       "      <td>21914</td>\n",
       "      <td>6886</td>\n",
       "      <td>0.004267</td>\n",
       "      <td>113909</td>\n",
       "      <td>230463</td>\n",
       "      <td>5.21</td>\n",
       "      <td>114.395393</td>\n",
       "    </tr>\n",
       "    <tr>\n",
       "      <th>4</th>\n",
       "      <td>4</td>\n",
       "      <td>CHAMARTIN</td>\n",
       "      <td>562</td>\n",
       "      <td>144371</td>\n",
       "      <td>19388</td>\n",
       "      <td>90697</td>\n",
       "      <td>34286</td>\n",
       "      <td>12097</td>\n",
       "      <td>0.003893</td>\n",
       "      <td>155165</td>\n",
       "      <td>391692</td>\n",
       "      <td>9.12</td>\n",
       "      <td>61.622807</td>\n",
       "    </tr>\n",
       "  </tbody>\n",
       "</table>\n",
       "</div>"
      ],
      "text/plain": [
       "   Unnamed: 0     distrito  restaurant_count  total_population  0_to_15  \\\n",
       "0           0   ARGANZUELA               990            152638    18003   \n",
       "1           1      BARAJAS              1050             48404     8098   \n",
       "2           2  CARABANCHEL               663            255514    35453   \n",
       "3           3       CENTRO               596            139682    10281   \n",
       "4           4    CHAMARTIN               562            144371    19388   \n",
       "\n",
       "   16_to_64  65_to_80    80+  restaurants_per_capita  renta_media_persona  \\\n",
       "0    103423     31212   9630                0.006486               132175   \n",
       "1     31218      9086   2438                0.021692                87310   \n",
       "2    172192     47868  17711                0.002595                82178   \n",
       "3    107486     21914   6886                0.004267               113909   \n",
       "4     90697     34286  12097                0.003893               155165   \n",
       "\n",
       "   renta_media_hogar  surface_km2  restaurants_per_district_area  \n",
       "0             319474         6.52                     151.840491  \n",
       "1             234448        43.56                      24.104683  \n",
       "2             215122        14.10                      47.021277  \n",
       "3             230463         5.21                     114.395393  \n",
       "4             391692         9.12                      61.622807  "
      ]
     },
     "execution_count": 4,
     "metadata": {},
     "output_type": "execute_result"
    }
   ],
   "source": [
    "districts = pd.read_csv('/Users/Usuario/demo/Ironhack/Final_Project/raw_data/Tableau/district_full_info.csv')\n",
    "districts.head()"
   ]
  },
  {
   "cell_type": "code",
   "execution_count": 5,
   "id": "ca198ff4",
   "metadata": {},
   "outputs": [
    {
     "data": {
      "text/plain": [
       "array(['SALAMANCA', 'CHAMARTIN', 'CHAMBERI', 'MONCLOA-ARAVACA', 'CENTRO',\n",
       "       'ARGANZUELA', 'RETIRO', 'LATINA', 'CIUDAD LINEAL',\n",
       "       'PUENTE DE VALLECAS', 'CARABANCHEL', 'TETUAN', 'VILLAVERDE',\n",
       "       'SAN BLAS-CANILLEJAS', 'USERA', 'FUENCARRAL-EL PARDO', 'MORATALAZ',\n",
       "       'VILLA DE VALLECAS', 'VICALVARO', 'HORTALEZA', 'BARAJAS'],\n",
       "      dtype=object)"
      ]
     },
     "execution_count": 5,
     "metadata": {},
     "output_type": "execute_result"
    }
   ],
   "source": [
    "income['distrito'].unique()"
   ]
  },
  {
   "cell_type": "code",
   "execution_count": 6,
   "id": "90609865",
   "metadata": {},
   "outputs": [
    {
     "data": {
      "text/plain": [
       "array(['ARGANZUELA', 'BARAJAS', 'CARABANCHEL', 'CENTRO', 'CHAMARTIN',\n",
       "       'CHAMBERI', 'CIUDAD LINEAL', 'FUENCARRAL-EL PARDO', 'HORTALEZA',\n",
       "       'LATINA', 'MONCLOA-ARAVACA', 'MORATALAZ', 'PUENTE DE VALLECAS',\n",
       "       'RETIRO', 'SALAMANCA', 'SAN BLAS-CANILLEJAS', 'TETUAN', 'USERA',\n",
       "       'VICALVARO', 'VILLA DE VALLECAS', 'VILLAVERDE'], dtype=object)"
      ]
     },
     "execution_count": 6,
     "metadata": {},
     "output_type": "execute_result"
    }
   ],
   "source": [
    "districts['distrito'].unique()"
   ]
  },
  {
   "cell_type": "code",
   "execution_count": 7,
   "id": "c034e698",
   "metadata": {},
   "outputs": [
    {
     "data": {
      "text/plain": [
       "(21, 13)"
      ]
     },
     "execution_count": 7,
     "metadata": {},
     "output_type": "execute_result"
    }
   ],
   "source": [
    "districts.shape"
   ]
  },
  {
   "cell_type": "code",
   "execution_count": 8,
   "id": "c6886ae1",
   "metadata": {},
   "outputs": [
    {
     "data": {
      "text/plain": [
       "(128, 7)"
      ]
     },
     "execution_count": 8,
     "metadata": {},
     "output_type": "execute_result"
    }
   ],
   "source": [
    "income.shape"
   ]
  },
  {
   "cell_type": "code",
   "execution_count": 9,
   "id": "a6b18e2e",
   "metadata": {},
   "outputs": [
    {
     "data": {
      "text/plain": [
       "(21, 5)"
      ]
     },
     "execution_count": 9,
     "metadata": {},
     "output_type": "execute_result"
    }
   ],
   "source": [
    "idealista.shape"
   ]
  },
  {
   "cell_type": "code",
   "execution_count": 10,
   "id": "0518000f",
   "metadata": {},
   "outputs": [],
   "source": [
    "idealista_columns = ['distrito', 'Price_squared_meter', 'Monthly var', 'Quarterly var',\n",
    "       'Yearly var']\n",
    "idealista.columns = idealista_columns "
   ]
  },
  {
   "cell_type": "code",
   "execution_count": 11,
   "id": "376a52f7",
   "metadata": {},
   "outputs": [],
   "source": [
    "idealista['distrito'] = idealista['distrito'].replace(\"BARAJAS\",\"BARAJAS\")\n",
    "idealista['distrito'] = idealista['distrito'].replace(\"FUENCARRAL\",\"FUENCARRAL-EL PARDO\")\n",
    "idealista['distrito'] = idealista['distrito'].replace(\"SAN BLAS\",\"SAN BLAS-CANILLEJAS\")\n",
    "idealista['distrito'] = idealista['distrito'].replace(\"MONCLOA\",\"MONCLOA-ARAVACA\")"
   ]
  },
  {
   "cell_type": "code",
   "execution_count": 12,
   "id": "dca1635c",
   "metadata": {},
   "outputs": [],
   "source": [
    "new = pd.merge(idealista, districts, on='distrito')"
   ]
  },
  {
   "cell_type": "code",
   "execution_count": 17,
   "id": "892bdef8",
   "metadata": {},
   "outputs": [
    {
     "data": {
      "text/plain": [
       "Index(['distrito', 'Price_squared_meter', 'Monthly var', 'Quarterly var',\n",
       "       'Yearly var', 'Unnamed: 0', 'restaurant_count', 'total_population',\n",
       "       '0_to_15', '16_to_64', '65_to_80', '80+', 'restaurants_per_capita',\n",
       "       'renta_media_persona', 'renta_media_hogar', 'surface_km2',\n",
       "       'restaurants_per_district_area'],\n",
       "      dtype='object')"
      ]
     },
     "execution_count": 17,
     "metadata": {},
     "output_type": "execute_result"
    }
   ],
   "source": [
    "new.columns"
   ]
  },
  {
   "cell_type": "code",
   "execution_count": 18,
   "id": "666e9ce2",
   "metadata": {},
   "outputs": [],
   "source": [
    "new.drop(columns=['Monthly var', 'Quarterly var',\n",
    "       'Yearly var', 'Unnamed: 0'], axis=1, inplace=True)"
   ]
  },
  {
   "cell_type": "code",
   "execution_count": 19,
   "id": "81caab81",
   "metadata": {},
   "outputs": [],
   "source": [
    "new.to_csv('district_full_info.csv', index=False)"
   ]
  },
  {
   "cell_type": "code",
   "execution_count": 21,
   "id": "224603aa",
   "metadata": {},
   "outputs": [
    {
     "data": {
      "text/plain": [
       "distrito                          object\n",
       "Price_squared_meter              float64\n",
       "restaurant_count                   int64\n",
       "total_population                   int64\n",
       "0_to_15                            int64\n",
       "16_to_64                           int64\n",
       "65_to_80                           int64\n",
       "80+                                int64\n",
       "restaurants_per_capita           float64\n",
       "renta_media_persona                int64\n",
       "renta_media_hogar                  int64\n",
       "surface_km2                      float64\n",
       "restaurants_per_district_area    float64\n",
       "dtype: object"
      ]
     },
     "execution_count": 21,
     "metadata": {},
     "output_type": "execute_result"
    }
   ],
   "source": [
    "new.dtypes"
   ]
  },
  {
   "cell_type": "code",
   "execution_count": null,
   "id": "6c3cf2ad",
   "metadata": {},
   "outputs": [],
   "source": []
  }
 ],
 "metadata": {
  "kernelspec": {
   "display_name": "Python 3 (ipykernel)",
   "language": "python",
   "name": "python3"
  },
  "language_info": {
   "codemirror_mode": {
    "name": "ipython",
    "version": 3
   },
   "file_extension": ".py",
   "mimetype": "text/x-python",
   "name": "python",
   "nbconvert_exporter": "python",
   "pygments_lexer": "ipython3",
   "version": "3.9.12"
  }
 },
 "nbformat": 4,
 "nbformat_minor": 5
}
